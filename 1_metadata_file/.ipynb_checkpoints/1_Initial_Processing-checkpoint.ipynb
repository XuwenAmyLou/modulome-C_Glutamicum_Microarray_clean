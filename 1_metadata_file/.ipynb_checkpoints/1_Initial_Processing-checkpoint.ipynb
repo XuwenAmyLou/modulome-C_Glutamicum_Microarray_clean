{
 "cells": [
  {
   "cell_type": "markdown",
   "id": "ce050074",
   "metadata": {},
   "source": [
    "Data Type: microarray data with fluorescence intensity "
   ]
  },
  {
   "cell_type": "markdown",
   "id": "968c51c3",
   "metadata": {},
   "source": [
    "# Step 1: delete mean values, use median value for fluorescense intensity"
   ]
  },
  {
   "cell_type": "code",
   "execution_count": 2,
   "id": "ae553dbb",
   "metadata": {},
   "outputs": [],
   "source": [
    "import matplotlib.pyplot as plt\n",
    "import numpy as np\n",
    "import pandas as pd\n",
    "import seaborn as sns\n",
    "\n",
    "from os import path"
   ]
  },
  {
   "cell_type": "markdown",
   "id": "ddf1ba3c",
   "metadata": {},
   "source": [
    "**STEP 1: Take median data**\n",
    "* only done once, ignore for later steps\n",
    "* select median value only to avoid effect from extreme values"
   ]
  },
  {
   "cell_type": "code",
   "execution_count": null,
   "id": "df8eb4c9",
   "metadata": {},
   "outputs": [],
   "source": [
    "# mac\n",
    "rawdata_file = path.join('..','data','raw_data','/Users/louxuwen/Desktop/Documents/GitHub/modulome-C_Glutamicum_Microarray_clean/1_metadata_file/raw_data.xlsx') # Enter metadata filename here\n",
    "# linux\n",
    "#rawdata_file = path.join('..','data','raw_data','/home/amy/Documents/GitHub/modulome-C_Glutamicum_Microarray_clean/1_metadata_file/raw_data.xlsx') # Enter metadata filename here"
   ]
  },
  {
   "cell_type": "code",
   "execution_count": null,
   "id": "44b6e039",
   "metadata": {
    "scrolled": true
   },
   "outputs": [],
   "source": [
    "raw_data = pd.read_excel(rawdata_file,index_col=0).fillna(0);\n",
    "print('Number of genes:',raw_data.shape[1])\n",
    "print('Number of experiments:',raw_data.shape[0])"
   ]
  },
  {
   "cell_type": "code",
   "execution_count": null,
   "id": "f28c6328",
   "metadata": {},
   "outputs": [],
   "source": [
    "median_data = raw_data.loc[raw_data['Mean/Median'] == \"Median\"]"
   ]
  },
  {
   "cell_type": "code",
   "execution_count": null,
   "id": "a84a0b61",
   "metadata": {},
   "outputs": [],
   "source": [
    "print('Number of genes:',median_data.shape[1])\n",
    "print('Number of experiments:',median_data.shape[0])"
   ]
  },
  {
   "cell_type": "code",
   "execution_count": null,
   "id": "eae6cee1",
   "metadata": {},
   "outputs": [],
   "source": [
    "from pathlib import Path  \n",
    "filepath = Path('/Users/louxuwen/Desktop/Documents/GitHub/modulome-C_Glutamicum_Microarray_clean/1_metadata_file/median_data.xlsx')  \n",
    "filepath.parent.mkdir(parents=True, exist_ok=True)  \n",
    "median_data.to_excel(filepath)  "
   ]
  },
  {
   "cell_type": "markdown",
   "id": "1f51ca25",
   "metadata": {},
   "source": [
    "**STEP 2: take the difference between foreground and background data**\n",
    "* only done once, ignore for later steps\n",
    "* thanks to Zack, Griff and Josh for figuring out dataframe w me :)"
   ]
  },
  {
   "cell_type": "code",
   "execution_count": 2,
   "id": "7a12a2c0",
   "metadata": {},
   "outputs": [
    {
     "name": "stdout",
     "output_type": "stream",
     "text": [
      "Number of genes: 3051\n",
      "Number of experiments: 2100\n"
     ]
    }
   ],
   "source": [
    "mediandata_file = path.join('..','data','raw_data','/home/amy/Documents/GitHub/modulome-C_Glutamicum_Microarray_clean/1_metadata_file/median_data.xlsx') # Enter metadata filename here\n",
    "median_data = pd.read_excel(mediandata_file).fillna(0);\n",
    "print('Number of genes:',median_data.shape[1])\n",
    "print('Number of experiments:',median_data.shape[0])"
   ]
  },
  {
   "cell_type": "code",
   "execution_count": 3,
   "id": "3fef1cfb",
   "metadata": {},
   "outputs": [],
   "source": [
    "b_data = median_data.loc[median_data['Fluorescence'] == \"B635\"]\n",
    "f_data = median_data.loc[median_data['Fluorescence'] == \"F635\"]\n",
    "b_data = b_data.reset_index(drop=True)\n",
    "f_data = f_data.reset_index(drop=True)"
   ]
  },
  {
   "cell_type": "code",
   "execution_count": 6,
   "id": "1e3a0493",
   "metadata": {},
   "outputs": [],
   "source": [
    "net_data = f_data.copy() \n",
    "net_data.iloc[:,4:] = f_data.iloc[:,4:] - b_data.iloc[:,4:]"
   ]
  },
  {
   "cell_type": "code",
   "execution_count": 8,
   "id": "51a39bef",
   "metadata": {},
   "outputs": [
    {
     "data": {
      "text/html": [
       "<div>\n",
       "<style scoped>\n",
       "    .dataframe tbody tr th:only-of-type {\n",
       "        vertical-align: middle;\n",
       "    }\n",
       "\n",
       "    .dataframe tbody tr th {\n",
       "        vertical-align: top;\n",
       "    }\n",
       "\n",
       "    .dataframe thead th {\n",
       "        text-align: right;\n",
       "    }\n",
       "</style>\n",
       "<table border=\"1\" class=\"dataframe\">\n",
       "  <thead>\n",
       "    <tr style=\"text-align: right;\">\n",
       "      <th></th>\n",
       "      <th>Sample name</th>\n",
       "      <th>Label strain</th>\n",
       "      <th>cg0001</th>\n",
       "      <th>cg0002</th>\n",
       "      <th>cg0004</th>\n",
       "      <th>cg0005</th>\n",
       "      <th>cg0006</th>\n",
       "      <th>cg0007</th>\n",
       "      <th>cg0008</th>\n",
       "      <th>cg0009</th>\n",
       "      <th>...</th>\n",
       "      <th>cg3433</th>\n",
       "      <th>cg3434</th>\n",
       "      <th>cg4000</th>\n",
       "      <th>cg4001</th>\n",
       "      <th>cg4002</th>\n",
       "      <th>cg4003</th>\n",
       "      <th>cg4004</th>\n",
       "      <th>cg4005</th>\n",
       "      <th>cg4006</th>\n",
       "      <th>cg4007</th>\n",
       "    </tr>\n",
       "  </thead>\n",
       "  <tbody>\n",
       "    <tr>\n",
       "      <th>0</th>\n",
       "      <td>∆6C (0.75 µM mitomycin C) vs. WT (0.75 µM mito...</td>\n",
       "      <td>Cy5</td>\n",
       "      <td>404.6870</td>\n",
       "      <td>0.0</td>\n",
       "      <td>2932.1040</td>\n",
       "      <td>333.0</td>\n",
       "      <td>79.0</td>\n",
       "      <td>1345.9640</td>\n",
       "      <td>0.0</td>\n",
       "      <td>168.0</td>\n",
       "      <td>...</td>\n",
       "      <td>0.0</td>\n",
       "      <td>651.0000</td>\n",
       "      <td>0.0000</td>\n",
       "      <td>0.0</td>\n",
       "      <td>0.0</td>\n",
       "      <td>0.0000</td>\n",
       "      <td>0.0</td>\n",
       "      <td>2334.5650</td>\n",
       "      <td>0.0</td>\n",
       "      <td>592.0</td>\n",
       "    </tr>\n",
       "    <tr>\n",
       "      <th>1</th>\n",
       "      <td>∆6C (0.75 µM mitomycin C) vs. WT (0.75 µM mito...</td>\n",
       "      <td>Cy3</td>\n",
       "      <td>2507.0440</td>\n",
       "      <td>0.0</td>\n",
       "      <td>7801.1390</td>\n",
       "      <td>1978.0</td>\n",
       "      <td>1849.0</td>\n",
       "      <td>6165.9780</td>\n",
       "      <td>0.0</td>\n",
       "      <td>876.0</td>\n",
       "      <td>...</td>\n",
       "      <td>0.0</td>\n",
       "      <td>3738.0000</td>\n",
       "      <td>0.0000</td>\n",
       "      <td>0.0</td>\n",
       "      <td>0.0</td>\n",
       "      <td>0.0000</td>\n",
       "      <td>0.0</td>\n",
       "      <td>13018.5350</td>\n",
       "      <td>0.0</td>\n",
       "      <td>919.0</td>\n",
       "    </tr>\n",
       "    <tr>\n",
       "      <th>2</th>\n",
       "      <td>∆6C (0.75 µM mitomycin C) vs. WT (0.75 µM mito...</td>\n",
       "      <td>Cy5</td>\n",
       "      <td>-686.0000</td>\n",
       "      <td>0.0</td>\n",
       "      <td>1997.0000</td>\n",
       "      <td>0.0</td>\n",
       "      <td>0.0</td>\n",
       "      <td>1100.0000</td>\n",
       "      <td>0.0</td>\n",
       "      <td>0.0</td>\n",
       "      <td>...</td>\n",
       "      <td>0.0</td>\n",
       "      <td>0.0000</td>\n",
       "      <td>0.0000</td>\n",
       "      <td>0.0</td>\n",
       "      <td>0.0</td>\n",
       "      <td>0.0000</td>\n",
       "      <td>0.0</td>\n",
       "      <td>1123.5400</td>\n",
       "      <td>0.0</td>\n",
       "      <td>0.0</td>\n",
       "    </tr>\n",
       "    <tr>\n",
       "      <th>3</th>\n",
       "      <td>∆6C (0.75 µM mitomycin C) vs. WT (0.75 µM mito...</td>\n",
       "      <td>Cy3</td>\n",
       "      <td>1707.0000</td>\n",
       "      <td>0.0</td>\n",
       "      <td>4148.4400</td>\n",
       "      <td>0.0</td>\n",
       "      <td>0.0</td>\n",
       "      <td>4234.0000</td>\n",
       "      <td>0.0</td>\n",
       "      <td>0.0</td>\n",
       "      <td>...</td>\n",
       "      <td>0.0</td>\n",
       "      <td>0.0000</td>\n",
       "      <td>0.0000</td>\n",
       "      <td>0.0</td>\n",
       "      <td>0.0</td>\n",
       "      <td>0.0000</td>\n",
       "      <td>0.0</td>\n",
       "      <td>7716.1790</td>\n",
       "      <td>0.0</td>\n",
       "      <td>0.0</td>\n",
       "    </tr>\n",
       "    <tr>\n",
       "      <th>4</th>\n",
       "      <td>∆6C (0.75 µM mitomycin C) vs. WT (0.75 µM mito...</td>\n",
       "      <td>Cy5</td>\n",
       "      <td>-88.0000</td>\n",
       "      <td>0.0</td>\n",
       "      <td>1793.6540</td>\n",
       "      <td>291.0</td>\n",
       "      <td>269.0</td>\n",
       "      <td>1137.7310</td>\n",
       "      <td>207.0</td>\n",
       "      <td>8.0</td>\n",
       "      <td>...</td>\n",
       "      <td>0.0</td>\n",
       "      <td>217.0000</td>\n",
       "      <td>0.0000</td>\n",
       "      <td>0.0</td>\n",
       "      <td>0.0</td>\n",
       "      <td>0.0000</td>\n",
       "      <td>0.0</td>\n",
       "      <td>1434.8750</td>\n",
       "      <td>0.0</td>\n",
       "      <td>366.0</td>\n",
       "    </tr>\n",
       "    <tr>\n",
       "      <th>...</th>\n",
       "      <td>...</td>\n",
       "      <td>...</td>\n",
       "      <td>...</td>\n",
       "      <td>...</td>\n",
       "      <td>...</td>\n",
       "      <td>...</td>\n",
       "      <td>...</td>\n",
       "      <td>...</td>\n",
       "      <td>...</td>\n",
       "      <td>...</td>\n",
       "      <td>...</td>\n",
       "      <td>...</td>\n",
       "      <td>...</td>\n",
       "      <td>...</td>\n",
       "      <td>...</td>\n",
       "      <td>...</td>\n",
       "      <td>...</td>\n",
       "      <td>...</td>\n",
       "      <td>...</td>\n",
       "      <td>...</td>\n",
       "      <td>...</td>\n",
       "    </tr>\n",
       "    <tr>\n",
       "      <th>1045</th>\n",
       "      <td>WT PnrdH::Ptuf PctaE::Ptuf PctaC::Ptuf vs. WT-...</td>\n",
       "      <td>Cy5</td>\n",
       "      <td>362.9568</td>\n",
       "      <td>0.0</td>\n",
       "      <td>1391.4229</td>\n",
       "      <td>0.0</td>\n",
       "      <td>0.0</td>\n",
       "      <td>1438.2113</td>\n",
       "      <td>0.0</td>\n",
       "      <td>0.0</td>\n",
       "      <td>...</td>\n",
       "      <td>0.0</td>\n",
       "      <td>0.0000</td>\n",
       "      <td>4113.5476</td>\n",
       "      <td>0.0</td>\n",
       "      <td>0.0</td>\n",
       "      <td>873.2965</td>\n",
       "      <td>0.0</td>\n",
       "      <td>1165.4918</td>\n",
       "      <td>0.0</td>\n",
       "      <td>0.0</td>\n",
       "    </tr>\n",
       "    <tr>\n",
       "      <th>1046</th>\n",
       "      <td>WT PnrdH::Ptuf PctaE::Ptuf PctaC::Ptuf vs. WT-...</td>\n",
       "      <td>Cy3</td>\n",
       "      <td>550.2436</td>\n",
       "      <td>0.0</td>\n",
       "      <td>1346.9563</td>\n",
       "      <td>0.0</td>\n",
       "      <td>0.0</td>\n",
       "      <td>1927.5223</td>\n",
       "      <td>0.0</td>\n",
       "      <td>0.0</td>\n",
       "      <td>...</td>\n",
       "      <td>0.0</td>\n",
       "      <td>248.0000</td>\n",
       "      <td>2005.8423</td>\n",
       "      <td>0.0</td>\n",
       "      <td>0.0</td>\n",
       "      <td>549.9305</td>\n",
       "      <td>0.0</td>\n",
       "      <td>518.7719</td>\n",
       "      <td>0.0</td>\n",
       "      <td>0.0</td>\n",
       "    </tr>\n",
       "    <tr>\n",
       "      <th>1047</th>\n",
       "      <td>WT PnrdH::Ptuf PctaE::Ptuf PctaC::Ptuf vs. WT-...</td>\n",
       "      <td>Cy5</td>\n",
       "      <td>366.9057</td>\n",
       "      <td>0.0</td>\n",
       "      <td>1790.5143</td>\n",
       "      <td>0.0</td>\n",
       "      <td>0.0</td>\n",
       "      <td>1942.6430</td>\n",
       "      <td>0.0</td>\n",
       "      <td>0.0</td>\n",
       "      <td>...</td>\n",
       "      <td>0.0</td>\n",
       "      <td>210.0000</td>\n",
       "      <td>3311.0562</td>\n",
       "      <td>0.0</td>\n",
       "      <td>0.0</td>\n",
       "      <td>850.2862</td>\n",
       "      <td>0.0</td>\n",
       "      <td>850.2495</td>\n",
       "      <td>0.0</td>\n",
       "      <td>0.0</td>\n",
       "    </tr>\n",
       "    <tr>\n",
       "      <th>1048</th>\n",
       "      <td>WT PnrdH::Ptuf PctaE::Ptuf PctaC::Ptuf vs. WT-...</td>\n",
       "      <td>Cy5</td>\n",
       "      <td>444.4621</td>\n",
       "      <td>0.0</td>\n",
       "      <td>1327.0000</td>\n",
       "      <td>192.0</td>\n",
       "      <td>0.0</td>\n",
       "      <td>1050.6047</td>\n",
       "      <td>0.0</td>\n",
       "      <td>0.0</td>\n",
       "      <td>...</td>\n",
       "      <td>0.0</td>\n",
       "      <td>243.6434</td>\n",
       "      <td>1465.0000</td>\n",
       "      <td>0.0</td>\n",
       "      <td>0.0</td>\n",
       "      <td>525.6148</td>\n",
       "      <td>213.0</td>\n",
       "      <td>402.8105</td>\n",
       "      <td>0.0</td>\n",
       "      <td>0.0</td>\n",
       "    </tr>\n",
       "    <tr>\n",
       "      <th>1049</th>\n",
       "      <td>WT PnrdH::Ptuf PctaE::Ptuf PctaC::Ptuf vs. WT-...</td>\n",
       "      <td>Cy3</td>\n",
       "      <td>416.0970</td>\n",
       "      <td>0.0</td>\n",
       "      <td>1324.0000</td>\n",
       "      <td>178.0</td>\n",
       "      <td>0.0</td>\n",
       "      <td>1126.7418</td>\n",
       "      <td>0.0</td>\n",
       "      <td>0.0</td>\n",
       "      <td>...</td>\n",
       "      <td>0.0</td>\n",
       "      <td>111.7153</td>\n",
       "      <td>1272.0000</td>\n",
       "      <td>0.0</td>\n",
       "      <td>0.0</td>\n",
       "      <td>424.1944</td>\n",
       "      <td>143.0</td>\n",
       "      <td>423.3471</td>\n",
       "      <td>0.0</td>\n",
       "      <td>0.0</td>\n",
       "    </tr>\n",
       "  </tbody>\n",
       "</table>\n",
       "<p>1050 rows × 3049 columns</p>\n",
       "</div>"
      ],
      "text/plain": [
       "                                            Sample name Label strain  \\\n",
       "0     ∆6C (0.75 µM mitomycin C) vs. WT (0.75 µM mito...          Cy5   \n",
       "1     ∆6C (0.75 µM mitomycin C) vs. WT (0.75 µM mito...          Cy3   \n",
       "2     ∆6C (0.75 µM mitomycin C) vs. WT (0.75 µM mito...          Cy5   \n",
       "3     ∆6C (0.75 µM mitomycin C) vs. WT (0.75 µM mito...          Cy3   \n",
       "4     ∆6C (0.75 µM mitomycin C) vs. WT (0.75 µM mito...          Cy5   \n",
       "...                                                 ...          ...   \n",
       "1045  WT PnrdH::Ptuf PctaE::Ptuf PctaC::Ptuf vs. WT-...          Cy5   \n",
       "1046  WT PnrdH::Ptuf PctaE::Ptuf PctaC::Ptuf vs. WT-...          Cy3   \n",
       "1047  WT PnrdH::Ptuf PctaE::Ptuf PctaC::Ptuf vs. WT-...          Cy5   \n",
       "1048  WT PnrdH::Ptuf PctaE::Ptuf PctaC::Ptuf vs. WT-...          Cy5   \n",
       "1049  WT PnrdH::Ptuf PctaE::Ptuf PctaC::Ptuf vs. WT-...          Cy3   \n",
       "\n",
       "         cg0001  cg0002     cg0004  cg0005  cg0006     cg0007  cg0008  cg0009  \\\n",
       "0      404.6870     0.0  2932.1040   333.0    79.0  1345.9640     0.0   168.0   \n",
       "1     2507.0440     0.0  7801.1390  1978.0  1849.0  6165.9780     0.0   876.0   \n",
       "2     -686.0000     0.0  1997.0000     0.0     0.0  1100.0000     0.0     0.0   \n",
       "3     1707.0000     0.0  4148.4400     0.0     0.0  4234.0000     0.0     0.0   \n",
       "4      -88.0000     0.0  1793.6540   291.0   269.0  1137.7310   207.0     8.0   \n",
       "...         ...     ...        ...     ...     ...        ...     ...     ...   \n",
       "1045   362.9568     0.0  1391.4229     0.0     0.0  1438.2113     0.0     0.0   \n",
       "1046   550.2436     0.0  1346.9563     0.0     0.0  1927.5223     0.0     0.0   \n",
       "1047   366.9057     0.0  1790.5143     0.0     0.0  1942.6430     0.0     0.0   \n",
       "1048   444.4621     0.0  1327.0000   192.0     0.0  1050.6047     0.0     0.0   \n",
       "1049   416.0970     0.0  1324.0000   178.0     0.0  1126.7418     0.0     0.0   \n",
       "\n",
       "      ...  cg3433     cg3434     cg4000  cg4001  cg4002    cg4003  cg4004  \\\n",
       "0     ...     0.0   651.0000     0.0000     0.0     0.0    0.0000     0.0   \n",
       "1     ...     0.0  3738.0000     0.0000     0.0     0.0    0.0000     0.0   \n",
       "2     ...     0.0     0.0000     0.0000     0.0     0.0    0.0000     0.0   \n",
       "3     ...     0.0     0.0000     0.0000     0.0     0.0    0.0000     0.0   \n",
       "4     ...     0.0   217.0000     0.0000     0.0     0.0    0.0000     0.0   \n",
       "...   ...     ...        ...        ...     ...     ...       ...     ...   \n",
       "1045  ...     0.0     0.0000  4113.5476     0.0     0.0  873.2965     0.0   \n",
       "1046  ...     0.0   248.0000  2005.8423     0.0     0.0  549.9305     0.0   \n",
       "1047  ...     0.0   210.0000  3311.0562     0.0     0.0  850.2862     0.0   \n",
       "1048  ...     0.0   243.6434  1465.0000     0.0     0.0  525.6148   213.0   \n",
       "1049  ...     0.0   111.7153  1272.0000     0.0     0.0  424.1944   143.0   \n",
       "\n",
       "          cg4005  cg4006  cg4007  \n",
       "0      2334.5650     0.0   592.0  \n",
       "1     13018.5350     0.0   919.0  \n",
       "2      1123.5400     0.0     0.0  \n",
       "3      7716.1790     0.0     0.0  \n",
       "4      1434.8750     0.0   366.0  \n",
       "...          ...     ...     ...  \n",
       "1045   1165.4918     0.0     0.0  \n",
       "1046    518.7719     0.0     0.0  \n",
       "1047    850.2495     0.0     0.0  \n",
       "1048    402.8105     0.0     0.0  \n",
       "1049    423.3471     0.0     0.0  \n",
       "\n",
       "[1050 rows x 3049 columns]"
      ]
     },
     "execution_count": 8,
     "metadata": {},
     "output_type": "execute_result"
    }
   ],
   "source": [
    "net_data.drop(columns = ['Mean/Median' , 'Fluorescence'])"
   ]
  },
  {
   "cell_type": "code",
   "execution_count": 10,
   "id": "92ea0707",
   "metadata": {},
   "outputs": [],
   "source": [
    "from pathlib import Path  \n",
    "filepath = Path('/home/amy/Documents/GitHub/modulome-C_Glutamicum_Microarray_clean/1_metadata_file/net_data.xlsx')  \n",
    "filepath.parent.mkdir(parents=True, exist_ok=True)  \n",
    "net_data.to_excel(filepath)  "
   ]
  },
  {
   "cell_type": "markdown",
   "id": "6eb766c3",
   "metadata": {},
   "source": [
    "**STEP 3: Dye Swap**"
   ]
  },
  {
   "cell_type": "code",
   "execution_count": null,
   "id": "a4877f10",
   "metadata": {},
   "outputs": [],
   "source": [
    "net_data_file = path.join('..','data','net_data','/home/amy/Documents/GitHub/modulome-C_Glutamicum_Microarray_clean/1_metadata_file/net_data.xlsx') # Enter metadata filename here\n",
    "dye_file = path.join('..','data','dye_label_data','/home/amy/Documents/GitHub/modulome-C_Glutamicum_Microarray_clean/1_metadata_file/dye_label.xlsx') # Enter metadata filename here\n",
    "net_data = pd.read_excel(net_data_file);\n",
    "dye_label = pd.read_excel(dye_file);\n",
    "print('Number of experiments:',dye_label.shape[0])\n",
    "dye_label = dye_label.drop(columns = ['Unnamed: 2'])"
   ]
  },
  {
   "cell_type": "code",
   "execution_count": 4,
   "id": "18e23700",
   "metadata": {},
   "outputs": [],
   "source": [
    "swap = dye_label.loc[dye_label['Label'] == \"Cy3/Cy5\"]\n",
    "swap_list = swap[\"Sample\"].tolist()"
   ]
  },
  {
   "cell_type": "code",
   "execution_count": 5,
   "id": "489c87f2",
   "metadata": {},
   "outputs": [
    {
     "ename": "NameError",
     "evalue": "name 'net_data' is not defined",
     "output_type": "error",
     "traceback": [
      "\u001b[0;31m---------------------------------------------------------------------------\u001b[0m",
      "\u001b[0;31mNameError\u001b[0m                                 Traceback (most recent call last)",
      "\u001b[0;32m/tmp/ipykernel_6608/3594272349.py\u001b[0m in \u001b[0;36m<module>\u001b[0;34m\u001b[0m\n\u001b[0;32m----> 1\u001b[0;31m \u001b[0msample_list\u001b[0m \u001b[0;34m=\u001b[0m \u001b[0mnet_data\u001b[0m\u001b[0;34m[\u001b[0m\u001b[0;34m\"Sample name\"\u001b[0m\u001b[0;34m]\u001b[0m\u001b[0;34m.\u001b[0m\u001b[0mtolist\u001b[0m\u001b[0;34m(\u001b[0m\u001b[0;34m)\u001b[0m\u001b[0;34m\u001b[0m\u001b[0;34m\u001b[0m\u001b[0m\n\u001b[0m",
      "\u001b[0;31mNameError\u001b[0m: name 'net_data' is not defined"
     ]
    }
   ],
   "source": [
    "sample_list = net_data[\"Sample name\"].tolist()"
   ]
  },
  {
   "cell_type": "code",
   "execution_count": 43,
   "id": "5782b751",
   "metadata": {},
   "outputs": [
    {
     "name": "stdout",
     "output_type": "stream",
     "text": [
      "521\n"
     ]
    }
   ],
   "source": [
    "c =  len([i for i in dye_list if i in sample_list ])\n",
    "print(c)"
   ]
  },
  {
   "cell_type": "code",
   "execution_count": 40,
   "id": "04daae81",
   "metadata": {},
   "outputs": [],
   "source": [
    "dye_list = dye_label[\"Sample\"].tolist()"
   ]
  },
  {
   "cell_type": "code",
   "execution_count": 41,
   "id": "401b399c",
   "metadata": {},
   "outputs": [
    {
     "data": {
      "text/plain": [
       "927"
      ]
     },
     "execution_count": 41,
     "metadata": {},
     "output_type": "execute_result"
    }
   ],
   "source": []
  },
  {
   "cell_type": "code",
   "execution_count": 38,
   "id": "b16b3449",
   "metadata": {},
   "outputs": [
    {
     "data": {
      "text/plain": [
       "330"
      ]
     },
     "execution_count": 38,
     "metadata": {},
     "output_type": "execute_result"
    }
   ],
   "source": []
  },
  {
   "cell_type": "code",
   "execution_count": 39,
   "id": "d75d4b3e",
   "metadata": {},
   "outputs": [
    {
     "data": {
      "text/plain": [
       "1050"
      ]
     },
     "execution_count": 39,
     "metadata": {},
     "output_type": "execute_result"
    }
   ],
   "source": []
  },
  {
   "cell_type": "code",
   "execution_count": null,
   "id": "1a3e5e88",
   "metadata": {},
   "outputs": [],
   "source": []
  }
 ],
 "metadata": {
  "kernelspec": {
   "display_name": "Python 3 (ipykernel)",
   "language": "python",
   "name": "python3"
  },
  "language_info": {
   "codemirror_mode": {
    "name": "ipython",
    "version": 3
   },
   "file_extension": ".py",
   "mimetype": "text/x-python",
   "name": "python",
   "nbconvert_exporter": "python",
   "pygments_lexer": "ipython3",
   "version": "3.7.16"
  }
 },
 "nbformat": 4,
 "nbformat_minor": 5
}
