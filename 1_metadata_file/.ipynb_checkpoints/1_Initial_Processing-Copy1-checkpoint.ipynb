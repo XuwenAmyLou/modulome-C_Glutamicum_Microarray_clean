{
 "cells": [
  {
   "cell_type": "markdown",
   "id": "ce050074",
   "metadata": {},
   "source": [
    "Data Type: microarray data with fluorescence intensity "
   ]
  },
  {
   "cell_type": "code",
   "execution_count": 2,
   "id": "ae553dbb",
   "metadata": {},
   "outputs": [],
   "source": [
    "import matplotlib.pyplot as plt\n",
    "import numpy as np\n",
    "import pandas as pd\n",
    "import seaborn as sns\n",
    "\n",
    "from os import path\n",
    "from pathlib import Path  "
   ]
  },
  {
   "cell_type": "markdown",
   "id": "ddf1ba3c",
   "metadata": {},
   "source": [
    "# STEP 1: Take median data\n",
    "* only done once, ignore for later steps\n",
    "* select median value only to avoid effect from extreme values"
   ]
  },
  {
   "cell_type": "code",
   "execution_count": null,
   "id": "df8eb4c9",
   "metadata": {},
   "outputs": [],
   "source": [
    "# mac\n",
    "#rawdata_file = path.join('..','data','raw_data','/Users/louxuwen/Desktop/Documents/GitHub/modulome-C_Glutamicum_Microarray_clean/1_metadata_file/raw_data.xlsx') # Enter metadata filename here\n",
    "# linux\n",
    "rawdata_file = path.join('..','data','raw_data','/home/amy/Documents/GitHub/modulome-C_Glutamicum_Microarray_clean/1_metadata_file/Raw Data.xlsx') # Enter metadata filename here"
   ]
  },
  {
   "cell_type": "code",
   "execution_count": null,
   "id": "44b6e039",
   "metadata": {
    "scrolled": true
   },
   "outputs": [],
   "source": [
    "raw_data = pd.read_excel(rawdata_file,index_col=0).fillna(0);"
   ]
  },
  {
   "cell_type": "code",
   "execution_count": null,
   "id": "f28c6328",
   "metadata": {},
   "outputs": [],
   "source": [
    "median_data = raw_data.loc[raw_data['Mean/Median'] == \"Median\"]"
   ]
  },
  {
   "cell_type": "code",
   "execution_count": null,
   "id": "a84a0b61",
   "metadata": {},
   "outputs": [],
   "source": [
    "print('Number of genes:',median_data.shape[1])\n",
    "print('Number of experiments:',median_data.shape[0])"
   ]
  },
  {
   "cell_type": "code",
   "execution_count": null,
   "id": "eae6cee1",
   "metadata": {},
   "outputs": [],
   "source": [
    "from pathlib import Path  \n",
    "filepath = Path('/home/amy/Documents/GitHub/modulome-C_Glutamicum_Microarray_clean/1_metadata_file/1_median_data.xlsx')  \n",
    "filepath.parent.mkdir(parents=True, exist_ok=True)  \n",
    "median_data.to_excel(filepath)  "
   ]
  },
  {
   "cell_type": "markdown",
   "id": "1f51ca25",
   "metadata": {},
   "source": [
    "# STEP 2: take the difference between foreground and background data\n",
    "* only done once, ignore for later steps"
   ]
  },
  {
   "cell_type": "code",
   "execution_count": null,
   "id": "7a12a2c0",
   "metadata": {},
   "outputs": [],
   "source": [
    "mediandata_file = path.join('/Users/louxuwen/Desktop/Documents/GitHub/modulome-C_Glutamicum_Microarray_clean/1_metadata_file/1_median_data.xlsx') # Enter metadata filename here\n",
    "median_data = pd.read_excel(mediandata_file).fillna(0);"
   ]
  },
  {
   "cell_type": "markdown",
   "id": "891ae285",
   "metadata": {},
   "source": [
    "Inspect each experiment to make sure there are exactly four rows of each kind"
   ]
  },
  {
   "cell_type": "code",
   "execution_count": null,
   "id": "e52cd4dd",
   "metadata": {},
   "outputs": [],
   "source": [
    "samples_list = median_data[\"Sample name\"].tolist()\n",
    "samples_options = set(samples_list)\n",
    "print(\"There are \"+str(len(samples_options))+\" experiments in the sheet.\")"
   ]
  },
  {
   "cell_type": "code",
   "execution_count": null,
   "id": "92725ae6",
   "metadata": {},
   "outputs": [],
   "source": [
    "incomplete_samples = []\n",
    "for i in samples_options:\n",
    "    a = median_data[median_data[\"Sample name\"] == i]\n",
    "    l5 = a[a[\"Label strain\"] == \"Cy5\"]\n",
    "    F5 = l5[\"Fluorescence\"].tolist()\n",
    "    l3 = a[a[\"Label strain\"] == \"Cy3\"]\n",
    "    F3 = l3[\"Fluorescence\"].tolist()\n",
    "    if (len(F3) != 2) or (\"F635\" not in F3) or (\"B635\" not in F3) or (len(F5) != 2) or (\"F635\" not in F5) or (\"B635\" not in F5):\n",
    "        incomplete_samples.append(i)\n",
    "print(\"There are \"+str(len(incomplete_samples))+\" incomplete experiments in the sheet.\")"
   ]
  },
  {
   "cell_type": "markdown",
   "id": "02a74571",
   "metadata": {},
   "source": [
    "Remove the incomplete experiments"
   ]
  },
  {
   "cell_type": "code",
   "execution_count": null,
   "id": "d885c7d7",
   "metadata": {},
   "outputs": [],
   "source": [
    "for i in incomplete_samples:\n",
    "    median_data = median_data.drop(median_data[median_data[\"Sample name\"] == i].index)"
   ]
  },
  {
   "cell_type": "markdown",
   "id": "3ca53a71",
   "metadata": {},
   "source": [
    "split median_data for subtraction"
   ]
  },
  {
   "cell_type": "code",
   "execution_count": null,
   "id": "3fef1cfb",
   "metadata": {},
   "outputs": [],
   "source": [
    "b_data = median_data.loc[median_data['Fluorescence'] == \"B635\"]\n",
    "f_data = median_data.loc[median_data['Fluorescence'] == \"F635\"]\n",
    "b_data = b_data.reset_index(drop=True)\n",
    "f_data = f_data.reset_index(drop=True)"
   ]
  },
  {
   "cell_type": "markdown",
   "id": "12e050f4",
   "metadata": {},
   "source": [
    "Double check all incomplete experiments are removed"
   ]
  },
  {
   "cell_type": "code",
   "execution_count": null,
   "id": "54796ee4",
   "metadata": {},
   "outputs": [],
   "source": [
    "f_sample = f_data[\"Sample name\"].tolist()\n",
    "b_sample = b_data[\"Sample name\"].tolist()\n",
    "b_overflow = []\n",
    "length = len(b_sample)\n",
    "for i in range(length):\n",
    "    if b_sample[i] in f_sample:\n",
    "        f_sample.remove(b_sample[i])\n",
    "    else:\n",
    "        b_overflow.append(b_sample[i])"
   ]
  },
  {
   "cell_type": "code",
   "execution_count": null,
   "id": "47449a23",
   "metadata": {},
   "outputs": [],
   "source": [
    "f_sample"
   ]
  },
  {
   "cell_type": "code",
   "execution_count": null,
   "id": "e8e4eaf8",
   "metadata": {},
   "outputs": [],
   "source": [
    "b_overflow"
   ]
  },
  {
   "cell_type": "markdown",
   "id": "b8eabac9",
   "metadata": {},
   "source": [
    "Now obtain the net_data"
   ]
  },
  {
   "cell_type": "code",
   "execution_count": null,
   "id": "1e3a0493",
   "metadata": {},
   "outputs": [],
   "source": [
    "net_data = f_data.copy() \n",
    "net_data.iloc[:,5:] = f_data.iloc[:,5:] - b_data.iloc[:,5:]"
   ]
  },
  {
   "cell_type": "code",
   "execution_count": null,
   "id": "92ea0707",
   "metadata": {},
   "outputs": [],
   "source": [
    "from pathlib import Path  \n",
    "filepath = Path('/Users/louxuwen/Desktop/Documents/GitHub/modulome-C_Glutamicum_Microarray_clean/1_metadata_file/2_net_data.xlsx')  \n",
    "filepath.parent.mkdir(parents=True, exist_ok=True)  \n",
    "net_data.to_excel(filepath)  "
   ]
  },
  {
   "cell_type": "markdown",
   "id": "7d1034f5",
   "metadata": {},
   "source": [
    "# STEP 3: check against condition file and add Series number\n",
    "* only done once, ignore for later steps"
   ]
  },
  {
   "cell_type": "code",
   "execution_count": 3,
   "id": "cb6ba912",
   "metadata": {},
   "outputs": [],
   "source": [
    "netdata_file = path.join('/Users/louxuwen/Desktop/Documents/GitHub/modulome-C_Glutamicum_Microarray_clean/1_metadata_file/2_net_data.xlsx') # Enter metadata filename here\n",
    "net_data = pd.read_excel(netdata_file,index_col=0)\n",
    "conditions_file = path.join('/Users/louxuwen/Desktop/Documents/GitHub/modulome-C_Glutamicum_Microarray_clean/2_Condition_Extraction/conditions.xlsx') # Enter metadata filename here\n",
    "conditions = pd.read_excel(conditions_file,index_col=0)"
   ]
  },
  {
   "cell_type": "markdown",
   "id": "b70be9eb",
   "metadata": {},
   "source": [
    "Check if the titles match in both files"
   ]
  },
  {
   "cell_type": "code",
   "execution_count": 4,
   "id": "347fce78",
   "metadata": {},
   "outputs": [
    {
     "name": "stdout",
     "output_type": "stream",
     "text": [
      "There are 66 experiments with unmatched title\n"
     ]
    }
   ],
   "source": [
    "unmatched = []\n",
    "\n",
    "n_s = set(net_data[\"Sample name\"].tolist())\n",
    "c_s = set(conditions[\"Title\"].tolist())\n",
    "for i in n_s:\n",
    "    if i not in c_s:\n",
    "        unmatched.append(str(i))\n",
    "\n",
    "print(\"There are \" +str(len(unmatched)) +\" experiments with unmatched title\")\n"
   ]
  },
  {
   "cell_type": "code",
   "execution_count": 5,
   "id": "3b01ea0e",
   "metadata": {},
   "outputs": [],
   "source": [
    "df = pd.DataFrame(data=unmatched)\n",
    "\n",
    "from pathlib import Path  \n",
    "filepath = Path('/Users/louxuwen/Desktop/Documents/GitHub/modulome-C_Glutamicum_Microarray_clean/2_Condition_Extraction/3_unmatched.xlsx')  \n",
    "filepath.parent.mkdir(parents=True, exist_ok=True)  \n",
    "df.to_excel(filepath)  "
   ]
  },
  {
   "cell_type": "code",
   "execution_count": null,
   "id": "2ab000da",
   "metadata": {},
   "outputs": [],
   "source": []
  },
  {
   "cell_type": "code",
   "execution_count": null,
   "id": "2d365294",
   "metadata": {},
   "outputs": [],
   "source": []
  },
  {
   "cell_type": "code",
   "execution_count": null,
   "id": "ccffb355",
   "metadata": {},
   "outputs": [],
   "source": []
  },
  {
   "cell_type": "code",
   "execution_count": null,
   "id": "d7bba2e4",
   "metadata": {},
   "outputs": [],
   "source": []
  }
 ],
 "metadata": {
  "kernelspec": {
   "display_name": "Python 3 (ipykernel)",
   "language": "python",
   "name": "python3"
  },
  "language_info": {
   "codemirror_mode": {
    "name": "ipython",
    "version": 3
   },
   "file_extension": ".py",
   "mimetype": "text/x-python",
   "name": "python",
   "nbconvert_exporter": "python",
   "pygments_lexer": "ipython3",
   "version": "3.7.16"
  }
 },
 "nbformat": 4,
 "nbformat_minor": 5
}
