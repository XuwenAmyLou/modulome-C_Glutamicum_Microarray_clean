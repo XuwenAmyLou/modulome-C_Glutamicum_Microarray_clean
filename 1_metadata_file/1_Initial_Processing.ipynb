{
 "cells": [
  {
   "cell_type": "markdown",
   "id": "ce050074",
   "metadata": {},
   "source": [
    "Data Type: microarray data with fluorescence intensity "
   ]
  },
  {
   "cell_type": "markdown",
   "id": "968c51c3",
   "metadata": {},
   "source": [
    "# Step 1: delete mean values, use median value for fluorescense intensity"
   ]
  },
  {
   "cell_type": "code",
   "execution_count": 33,
   "id": "ae553dbb",
   "metadata": {},
   "outputs": [],
   "source": [
    "import matplotlib.pyplot as plt\n",
    "import numpy as np\n",
    "import pandas as pd\n",
    "import seaborn as sns\n",
    "\n",
    "from os import path\n",
    "from pathlib import Path  "
   ]
  },
  {
   "cell_type": "markdown",
   "id": "ddf1ba3c",
   "metadata": {},
   "source": [
    "**STEP 1: Take median data**\n",
    "* only done once, ignore for later steps\n",
    "* select median value only to avoid effect from extreme values"
   ]
  },
  {
   "cell_type": "code",
   "execution_count": null,
   "id": "df8eb4c9",
   "metadata": {},
   "outputs": [],
   "source": [
    "# mac\n",
    "rawdata_file = path.join('..','data','raw_data','/Users/louxuwen/Desktop/Documents/GitHub/modulome-C_Glutamicum_Microarray_clean/1_metadata_file/raw_data.xlsx') # Enter metadata filename here\n",
    "# linux\n",
    "#rawdata_file = path.join('..','data','raw_data','/home/amy/Documents/GitHub/modulome-C_Glutamicum_Microarray_clean/1_metadata_file/raw_data.xlsx') # Enter metadata filename here"
   ]
  },
  {
   "cell_type": "code",
   "execution_count": null,
   "id": "44b6e039",
   "metadata": {
    "scrolled": true
   },
   "outputs": [],
   "source": [
    "raw_data = pd.read_excel(rawdata_file,index_col=0).fillna(0);\n",
    "print('Number of genes:',raw_data.shape[1])\n",
    "print('Number of experiments:',raw_data.shape[0])"
   ]
  },
  {
   "cell_type": "code",
   "execution_count": null,
   "id": "f28c6328",
   "metadata": {},
   "outputs": [],
   "source": [
    "median_data = raw_data.loc[raw_data['Mean/Median'] == \"Median\"]"
   ]
  },
  {
   "cell_type": "code",
   "execution_count": null,
   "id": "a84a0b61",
   "metadata": {},
   "outputs": [],
   "source": [
    "print('Number of genes:',median_data.shape[1])\n",
    "print('Number of experiments:',median_data.shape[0])"
   ]
  },
  {
   "cell_type": "code",
   "execution_count": null,
   "id": "eae6cee1",
   "metadata": {},
   "outputs": [],
   "source": [
    "from pathlib import Path  \n",
    "filepath = Path('/Users/louxuwen/Desktop/Documents/GitHub/modulome-C_Glutamicum_Microarray_clean/1_metadata_file/median_data.xlsx')  \n",
    "filepath.parent.mkdir(parents=True, exist_ok=True)  \n",
    "median_data.to_excel(filepath)  "
   ]
  },
  {
   "cell_type": "markdown",
   "id": "1f51ca25",
   "metadata": {},
   "source": [
    "**STEP 2: take the difference between foreground and background data**\n",
    "* only done once, ignore for later steps\n",
    "* thanks to Zack, Griff and Josh for figuring out dataframe w me :)"
   ]
  },
  {
   "cell_type": "code",
   "execution_count": null,
   "id": "7a12a2c0",
   "metadata": {},
   "outputs": [],
   "source": [
    "mediandata_file = path.join('..','data','raw_data','/home/amy/Documents/GitHub/modulome-C_Glutamicum_Microarray_clean/1_metadata_file/median_data.xlsx') # Enter metadata filename here\n",
    "median_data = pd.read_excel(mediandata_file).fillna(0);\n",
    "print('Number of genes:',median_data.shape[1])\n",
    "print('Number of experiments:',median_data.shape[0])"
   ]
  },
  {
   "cell_type": "code",
   "execution_count": null,
   "id": "3fef1cfb",
   "metadata": {},
   "outputs": [],
   "source": [
    "b_data = median_data.loc[median_data['Fluorescence'] == \"B635\"]\n",
    "f_data = median_data.loc[median_data['Fluorescence'] == \"F635\"]\n",
    "b_data = b_data.reset_index(drop=True)\n",
    "f_data = f_data.reset_index(drop=True)"
   ]
  },
  {
   "cell_type": "code",
   "execution_count": null,
   "id": "1e3a0493",
   "metadata": {},
   "outputs": [],
   "source": [
    "net_data = f_data.copy() \n",
    "net_data.iloc[:,4:] = f_data.iloc[:,4:] - b_data.iloc[:,4:]"
   ]
  },
  {
   "cell_type": "code",
   "execution_count": null,
   "id": "51a39bef",
   "metadata": {},
   "outputs": [],
   "source": [
    "net_data.drop(columns = ['Mean/Median' , 'Fluorescence'])"
   ]
  },
  {
   "cell_type": "code",
   "execution_count": null,
   "id": "92ea0707",
   "metadata": {},
   "outputs": [],
   "source": [
    "from pathlib import Path  \n",
    "filepath = Path('/home/amy/Documents/GitHub/modulome-C_Glutamicum_Microarray_clean/1_metadata_file/net_data.xlsx')  \n",
    "filepath.parent.mkdir(parents=True, exist_ok=True)  \n",
    "net_data.to_excel(filepath)  "
   ]
  },
  {
   "cell_type": "markdown",
   "id": "6eb766c3",
   "metadata": {},
   "source": [
    "**STEP 3: Dye Swap (interrupted)**"
   ]
  },
  {
   "cell_type": "code",
   "execution_count": 2,
   "id": "a4877f10",
   "metadata": {},
   "outputs": [],
   "source": [
    "net_data_file = path.join('..','data','net_data','/home/amy/Documents/GitHub/modulome-C_Glutamicum_Microarray_clean/1_metadata_file/net_data.xlsx') # Enter metadata filename here\n",
    "dye_file = path.join('..','data','dye_label_data','/home/amy/Documents/GitHub/modulome-C_Glutamicum_Microarray_clean/1_metadata_file/dye_label.xlsx') # Enter metadata filename here\n",
    "net_data = pd.read_excel(net_data_file);\n",
    "dye_label = pd.read_excel(dye_file);"
   ]
  },
  {
   "cell_type": "code",
   "execution_count": 4,
   "id": "c9880c4c",
   "metadata": {},
   "outputs": [],
   "source": [
    "dye_label = dye_label.drop(columns = ['Unnamed: 2'])"
   ]
  },
  {
   "cell_type": "code",
   "execution_count": 5,
   "id": "bf982cfc",
   "metadata": {},
   "outputs": [
    {
     "name": "stdout",
     "output_type": "stream",
     "text": [
      "Number of experiments in the dye list: 927\n"
     ]
    }
   ],
   "source": [
    "print('Number of experiments in the dye list:',dye_label.shape[0])"
   ]
  },
  {
   "cell_type": "code",
   "execution_count": 6,
   "id": "94469055",
   "metadata": {},
   "outputs": [
    {
     "data": {
      "text/html": [
       "<div>\n",
       "<style scoped>\n",
       "    .dataframe tbody tr th:only-of-type {\n",
       "        vertical-align: middle;\n",
       "    }\n",
       "\n",
       "    .dataframe tbody tr th {\n",
       "        vertical-align: top;\n",
       "    }\n",
       "\n",
       "    .dataframe thead th {\n",
       "        text-align: right;\n",
       "    }\n",
       "</style>\n",
       "<table border=\"1\" class=\"dataframe\">\n",
       "  <thead>\n",
       "    <tr style=\"text-align: right;\">\n",
       "      <th></th>\n",
       "      <th>Sample</th>\n",
       "      <th>Label</th>\n",
       "    </tr>\n",
       "  </thead>\n",
       "  <tbody>\n",
       "    <tr>\n",
       "      <th>0</th>\n",
       "      <td>WT (stationary phase, OD 30) vs. WT (exponenti...</td>\n",
       "      <td>Cy5/Cy3</td>\n",
       "    </tr>\n",
       "    <tr>\n",
       "      <th>1</th>\n",
       "      <td>WT (stationary phase, OD 30) vs. WT (exponenti...</td>\n",
       "      <td>Cy5/Cy3</td>\n",
       "    </tr>\n",
       "    <tr>\n",
       "      <th>2</th>\n",
       "      <td>WT (stationary phase, OD 30) vs. WT (exponenti...</td>\n",
       "      <td>Cy3/Cy5</td>\n",
       "    </tr>\n",
       "    <tr>\n",
       "      <th>3</th>\n",
       "      <td>WT (stationary phase, OD 30) vs. WT (exponenti...</td>\n",
       "      <td>Cy5/Cy3</td>\n",
       "    </tr>\n",
       "    <tr>\n",
       "      <th>4</th>\n",
       "      <td>WT (stationary phase, OD 75) vs. WT (exponenti...</td>\n",
       "      <td>Cy5/Cy3</td>\n",
       "    </tr>\n",
       "    <tr>\n",
       "      <th>...</th>\n",
       "      <td>...</td>\n",
       "      <td>...</td>\n",
       "    </tr>\n",
       "    <tr>\n",
       "      <th>922</th>\n",
       "      <td>WT PctaD::Ptuf PctaE::Ptuf PctaC::Ptuf vs. WT-...</td>\n",
       "      <td>Cy3/Cy5</td>\n",
       "    </tr>\n",
       "    <tr>\n",
       "      <th>923</th>\n",
       "      <td>WT PctaD::Ptuf PctaE::Ptuf PctaC::Ptuf vs. WT-...</td>\n",
       "      <td>Cy5/Cy3</td>\n",
       "    </tr>\n",
       "    <tr>\n",
       "      <th>924</th>\n",
       "      <td>WT PnrdH::Ptuf PctaE::Ptuf PctaC::Ptuf vs. WT-...</td>\n",
       "      <td>Cy5/Cy3</td>\n",
       "    </tr>\n",
       "    <tr>\n",
       "      <th>925</th>\n",
       "      <td>WT PnrdH::Ptuf PctaE::Ptuf PctaC::Ptuf vs. WT-...</td>\n",
       "      <td>Cy5/Cy3</td>\n",
       "    </tr>\n",
       "    <tr>\n",
       "      <th>926</th>\n",
       "      <td>WT PnrdH::Ptuf PctaE::Ptuf PctaC::Ptuf vs. WT-...</td>\n",
       "      <td>Cy3/Cy5</td>\n",
       "    </tr>\n",
       "  </tbody>\n",
       "</table>\n",
       "<p>927 rows × 2 columns</p>\n",
       "</div>"
      ],
      "text/plain": [
       "                                                Sample    Label\n",
       "0    WT (stationary phase, OD 30) vs. WT (exponenti...  Cy5/Cy3\n",
       "1    WT (stationary phase, OD 30) vs. WT (exponenti...  Cy5/Cy3\n",
       "2    WT (stationary phase, OD 30) vs. WT (exponenti...  Cy3/Cy5\n",
       "3    WT (stationary phase, OD 30) vs. WT (exponenti...  Cy5/Cy3\n",
       "4    WT (stationary phase, OD 75) vs. WT (exponenti...  Cy5/Cy3\n",
       "..                                                 ...      ...\n",
       "922  WT PctaD::Ptuf PctaE::Ptuf PctaC::Ptuf vs. WT-...  Cy3/Cy5\n",
       "923  WT PctaD::Ptuf PctaE::Ptuf PctaC::Ptuf vs. WT-...  Cy5/Cy3\n",
       "924  WT PnrdH::Ptuf PctaE::Ptuf PctaC::Ptuf vs. WT-...  Cy5/Cy3\n",
       "925  WT PnrdH::Ptuf PctaE::Ptuf PctaC::Ptuf vs. WT-...  Cy5/Cy3\n",
       "926  WT PnrdH::Ptuf PctaE::Ptuf PctaC::Ptuf vs. WT-...  Cy3/Cy5\n",
       "\n",
       "[927 rows x 2 columns]"
      ]
     },
     "execution_count": 6,
     "metadata": {},
     "output_type": "execute_result"
    }
   ],
   "source": [
    "dye_label"
   ]
  },
  {
   "cell_type": "code",
   "execution_count": 17,
   "id": "18e23700",
   "metadata": {},
   "outputs": [
    {
     "name": "stdout",
     "output_type": "stream",
     "text": [
      "Number of experiments that need to be swapped: 330\n"
     ]
    }
   ],
   "source": [
    "dye_label_list = dye_label['Sample'].tolist()\n",
    "swap = dye_label.loc[dye_label['Label'] == \"Cy3/Cy5\"]\n",
    "swap_list = swap[\"Sample\"].tolist()\n",
    "print('Number of experiments that need to be swapped:', len(swap_list))"
   ]
  },
  {
   "cell_type": "code",
   "execution_count": 15,
   "id": "489c87f2",
   "metadata": {},
   "outputs": [
    {
     "name": "stdout",
     "output_type": "stream",
     "text": [
      "Out of the experiments that need to be swapped,  186  has can be found in the sample list\n"
     ]
    }
   ],
   "source": [
    "sample_list = net_data[\"Sample name\"].tolist()\n",
    "c =  len([i for i in swap_list if i in sample_list ])\n",
    "print('Out of the experiments that need to be swapped, ', c, ' has can be found in the sample list')"
   ]
  },
  {
   "cell_type": "code",
   "execution_count": 18,
   "id": "401b399c",
   "metadata": {},
   "outputs": [
    {
     "name": "stdout",
     "output_type": "stream",
     "text": [
      "Out of the 927 experiments in the dye_label file,  521  has can be found in the sample list (1050 total)\n"
     ]
    }
   ],
   "source": [
    "d =  len([i for i in dye_label_list if i in sample_list])\n",
    "print('Out of the 927 experiments in the dye_label file, ', d, ' has can be found in the sample list (1050 total)')"
   ]
  },
  {
   "cell_type": "markdown",
   "id": "05f69b95",
   "metadata": {},
   "source": [
    "Here we noticed an issue, that the dye_label file uses different sample names compared to the metadatasheet\n",
    "Thus, need to manually sort through that first:\n",
    "* reduce he 1050 experiments to 927\n",
    "* make sure all 927 experiments' sample name matches"
   ]
  },
  {
   "cell_type": "code",
   "execution_count": 30,
   "id": "d75d4b3e",
   "metadata": {},
   "outputs": [
    {
     "name": "stdout",
     "output_type": "stream",
     "text": [
      "                                                     0\n",
      "0    WT (70 mM glutamine, w/o (NH4)2SO4 and urea) v...\n",
      "1    WT (70 mM glutamine, w/o (NH4)2SO4 and urea) v...\n",
      "2    WT (100 mM pyruvate) vs. WT (100 mM lactate)-rep1\n",
      "3    WT (100 mM pyruvate) vs. WT (100 mM lactate)-rep2\n",
      "4    WT (100 mM pyruvate) vs. WT (100 mM lactate)-rep3\n",
      "..                                                 ...\n",
      "401  ∆cgtSR5 (w/o CuSO4, OD 20) vs. ∆cgtSR5 (OD 20)...\n",
      "402  ∆cgtSR5 (w/o CuSO4, OD 20) vs. ∆cgtSR5 (OD 20)...\n",
      "403  ∆cgtSR5 (w/o CuSO4, OD 20) vs. ∆cgtSR5 (OD 20)...\n",
      "404  ∆cgtSR5 (w/o CuSO4, OD 20) vs. ∆cgtSR5 (OD 20)...\n",
      "405  DelAro4-4clpc mufasO pMKEX2-STSah (OD 5, 5 mM ...\n",
      "\n",
      "[406 rows x 1 columns]\n"
     ]
    }
   ],
   "source": [
    "Rename_list = []\n",
    "for i in dye_label_list:\n",
    "    if i not in sample_list:\n",
    "        Rename_list.append(i)\n",
    "Rename_df = pd.DataFrame(Rename_list)\n",
    "print(Rename_df)"
   ]
  },
  {
   "cell_type": "code",
   "execution_count": 34,
   "id": "1a3e5e88",
   "metadata": {},
   "outputs": [],
   "source": [
    "filepath = Path('/home/amy/Documents/GitHub/modulome-C_Glutamicum_Microarray_clean/1_metadata_file/rename_list.xlsx')  \n",
    "filepath.parent.mkdir(parents=True, exist_ok=True)  \n",
    "Rename_df.to_excel(filepath)  "
   ]
  },
  {
   "cell_type": "code",
   "execution_count": null,
   "id": "271fbe37",
   "metadata": {},
   "outputs": [],
   "source": []
  }
 ],
 "metadata": {
  "kernelspec": {
   "display_name": "Python 3 (ipykernel)",
   "language": "python",
   "name": "python3"
  },
  "language_info": {
   "codemirror_mode": {
    "name": "ipython",
    "version": 3
   },
   "file_extension": ".py",
   "mimetype": "text/x-python",
   "name": "python",
   "nbconvert_exporter": "python",
   "pygments_lexer": "ipython3",
   "version": "3.7.16"
  }
 },
 "nbformat": 4,
 "nbformat_minor": 5
}
