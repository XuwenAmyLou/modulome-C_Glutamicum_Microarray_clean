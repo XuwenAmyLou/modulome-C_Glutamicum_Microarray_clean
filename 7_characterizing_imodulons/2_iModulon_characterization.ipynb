{
 "cells": [
  {
   "cell_type": "markdown",
   "metadata": {},
   "source": [
    "# Setup\n",
    "This IPython notebook will walk through the steps of characterizing iModulons through the semi-automated tools in PyModulon. You will need:\n",
    "\n",
    "* M and A matrices\n",
    "* Expression data (e.g. `log_tpm_norm.csv`)\n",
    "* Gene table and KEGG/GO annotations (Generated in `gene_annotation.ipynb`)\n",
    "* Sample table, with a column for `project` and `condition`\n",
    "* TRN file\n",
    "\n",
    "Optional:\n",
    "* iModulon table (if you already have some characterized iModulons)"
   ]
  },
  {
   "cell_type": "code",
   "execution_count": 1,
   "metadata": {},
   "outputs": [],
   "source": [
    "from pymodulon.core import IcaData\n",
    "from pymodulon.plotting import *\n",
    "from os import path\n",
    "import pandas as pd\n",
    "import re\n",
    "from Bio.KEGG import REST\n",
    "from tqdm.notebook import tqdm"
   ]
  },
  {
   "cell_type": "code",
   "execution_count": 2,
   "metadata": {},
   "outputs": [],
   "source": [
    "# Enter the location of your data here\n",
    "data_dir = path.join('/Users/louxuwen/Desktop/Documents/GitHub/modulome-C_Glutamicum_Microarray_clean/7_characterizing_imodulons/Data')\n",
    "\n",
    "# GO and KEGG annotations are in the 'external' folder\n",
    "# external_data = path.join('..','data','external')"
   ]
  },
  {
   "cell_type": "markdown",
   "metadata": {},
   "source": [
    "## Check your sample table (i.e. metadata file)\n",
    "Your metadata file will probably have a lot of columns, most of which you may not care about. Feel free to save a secondary copy of your metadata file with only columns that seem relevant to you. The two most important columns are:\n",
    "1. `project`\n",
    "2. `condition`\n",
    "\n",
    "Make sure that these columns exist in your metadata file"
   ]
  },
  {
   "cell_type": "code",
   "execution_count": 3,
   "metadata": {},
   "outputs": [
    {
     "data": {
      "text/html": [
       "<div>\n",
       "<style scoped>\n",
       "    .dataframe tbody tr th:only-of-type {\n",
       "        vertical-align: middle;\n",
       "    }\n",
       "\n",
       "    .dataframe tbody tr th {\n",
       "        vertical-align: top;\n",
       "    }\n",
       "\n",
       "    .dataframe thead th {\n",
       "        text-align: right;\n",
       "    }\n",
       "</style>\n",
       "<table border=\"1\" class=\"dataframe\">\n",
       "  <thead>\n",
       "    <tr style=\"text-align: right;\">\n",
       "      <th></th>\n",
       "      <th>project</th>\n",
       "      <th>condition</th>\n",
       "    </tr>\n",
       "    <tr>\n",
       "      <th>Assigned ID</th>\n",
       "      <th></th>\n",
       "      <th></th>\n",
       "    </tr>\n",
       "  </thead>\n",
       "  <tbody>\n",
       "    <tr>\n",
       "      <th>GSM5197020_1</th>\n",
       "      <td>P1</td>\n",
       "      <td>Condition526</td>\n",
       "    </tr>\n",
       "    <tr>\n",
       "      <th>GSM5197020_2</th>\n",
       "      <td>P1</td>\n",
       "      <td>Condition126</td>\n",
       "    </tr>\n",
       "    <tr>\n",
       "      <th>GSM5197021_1</th>\n",
       "      <td>P1</td>\n",
       "      <td>Condition526</td>\n",
       "    </tr>\n",
       "    <tr>\n",
       "      <th>GSM5197021_2</th>\n",
       "      <td>P1</td>\n",
       "      <td>Condition126</td>\n",
       "    </tr>\n",
       "    <tr>\n",
       "      <th>GSM5197022_1</th>\n",
       "      <td>P1</td>\n",
       "      <td>Condition526</td>\n",
       "    </tr>\n",
       "  </tbody>\n",
       "</table>\n",
       "</div>"
      ],
      "text/plain": [
       "             project     condition\n",
       "Assigned ID                       \n",
       "GSM5197020_1      P1  Condition526\n",
       "GSM5197020_2      P1  Condition126\n",
       "GSM5197021_1      P1  Condition526\n",
       "GSM5197021_2      P1  Condition126\n",
       "GSM5197022_1      P1  Condition526"
      ]
     },
     "execution_count": 3,
     "metadata": {},
     "output_type": "execute_result"
    }
   ],
   "source": [
    "df_metadata = pd.read_csv(path.join(data_dir,'metadata.tsv'),index_col=0,sep='\\t')\n",
    "df_metadata[['project','condition']].head()"
   ]
  },
  {
   "cell_type": "code",
   "execution_count": 4,
   "metadata": {},
   "outputs": [
    {
     "name": "stdout",
     "output_type": "stream",
     "text": [
      "True\n",
      "True\n"
     ]
    }
   ],
   "source": [
    "print(df_metadata.project.notnull().all())\n",
    "print(df_metadata.condition.notnull().all())"
   ]
  },
  {
   "cell_type": "markdown",
   "metadata": {},
   "source": [
    "## Check your TRN"
   ]
  },
  {
   "cell_type": "markdown",
   "metadata": {},
   "source": [
    "Each row of the TRN file represents a regulatory interaction.  \n",
    "**Your TRN file must have the following columns:**\n",
    "1. `regulator` - Name of regulator (`/` or `+` characters will be converted to `;`)\n",
    "1. `gene_id` - Locus tag of gene being regulated\n",
    "\n",
    "The following columns are optional, but are helpful to have:\n",
    "1. `regulator_id` - Locus tag of regulator\n",
    "1. `gene_name` - Name of gene (can automatically update this using `name2num`)\n",
    "1. `direction` - Direction of regulation ('+' for activation, '-' for repression, '?' or NaN for unknown)\n",
    "1. `evidence` - Evidence of regulation (e.g. ChIP-exo, qRT-PCR, SELEX, Motif search)\n",
    "1. `PMID` - Reference for regulation\n",
    "\n",
    "You may add any other columns that could help you. TRNs may be saved as either CSV or TSV files. See below for an example:"
   ]
  },
  {
   "cell_type": "code",
   "execution_count": null,
   "metadata": {},
   "outputs": [],
   "source": [
    "df_trn = pd.read_csv(path.join(external_data,'TRN.csv'))\n",
    "df_trn.head()"
   ]
  },
  {
   "cell_type": "markdown",
   "metadata": {},
   "source": [
    "The `regulator` and `gene_id` must be filled in for each row"
   ]
  },
  {
   "cell_type": "code",
   "execution_count": null,
   "metadata": {},
   "outputs": [],
   "source": [
    "print(df_trn.regulator.notnull().all())\n",
    "print(df_trn.gene_id.notnull().all())"
   ]
  },
  {
   "cell_type": "markdown",
   "metadata": {},
   "source": [
    "## Load the data\n",
    "You're now ready to load your IcaData object!"
   ]
  },
  {
   "cell_type": "code",
   "execution_count": null,
   "metadata": {},
   "outputs": [],
   "source": [
    "#ica_data = IcaData(M = path.join(data_dir,'M.csv'),\n",
    "#                   A = path.join(data_dir,'A.csv'),\n",
    "#                   X = path.join(data_dir,'log_tpm_norm.csv'),\n",
    "#                   gene_table = path.join(data_dir,'gene_info.csv'),\n",
    "#                   sample_table = path.join(data_dir,'metadata.tsv'),\n",
    "#                   #trn = path.join(external_data,'TRN.csv'),\n",
    "#                   optimize_cutoff=True)"
   ]
  },
  {
   "cell_type": "markdown",
   "metadata": {},
   "source": [
    "If you don't have a TRN (or have a very minimal TRN), use `threshold_method = 'kmeans'`"
   ]
  },
  {
   "cell_type": "code",
   "execution_count": 5,
   "metadata": {},
   "outputs": [],
   "source": [
    "ica_data = IcaData(M = path.join(data_dir,'M.csv'),\n",
    "                   A = path.join(data_dir,'A.csv'),\n",
    "                   X = path.join(data_dir,'log_tpm_norm.csv'),\n",
    "                   gene_table = path.join(data_dir,'gene_info.csv'),\n",
    "                   sample_table = path.join(data_dir,'metadata.tsv'),\n",
    "                   #trn = path.join(data_dir,'TRN.csv'),\n",
    "                   threshold_method = 'kmeans')"
   ]
  },
  {
   "cell_type": "markdown",
   "metadata": {},
   "source": [
    "# Regulatory iModulons\n",
    "Use `compute_trn_enrichment` to automatically check for Regulatory iModulons. The more complete your TRN, the more regulatory iModulons you'll find."
   ]
  },
  {
   "cell_type": "code",
   "execution_count": 7,
   "metadata": {},
   "outputs": [],
   "source": [
    "#ica_data.compute_trn_enrichment()"
   ]
  },
  {
   "cell_type": "markdown",
   "metadata": {},
   "source": [
    "You can also search for AND/OR combinations of regulators using the `max_regs` argument.\n",
    "\n",
    "Regulator enrichments can be directly saved to the `imodulon_table` using the `save` argument. This saves the enrichment with the lowest q-value to the table."
   ]
  },
  {
   "cell_type": "code",
   "execution_count": null,
   "metadata": {},
   "outputs": [],
   "source": [
    "# First search for regulator enrichments with 2 regulators\n",
    "ica_data.compute_trn_enrichment(max_regs=2,save=True)\n",
    "\n",
    "# Next, search for regulator enrichments with just one regulator. This will supercede the 2 regulator enrichments.\n",
    "ica_data.compute_trn_enrichment(max_regs=1,save=True)"
   ]
  },
  {
   "cell_type": "markdown",
   "metadata": {},
   "source": [
    "The list of regulatory iModulons are shown below"
   ]
  },
  {
   "cell_type": "code",
   "execution_count": null,
   "metadata": {},
   "outputs": [],
   "source": [
    "regulatory_imodulons = ica_data.imodulon_table[ica_data.imodulon_table.regulator.notnull()]\n",
    "print(len(ica_data.imodulon_table),'Total iModulons')\n",
    "print(len(regulatory_imodulons),'Regulatory iModulons')\n",
    "regulatory_imodulons"
   ]
  },
  {
   "cell_type": "markdown",
   "metadata": {},
   "source": [
    "You can rename iModulons in this jupyter notebook, or you can save the iModulon table as a CSV and edit it in Excel.\n",
    "\n",
    "If two iModulons have the same regulator (e.g. 'Reg'), they will be named 'Reg-1' and 'Reg-2'"
   ]
  },
  {
   "cell_type": "code",
   "execution_count": null,
   "metadata": {},
   "outputs": [],
   "source": [
    "ica_data.rename_imodulons(regulatory_imodulons.regulator.to_dict())\n",
    "ica_data.imodulon_table.head()"
   ]
  },
  {
   "cell_type": "code",
   "execution_count": null,
   "metadata": {},
   "outputs": [],
   "source": [
    "regulatory_imodulons = ica_data.imodulon_table[ica_data.imodulon_table.regulator.notnull()]"
   ]
  },
  {
   "cell_type": "markdown",
   "metadata": {},
   "source": [
    "# Functional iModulons"
   ]
  },
  {
   "cell_type": "markdown",
   "metadata": {},
   "source": [
    "GO annotations and KEGG pathways/modules were generated in the 1_create_the_gene_table.ipynb notebook. Enrichments will be calculated in this notebook, and further curated in the 3_manual_iModulon_curation notebook."
   ]
  },
  {
   "cell_type": "markdown",
   "metadata": {},
   "source": [
    "## GO Enrichments"
   ]
  },
  {
   "cell_type": "markdown",
   "metadata": {},
   "source": [
    "First load the Gene Ontology annotations"
   ]
  },
  {
   "cell_type": "code",
   "execution_count": null,
   "metadata": {},
   "outputs": [],
   "source": [
    "DF_GO = pd.read_csv(path.join(external_data,'GO_annotations_curated.csv'),index_col=0)\n",
    "DF_GO.head()"
   ]
  },
  {
   "cell_type": "code",
   "execution_count": null,
   "metadata": {},
   "outputs": [],
   "source": [
    "DF_GO_enrich = ica_data.compute_annotation_enrichment(DF_GO,'gene_ontology')"
   ]
  },
  {
   "cell_type": "code",
   "execution_count": null,
   "metadata": {},
   "outputs": [],
   "source": [
    "DF_GO_enrich.head()"
   ]
  },
  {
   "cell_type": "markdown",
   "metadata": {},
   "source": [
    "## KEGG Enrichments"
   ]
  },
  {
   "cell_type": "markdown",
   "metadata": {},
   "source": [
    "### Load KEGG mapping\n",
    "The `kegg_mapping.csv` file contains KEGG orthologies, pathways, modules, and reactions. Only pathways and modules are relevant to iModulon characterization."
   ]
  },
  {
   "cell_type": "code",
   "execution_count": 9,
   "metadata": {},
   "outputs": [
    {
     "name": "stdout",
     "output_type": "stream",
     "text": [
      "['KEGG_orth' 'KEGG_pathway' 'KEGG_module' 'KEGG_reaction']\n"
     ]
    },
    {
     "data": {
      "text/html": [
       "<div>\n",
       "<style scoped>\n",
       "    .dataframe tbody tr th:only-of-type {\n",
       "        vertical-align: middle;\n",
       "    }\n",
       "\n",
       "    .dataframe tbody tr th {\n",
       "        vertical-align: top;\n",
       "    }\n",
       "\n",
       "    .dataframe thead th {\n",
       "        text-align: right;\n",
       "    }\n",
       "</style>\n",
       "<table border=\"1\" class=\"dataframe\">\n",
       "  <thead>\n",
       "    <tr style=\"text-align: right;\">\n",
       "      <th></th>\n",
       "      <th>gene_id</th>\n",
       "      <th>database</th>\n",
       "      <th>kegg_id</th>\n",
       "    </tr>\n",
       "  </thead>\n",
       "  <tbody>\n",
       "    <tr>\n",
       "      <th>3</th>\n",
       "      <td>cg0006</td>\n",
       "      <td>KEGG_orth</td>\n",
       "      <td>-</td>\n",
       "    </tr>\n",
       "    <tr>\n",
       "      <th>5</th>\n",
       "      <td>cg0008</td>\n",
       "      <td>KEGG_orth</td>\n",
       "      <td>-</td>\n",
       "    </tr>\n",
       "    <tr>\n",
       "      <th>7</th>\n",
       "      <td>cg0010</td>\n",
       "      <td>KEGG_orth</td>\n",
       "      <td>-</td>\n",
       "    </tr>\n",
       "    <tr>\n",
       "      <th>8</th>\n",
       "      <td>cg0012</td>\n",
       "      <td>KEGG_orth</td>\n",
       "      <td>-</td>\n",
       "    </tr>\n",
       "    <tr>\n",
       "      <th>9</th>\n",
       "      <td>cg0013</td>\n",
       "      <td>KEGG_orth</td>\n",
       "      <td>-</td>\n",
       "    </tr>\n",
       "  </tbody>\n",
       "</table>\n",
       "</div>"
      ],
      "text/plain": [
       "  gene_id   database kegg_id\n",
       "3  cg0006  KEGG_orth       -\n",
       "5  cg0008  KEGG_orth       -\n",
       "7  cg0010  KEGG_orth       -\n",
       "8  cg0012  KEGG_orth       -\n",
       "9  cg0013  KEGG_orth       -"
      ]
     },
     "execution_count": 9,
     "metadata": {},
     "output_type": "execute_result"
    }
   ],
   "source": [
    "DF_KEGG = pd.read_csv(path.join(data_dir,'kegg_mapping.csv'),index_col=0)\n",
    "print(DF_KEGG.database.unique())\n",
    "DF_KEGG.head()"
   ]
  },
  {
   "cell_type": "code",
   "execution_count": 10,
   "metadata": {},
   "outputs": [],
   "source": [
    "kegg_pathways = DF_KEGG[DF_KEGG.database == 'KEGG_pathway']\n",
    "kegg_modules = DF_KEGG[DF_KEGG.database == 'KEGG_module']"
   ]
  },
  {
   "cell_type": "markdown",
   "metadata": {},
   "source": [
    "### Perform enrichment\n",
    "Uses the `compute_annotation_enrichment` function"
   ]
  },
  {
   "cell_type": "code",
   "execution_count": 11,
   "metadata": {},
   "outputs": [],
   "source": [
    "DF_pathway_enrich = ica_data.compute_annotation_enrichment(kegg_pathways,'kegg_id')\n",
    "DF_module_enrich = ica_data.compute_annotation_enrichment(kegg_modules,'kegg_id')"
   ]
  },
  {
   "cell_type": "code",
   "execution_count": 12,
   "metadata": {},
   "outputs": [
    {
     "data": {
      "text/html": [
       "<div>\n",
       "<style scoped>\n",
       "    .dataframe tbody tr th:only-of-type {\n",
       "        vertical-align: middle;\n",
       "    }\n",
       "\n",
       "    .dataframe tbody tr th {\n",
       "        vertical-align: top;\n",
       "    }\n",
       "\n",
       "    .dataframe thead th {\n",
       "        text-align: right;\n",
       "    }\n",
       "</style>\n",
       "<table border=\"1\" class=\"dataframe\">\n",
       "  <thead>\n",
       "    <tr style=\"text-align: right;\">\n",
       "      <th></th>\n",
       "      <th>imodulon</th>\n",
       "      <th>kegg_id</th>\n",
       "      <th>pvalue</th>\n",
       "      <th>qvalue</th>\n",
       "      <th>precision</th>\n",
       "      <th>recall</th>\n",
       "      <th>f1score</th>\n",
       "      <th>TP</th>\n",
       "      <th>target_set_size</th>\n",
       "      <th>imodulon_size</th>\n",
       "    </tr>\n",
       "  </thead>\n",
       "  <tbody>\n",
       "    <tr>\n",
       "      <th>0</th>\n",
       "      <td>4</td>\n",
       "      <td>map00920</td>\n",
       "      <td>1.110789e-10</td>\n",
       "      <td>2.521490e-08</td>\n",
       "      <td>0.714286</td>\n",
       "      <td>0.263158</td>\n",
       "      <td>0.384615</td>\n",
       "      <td>5.0</td>\n",
       "      <td>19.0</td>\n",
       "      <td>7.0</td>\n",
       "    </tr>\n",
       "    <tr>\n",
       "      <th>1</th>\n",
       "      <td>5</td>\n",
       "      <td>map02024</td>\n",
       "      <td>1.620805e-05</td>\n",
       "      <td>3.679227e-03</td>\n",
       "      <td>0.238095</td>\n",
       "      <td>0.100000</td>\n",
       "      <td>0.140845</td>\n",
       "      <td>5.0</td>\n",
       "      <td>50.0</td>\n",
       "      <td>21.0</td>\n",
       "    </tr>\n",
       "    <tr>\n",
       "      <th>2</th>\n",
       "      <td>14</td>\n",
       "      <td>map00190</td>\n",
       "      <td>4.170788e-09</td>\n",
       "      <td>9.467689e-07</td>\n",
       "      <td>1.000000</td>\n",
       "      <td>0.153846</td>\n",
       "      <td>0.266667</td>\n",
       "      <td>4.0</td>\n",
       "      <td>26.0</td>\n",
       "      <td>4.0</td>\n",
       "    </tr>\n",
       "    <tr>\n",
       "      <th>3</th>\n",
       "      <td>19</td>\n",
       "      <td>map00906</td>\n",
       "      <td>4.046112e-04</td>\n",
       "      <td>9.184674e-02</td>\n",
       "      <td>0.100000</td>\n",
       "      <td>0.400000</td>\n",
       "      <td>0.160000</td>\n",
       "      <td>2.0</td>\n",
       "      <td>5.0</td>\n",
       "      <td>20.0</td>\n",
       "    </tr>\n",
       "    <tr>\n",
       "      <th>4</th>\n",
       "      <td>24</td>\n",
       "      <td>map01230</td>\n",
       "      <td>1.601619e-05</td>\n",
       "      <td>3.635675e-03</td>\n",
       "      <td>0.304348</td>\n",
       "      <td>0.059322</td>\n",
       "      <td>0.099291</td>\n",
       "      <td>7.0</td>\n",
       "      <td>118.0</td>\n",
       "      <td>23.0</td>\n",
       "    </tr>\n",
       "  </tbody>\n",
       "</table>\n",
       "</div>"
      ],
      "text/plain": [
       "   imodulon   kegg_id        pvalue        qvalue  precision    recall  \\\n",
       "0         4  map00920  1.110789e-10  2.521490e-08   0.714286  0.263158   \n",
       "1         5  map02024  1.620805e-05  3.679227e-03   0.238095  0.100000   \n",
       "2        14  map00190  4.170788e-09  9.467689e-07   1.000000  0.153846   \n",
       "3        19  map00906  4.046112e-04  9.184674e-02   0.100000  0.400000   \n",
       "4        24  map01230  1.601619e-05  3.635675e-03   0.304348  0.059322   \n",
       "\n",
       "    f1score   TP  target_set_size  imodulon_size  \n",
       "0  0.384615  5.0             19.0            7.0  \n",
       "1  0.140845  5.0             50.0           21.0  \n",
       "2  0.266667  4.0             26.0            4.0  \n",
       "3  0.160000  2.0              5.0           20.0  \n",
       "4  0.099291  7.0            118.0           23.0  "
      ]
     },
     "execution_count": 12,
     "metadata": {},
     "output_type": "execute_result"
    }
   ],
   "source": [
    "DF_pathway_enrich.head()"
   ]
  },
  {
   "cell_type": "code",
   "execution_count": 13,
   "metadata": {},
   "outputs": [
    {
     "data": {
      "text/html": [
       "<div>\n",
       "<style scoped>\n",
       "    .dataframe tbody tr th:only-of-type {\n",
       "        vertical-align: middle;\n",
       "    }\n",
       "\n",
       "    .dataframe tbody tr th {\n",
       "        vertical-align: top;\n",
       "    }\n",
       "\n",
       "    .dataframe thead th {\n",
       "        text-align: right;\n",
       "    }\n",
       "</style>\n",
       "<table border=\"1\" class=\"dataframe\">\n",
       "  <thead>\n",
       "    <tr style=\"text-align: right;\">\n",
       "      <th></th>\n",
       "      <th>imodulon</th>\n",
       "      <th>kegg_id</th>\n",
       "      <th>pvalue</th>\n",
       "      <th>qvalue</th>\n",
       "      <th>precision</th>\n",
       "      <th>recall</th>\n",
       "      <th>f1score</th>\n",
       "      <th>TP</th>\n",
       "      <th>target_set_size</th>\n",
       "      <th>imodulon_size</th>\n",
       "    </tr>\n",
       "  </thead>\n",
       "  <tbody>\n",
       "    <tr>\n",
       "      <th>0</th>\n",
       "      <td>4</td>\n",
       "      <td>M00436</td>\n",
       "      <td>7.430699e-09</td>\n",
       "      <td>0.000002</td>\n",
       "      <td>0.428571</td>\n",
       "      <td>1.000000</td>\n",
       "      <td>0.600000</td>\n",
       "      <td>3.0</td>\n",
       "      <td>3.0</td>\n",
       "      <td>7.0</td>\n",
       "    </tr>\n",
       "    <tr>\n",
       "      <th>1</th>\n",
       "      <td>4</td>\n",
       "      <td>M00188</td>\n",
       "      <td>4.510449e-05</td>\n",
       "      <td>0.005255</td>\n",
       "      <td>0.285714</td>\n",
       "      <td>0.400000</td>\n",
       "      <td>0.333333</td>\n",
       "      <td>2.0</td>\n",
       "      <td>5.0</td>\n",
       "      <td>7.0</td>\n",
       "    </tr>\n",
       "    <tr>\n",
       "      <th>2</th>\n",
       "      <td>5</td>\n",
       "      <td>M00239</td>\n",
       "      <td>6.051004e-06</td>\n",
       "      <td>0.001410</td>\n",
       "      <td>0.190476</td>\n",
       "      <td>0.210526</td>\n",
       "      <td>0.200000</td>\n",
       "      <td>4.0</td>\n",
       "      <td>19.0</td>\n",
       "      <td>21.0</td>\n",
       "    </tr>\n",
       "    <tr>\n",
       "      <th>3</th>\n",
       "      <td>5</td>\n",
       "      <td>M00125</td>\n",
       "      <td>6.675746e-04</td>\n",
       "      <td>0.077772</td>\n",
       "      <td>0.095238</td>\n",
       "      <td>0.333333</td>\n",
       "      <td>0.148148</td>\n",
       "      <td>2.0</td>\n",
       "      <td>6.0</td>\n",
       "      <td>21.0</td>\n",
       "    </tr>\n",
       "    <tr>\n",
       "      <th>4</th>\n",
       "      <td>11</td>\n",
       "      <td>M00179</td>\n",
       "      <td>2.987003e-04</td>\n",
       "      <td>0.069597</td>\n",
       "      <td>0.666667</td>\n",
       "      <td>0.064516</td>\n",
       "      <td>0.117647</td>\n",
       "      <td>2.0</td>\n",
       "      <td>31.0</td>\n",
       "      <td>3.0</td>\n",
       "    </tr>\n",
       "  </tbody>\n",
       "</table>\n",
       "</div>"
      ],
      "text/plain": [
       "   imodulon kegg_id        pvalue    qvalue  precision    recall   f1score  \\\n",
       "0         4  M00436  7.430699e-09  0.000002   0.428571  1.000000  0.600000   \n",
       "1         4  M00188  4.510449e-05  0.005255   0.285714  0.400000  0.333333   \n",
       "2         5  M00239  6.051004e-06  0.001410   0.190476  0.210526  0.200000   \n",
       "3         5  M00125  6.675746e-04  0.077772   0.095238  0.333333  0.148148   \n",
       "4        11  M00179  2.987003e-04  0.069597   0.666667  0.064516  0.117647   \n",
       "\n",
       "    TP  target_set_size  imodulon_size  \n",
       "0  3.0              3.0            7.0  \n",
       "1  2.0              5.0            7.0  \n",
       "2  4.0             19.0           21.0  \n",
       "3  2.0              6.0           21.0  \n",
       "4  2.0             31.0            3.0  "
      ]
     },
     "execution_count": 13,
     "metadata": {},
     "output_type": "execute_result"
    }
   ],
   "source": [
    "DF_module_enrich.head()"
   ]
  },
  {
   "cell_type": "markdown",
   "metadata": {},
   "source": [
    "### Convert KEGG IDs to human-readable names"
   ]
  },
  {
   "cell_type": "code",
   "execution_count": 14,
   "metadata": {},
   "outputs": [
    {
     "data": {
      "application/vnd.jupyter.widget-view+json": {
       "model_id": "ab32cf8b42454ffc80d7de66b32daff3",
       "version_major": 2,
       "version_minor": 0
      },
      "text/plain": [
       "  0%|          | 0/44 [00:00<?, ?it/s]"
      ]
     },
     "metadata": {},
     "output_type": "display_data"
    },
    {
     "data": {
      "application/vnd.jupyter.widget-view+json": {
       "model_id": "605028b96eaf4cbca3711bd7aa2c3f06",
       "version_major": 2,
       "version_minor": 0
      },
      "text/plain": [
       "  0%|          | 0/31 [00:00<?, ?it/s]"
      ]
     },
     "metadata": {},
     "output_type": "display_data"
    }
   ],
   "source": [
    "for idx,key in tqdm(DF_pathway_enrich.kegg_id.items(),total=len(DF_pathway_enrich)):\n",
    "    text = REST.kegg_find('pathway',key).read()\n",
    "    try:\n",
    "        name = re.search('\\t(.*)\\n',text).group(1)\n",
    "        DF_pathway_enrich.loc[idx,'pathway_name'] = name\n",
    "    except AttributeError:\n",
    "        DF_pathway_enrich.loc[idx,'pathway_name'] = None\n",
    "    \n",
    "for idx,key in tqdm(DF_module_enrich.kegg_id.items(),total=len(DF_module_enrich)):\n",
    "    text = REST.kegg_find('module',key).read()\n",
    "    try:\n",
    "        name = re.search('\\t(.*)\\n',text).group(1)\n",
    "        DF_module_enrich.loc[idx,'module_name'] = name\n",
    "    except AttributeError:\n",
    "        DF_module_enrich.loc[idx,'module_name'] = None"
   ]
  },
  {
   "cell_type": "code",
   "execution_count": 15,
   "metadata": {},
   "outputs": [
    {
     "data": {
      "text/html": [
       "<div>\n",
       "<style scoped>\n",
       "    .dataframe tbody tr th:only-of-type {\n",
       "        vertical-align: middle;\n",
       "    }\n",
       "\n",
       "    .dataframe tbody tr th {\n",
       "        vertical-align: top;\n",
       "    }\n",
       "\n",
       "    .dataframe thead th {\n",
       "        text-align: right;\n",
       "    }\n",
       "</style>\n",
       "<table border=\"1\" class=\"dataframe\">\n",
       "  <thead>\n",
       "    <tr style=\"text-align: right;\">\n",
       "      <th></th>\n",
       "      <th>imodulon</th>\n",
       "      <th>kegg_id</th>\n",
       "      <th>pvalue</th>\n",
       "      <th>qvalue</th>\n",
       "      <th>precision</th>\n",
       "      <th>recall</th>\n",
       "      <th>f1score</th>\n",
       "      <th>TP</th>\n",
       "      <th>target_set_size</th>\n",
       "      <th>imodulon_size</th>\n",
       "      <th>pathway_name</th>\n",
       "    </tr>\n",
       "  </thead>\n",
       "  <tbody>\n",
       "    <tr>\n",
       "      <th>0</th>\n",
       "      <td>4</td>\n",
       "      <td>map00920</td>\n",
       "      <td>1.110789e-10</td>\n",
       "      <td>2.521490e-08</td>\n",
       "      <td>0.714286</td>\n",
       "      <td>0.263158</td>\n",
       "      <td>0.384615</td>\n",
       "      <td>5.0</td>\n",
       "      <td>19.0</td>\n",
       "      <td>7.0</td>\n",
       "      <td>Sulfur metabolism</td>\n",
       "    </tr>\n",
       "    <tr>\n",
       "      <th>1</th>\n",
       "      <td>5</td>\n",
       "      <td>map02024</td>\n",
       "      <td>1.620805e-05</td>\n",
       "      <td>3.679227e-03</td>\n",
       "      <td>0.238095</td>\n",
       "      <td>0.100000</td>\n",
       "      <td>0.140845</td>\n",
       "      <td>5.0</td>\n",
       "      <td>50.0</td>\n",
       "      <td>21.0</td>\n",
       "      <td>Quorum sensing</td>\n",
       "    </tr>\n",
       "    <tr>\n",
       "      <th>2</th>\n",
       "      <td>14</td>\n",
       "      <td>map00190</td>\n",
       "      <td>4.170788e-09</td>\n",
       "      <td>9.467689e-07</td>\n",
       "      <td>1.000000</td>\n",
       "      <td>0.153846</td>\n",
       "      <td>0.266667</td>\n",
       "      <td>4.0</td>\n",
       "      <td>26.0</td>\n",
       "      <td>4.0</td>\n",
       "      <td>Oxidative phosphorylation</td>\n",
       "    </tr>\n",
       "    <tr>\n",
       "      <th>3</th>\n",
       "      <td>19</td>\n",
       "      <td>map00906</td>\n",
       "      <td>4.046112e-04</td>\n",
       "      <td>9.184674e-02</td>\n",
       "      <td>0.100000</td>\n",
       "      <td>0.400000</td>\n",
       "      <td>0.160000</td>\n",
       "      <td>2.0</td>\n",
       "      <td>5.0</td>\n",
       "      <td>20.0</td>\n",
       "      <td>Carotenoid biosynthesis</td>\n",
       "    </tr>\n",
       "    <tr>\n",
       "      <th>4</th>\n",
       "      <td>24</td>\n",
       "      <td>map01230</td>\n",
       "      <td>1.601619e-05</td>\n",
       "      <td>3.635675e-03</td>\n",
       "      <td>0.304348</td>\n",
       "      <td>0.059322</td>\n",
       "      <td>0.099291</td>\n",
       "      <td>7.0</td>\n",
       "      <td>118.0</td>\n",
       "      <td>23.0</td>\n",
       "      <td>Biosynthesis of amino acids</td>\n",
       "    </tr>\n",
       "  </tbody>\n",
       "</table>\n",
       "</div>"
      ],
      "text/plain": [
       "   imodulon   kegg_id        pvalue        qvalue  precision    recall  \\\n",
       "0         4  map00920  1.110789e-10  2.521490e-08   0.714286  0.263158   \n",
       "1         5  map02024  1.620805e-05  3.679227e-03   0.238095  0.100000   \n",
       "2        14  map00190  4.170788e-09  9.467689e-07   1.000000  0.153846   \n",
       "3        19  map00906  4.046112e-04  9.184674e-02   0.100000  0.400000   \n",
       "4        24  map01230  1.601619e-05  3.635675e-03   0.304348  0.059322   \n",
       "\n",
       "    f1score   TP  target_set_size  imodulon_size                 pathway_name  \n",
       "0  0.384615  5.0             19.0            7.0            Sulfur metabolism  \n",
       "1  0.140845  5.0             50.0           21.0               Quorum sensing  \n",
       "2  0.266667  4.0             26.0            4.0    Oxidative phosphorylation  \n",
       "3  0.160000  2.0              5.0           20.0      Carotenoid biosynthesis  \n",
       "4  0.099291  7.0            118.0           23.0  Biosynthesis of amino acids  "
      ]
     },
     "execution_count": 15,
     "metadata": {},
     "output_type": "execute_result"
    }
   ],
   "source": [
    "DF_pathway_enrich.head()"
   ]
  },
  {
   "cell_type": "code",
   "execution_count": 16,
   "metadata": {},
   "outputs": [
    {
     "data": {
      "text/html": [
       "<div>\n",
       "<style scoped>\n",
       "    .dataframe tbody tr th:only-of-type {\n",
       "        vertical-align: middle;\n",
       "    }\n",
       "\n",
       "    .dataframe tbody tr th {\n",
       "        vertical-align: top;\n",
       "    }\n",
       "\n",
       "    .dataframe thead th {\n",
       "        text-align: right;\n",
       "    }\n",
       "</style>\n",
       "<table border=\"1\" class=\"dataframe\">\n",
       "  <thead>\n",
       "    <tr style=\"text-align: right;\">\n",
       "      <th></th>\n",
       "      <th>imodulon</th>\n",
       "      <th>kegg_id</th>\n",
       "      <th>pvalue</th>\n",
       "      <th>qvalue</th>\n",
       "      <th>precision</th>\n",
       "      <th>recall</th>\n",
       "      <th>f1score</th>\n",
       "      <th>TP</th>\n",
       "      <th>target_set_size</th>\n",
       "      <th>imodulon_size</th>\n",
       "      <th>module_name</th>\n",
       "    </tr>\n",
       "  </thead>\n",
       "  <tbody>\n",
       "    <tr>\n",
       "      <th>0</th>\n",
       "      <td>4</td>\n",
       "      <td>M00436</td>\n",
       "      <td>7.430699e-09</td>\n",
       "      <td>0.000002</td>\n",
       "      <td>0.428571</td>\n",
       "      <td>1.000000</td>\n",
       "      <td>0.600000</td>\n",
       "      <td>3.0</td>\n",
       "      <td>3.0</td>\n",
       "      <td>7.0</td>\n",
       "      <td>NaN</td>\n",
       "    </tr>\n",
       "    <tr>\n",
       "      <th>1</th>\n",
       "      <td>4</td>\n",
       "      <td>M00188</td>\n",
       "      <td>4.510449e-05</td>\n",
       "      <td>0.005255</td>\n",
       "      <td>0.285714</td>\n",
       "      <td>0.400000</td>\n",
       "      <td>0.333333</td>\n",
       "      <td>2.0</td>\n",
       "      <td>5.0</td>\n",
       "      <td>7.0</td>\n",
       "      <td>NaN</td>\n",
       "    </tr>\n",
       "    <tr>\n",
       "      <th>2</th>\n",
       "      <td>5</td>\n",
       "      <td>M00239</td>\n",
       "      <td>6.051004e-06</td>\n",
       "      <td>0.001410</td>\n",
       "      <td>0.190476</td>\n",
       "      <td>0.210526</td>\n",
       "      <td>0.200000</td>\n",
       "      <td>4.0</td>\n",
       "      <td>19.0</td>\n",
       "      <td>21.0</td>\n",
       "      <td>NaN</td>\n",
       "    </tr>\n",
       "    <tr>\n",
       "      <th>3</th>\n",
       "      <td>5</td>\n",
       "      <td>M00125</td>\n",
       "      <td>6.675746e-04</td>\n",
       "      <td>0.077772</td>\n",
       "      <td>0.095238</td>\n",
       "      <td>0.333333</td>\n",
       "      <td>0.148148</td>\n",
       "      <td>2.0</td>\n",
       "      <td>6.0</td>\n",
       "      <td>21.0</td>\n",
       "      <td>Riboflavin biosynthesis, plants and bacteria, ...</td>\n",
       "    </tr>\n",
       "    <tr>\n",
       "      <th>4</th>\n",
       "      <td>11</td>\n",
       "      <td>M00179</td>\n",
       "      <td>2.987003e-04</td>\n",
       "      <td>0.069597</td>\n",
       "      <td>0.666667</td>\n",
       "      <td>0.064516</td>\n",
       "      <td>0.117647</td>\n",
       "      <td>2.0</td>\n",
       "      <td>31.0</td>\n",
       "      <td>3.0</td>\n",
       "      <td>None</td>\n",
       "    </tr>\n",
       "  </tbody>\n",
       "</table>\n",
       "</div>"
      ],
      "text/plain": [
       "   imodulon kegg_id        pvalue    qvalue  precision    recall   f1score  \\\n",
       "0         4  M00436  7.430699e-09  0.000002   0.428571  1.000000  0.600000   \n",
       "1         4  M00188  4.510449e-05  0.005255   0.285714  0.400000  0.333333   \n",
       "2         5  M00239  6.051004e-06  0.001410   0.190476  0.210526  0.200000   \n",
       "3         5  M00125  6.675746e-04  0.077772   0.095238  0.333333  0.148148   \n",
       "4        11  M00179  2.987003e-04  0.069597   0.666667  0.064516  0.117647   \n",
       "\n",
       "    TP  target_set_size  imodulon_size  \\\n",
       "0  3.0              3.0            7.0   \n",
       "1  2.0              5.0            7.0   \n",
       "2  4.0             19.0           21.0   \n",
       "3  2.0              6.0           21.0   \n",
       "4  2.0             31.0            3.0   \n",
       "\n",
       "                                         module_name  \n",
       "0                                                NaN  \n",
       "1                                                NaN  \n",
       "2                                                NaN  \n",
       "3  Riboflavin biosynthesis, plants and bacteria, ...  \n",
       "4                                               None  "
      ]
     },
     "execution_count": 16,
     "metadata": {},
     "output_type": "execute_result"
    }
   ],
   "source": [
    "DF_module_enrich.head()"
   ]
  },
  {
   "cell_type": "markdown",
   "metadata": {},
   "source": [
    "## SubtiWiki categories"
   ]
  },
  {
   "cell_type": "code",
   "execution_count": null,
   "metadata": {},
   "outputs": [],
   "source": [
    "DF_subtiwiki = pd.read_csv(path.join(external_data,'subtiwiki_categories.csv'))\n",
    "DF_subtiwiki.head()"
   ]
  },
  {
   "cell_type": "code",
   "execution_count": null,
   "metadata": {},
   "outputs": [],
   "source": [
    "# Change the subtiwiki annotation format into a list of genes and categories\n",
    "DF_subtiwiki = DF_subtiwiki.rename({'BSU_number':'gene_id'},axis=1)\n",
    "DF_subtiwiki = DF_subtiwiki.melt(id_vars='gene_id',value_vars=['FuncName1','FuncName2','FuncName3','FuncName4','FuncName5'])\n",
    "DF_subtiwiki = DF_subtiwiki[DF_subtiwiki.value.notnull() & DF_subtiwiki.gene_id.isin(ica_data.gene_names)]\n",
    "DF_subtiwiki.head()"
   ]
  },
  {
   "cell_type": "code",
   "execution_count": null,
   "metadata": {},
   "outputs": [],
   "source": [
    "DF_subti_enrich = ica_data.compute_annotation_enrichment(DF_subtiwiki,'value')"
   ]
  },
  {
   "cell_type": "markdown",
   "metadata": {},
   "source": [
    "## Save files"
   ]
  },
  {
   "cell_type": "code",
   "execution_count": 17,
   "metadata": {},
   "outputs": [],
   "source": [
    "# DF_GO_enrich['source'] = 'GO'\n",
    "DF_pathway_enrich['source'] = 'KEGG pathways'\n",
    "DF_module_enrich['source'] = 'KEGG modules'\n",
    "# DF_subti_enrich['source'] = 'SubtiWiki'\n",
    "\n",
    "# DF_GO_enrich.rename({'gene_ontology':'annotation'},axis=1, inplace=True)\n",
    "DF_pathway_enrich.rename({'kegg_id':'annotation'},axis=1, inplace=True)\n",
    "DF_module_enrich.rename({'kegg_id':'annotation'},axis=1, inplace=True)\n",
    "# DF_subti_enrich.rename({'value':'annotation'},axis=1, inplace=True)\n",
    "\n",
    "DF_enrichments = pd.concat([DF_pathway_enrich, DF_module_enrich])\n",
    "DF_enrichments.to_csv(path.join(data_dir,'functional_enrichments.csv'))"
   ]
  },
  {
   "cell_type": "markdown",
   "metadata": {},
   "source": [
    "# Check for single gene iModulons"
   ]
  },
  {
   "cell_type": "markdown",
   "metadata": {},
   "source": [
    "Some iModulons are dominated by a single, high-coefficient gene. These iModulons may result from:\n",
    "1. Overdecomposition of the dataset to identify noisy genes\n",
    "1. Artificial knock-out of single genes\n",
    "1. Regulons with only one target gene\n",
    "\n",
    "No matter what causes these iModulons, it is important to be aware of them. The find_single_gene_imodulons function identifies iModulons that are likely dominated by a single gene.\n",
    "\n",
    "The iModulons identified by ``find_single_gene_imodulons`` may contain more than one gene, since a threshold-agnostic method is used to identify these iModulons."
   ]
  },
  {
   "cell_type": "code",
   "execution_count": 18,
   "metadata": {},
   "outputs": [
    {
     "data": {
      "text/plain": [
       "44"
      ]
     },
     "execution_count": 18,
     "metadata": {},
     "output_type": "execute_result"
    }
   ],
   "source": [
    "sg_imods = ica_data.find_single_gene_imodulons(save=True)\n",
    "len(sg_imods)"
   ]
  },
  {
   "cell_type": "code",
   "execution_count": 19,
   "metadata": {},
   "outputs": [],
   "source": [
    "for i,mod in enumerate(sg_imods):\n",
    "    ica_data.rename_imodulons({mod:'SG_'+str(i+1)})"
   ]
  },
  {
   "cell_type": "code",
   "execution_count": 20,
   "metadata": {},
   "outputs": [
    {
     "data": {
      "text/html": [
       "<div>\n",
       "<style scoped>\n",
       "    .dataframe tbody tr th:only-of-type {\n",
       "        vertical-align: middle;\n",
       "    }\n",
       "\n",
       "    .dataframe tbody tr th {\n",
       "        vertical-align: top;\n",
       "    }\n",
       "\n",
       "    .dataframe thead th {\n",
       "        text-align: right;\n",
       "    }\n",
       "</style>\n",
       "<table border=\"1\" class=\"dataframe\">\n",
       "  <thead>\n",
       "    <tr style=\"text-align: right;\">\n",
       "      <th></th>\n",
       "      <th>single_gene</th>\n",
       "    </tr>\n",
       "  </thead>\n",
       "  <tbody>\n",
       "    <tr>\n",
       "      <th>SG_1</th>\n",
       "      <td>True</td>\n",
       "    </tr>\n",
       "    <tr>\n",
       "      <th>SG_2</th>\n",
       "      <td>True</td>\n",
       "    </tr>\n",
       "    <tr>\n",
       "      <th>SG_3</th>\n",
       "      <td>True</td>\n",
       "    </tr>\n",
       "    <tr>\n",
       "      <th>SG_4</th>\n",
       "      <td>True</td>\n",
       "    </tr>\n",
       "    <tr>\n",
       "      <th>SG_5</th>\n",
       "      <td>True</td>\n",
       "    </tr>\n",
       "    <tr>\n",
       "      <th>SG_6</th>\n",
       "      <td>True</td>\n",
       "    </tr>\n",
       "    <tr>\n",
       "      <th>SG_7</th>\n",
       "      <td>True</td>\n",
       "    </tr>\n",
       "    <tr>\n",
       "      <th>SG_8</th>\n",
       "      <td>True</td>\n",
       "    </tr>\n",
       "    <tr>\n",
       "      <th>SG_9</th>\n",
       "      <td>True</td>\n",
       "    </tr>\n",
       "    <tr>\n",
       "      <th>SG_10</th>\n",
       "      <td>True</td>\n",
       "    </tr>\n",
       "    <tr>\n",
       "      <th>SG_11</th>\n",
       "      <td>True</td>\n",
       "    </tr>\n",
       "    <tr>\n",
       "      <th>SG_12</th>\n",
       "      <td>True</td>\n",
       "    </tr>\n",
       "    <tr>\n",
       "      <th>SG_13</th>\n",
       "      <td>True</td>\n",
       "    </tr>\n",
       "    <tr>\n",
       "      <th>SG_14</th>\n",
       "      <td>True</td>\n",
       "    </tr>\n",
       "    <tr>\n",
       "      <th>SG_15</th>\n",
       "      <td>True</td>\n",
       "    </tr>\n",
       "    <tr>\n",
       "      <th>SG_16</th>\n",
       "      <td>True</td>\n",
       "    </tr>\n",
       "    <tr>\n",
       "      <th>SG_17</th>\n",
       "      <td>True</td>\n",
       "    </tr>\n",
       "    <tr>\n",
       "      <th>SG_18</th>\n",
       "      <td>True</td>\n",
       "    </tr>\n",
       "    <tr>\n",
       "      <th>SG_19</th>\n",
       "      <td>True</td>\n",
       "    </tr>\n",
       "    <tr>\n",
       "      <th>SG_20</th>\n",
       "      <td>True</td>\n",
       "    </tr>\n",
       "    <tr>\n",
       "      <th>SG_21</th>\n",
       "      <td>True</td>\n",
       "    </tr>\n",
       "    <tr>\n",
       "      <th>SG_22</th>\n",
       "      <td>True</td>\n",
       "    </tr>\n",
       "    <tr>\n",
       "      <th>SG_23</th>\n",
       "      <td>True</td>\n",
       "    </tr>\n",
       "    <tr>\n",
       "      <th>SG_24</th>\n",
       "      <td>True</td>\n",
       "    </tr>\n",
       "    <tr>\n",
       "      <th>SG_25</th>\n",
       "      <td>True</td>\n",
       "    </tr>\n",
       "    <tr>\n",
       "      <th>SG_26</th>\n",
       "      <td>True</td>\n",
       "    </tr>\n",
       "    <tr>\n",
       "      <th>SG_27</th>\n",
       "      <td>True</td>\n",
       "    </tr>\n",
       "    <tr>\n",
       "      <th>SG_28</th>\n",
       "      <td>True</td>\n",
       "    </tr>\n",
       "    <tr>\n",
       "      <th>SG_29</th>\n",
       "      <td>True</td>\n",
       "    </tr>\n",
       "    <tr>\n",
       "      <th>SG_30</th>\n",
       "      <td>True</td>\n",
       "    </tr>\n",
       "    <tr>\n",
       "      <th>SG_31</th>\n",
       "      <td>True</td>\n",
       "    </tr>\n",
       "    <tr>\n",
       "      <th>SG_32</th>\n",
       "      <td>True</td>\n",
       "    </tr>\n",
       "    <tr>\n",
       "      <th>SG_33</th>\n",
       "      <td>True</td>\n",
       "    </tr>\n",
       "    <tr>\n",
       "      <th>SG_34</th>\n",
       "      <td>True</td>\n",
       "    </tr>\n",
       "    <tr>\n",
       "      <th>SG_35</th>\n",
       "      <td>True</td>\n",
       "    </tr>\n",
       "    <tr>\n",
       "      <th>SG_36</th>\n",
       "      <td>True</td>\n",
       "    </tr>\n",
       "    <tr>\n",
       "      <th>SG_37</th>\n",
       "      <td>True</td>\n",
       "    </tr>\n",
       "    <tr>\n",
       "      <th>SG_38</th>\n",
       "      <td>True</td>\n",
       "    </tr>\n",
       "    <tr>\n",
       "      <th>SG_39</th>\n",
       "      <td>True</td>\n",
       "    </tr>\n",
       "    <tr>\n",
       "      <th>SG_40</th>\n",
       "      <td>True</td>\n",
       "    </tr>\n",
       "    <tr>\n",
       "      <th>SG_41</th>\n",
       "      <td>True</td>\n",
       "    </tr>\n",
       "    <tr>\n",
       "      <th>SG_42</th>\n",
       "      <td>True</td>\n",
       "    </tr>\n",
       "    <tr>\n",
       "      <th>SG_43</th>\n",
       "      <td>True</td>\n",
       "    </tr>\n",
       "    <tr>\n",
       "      <th>SG_44</th>\n",
       "      <td>True</td>\n",
       "    </tr>\n",
       "  </tbody>\n",
       "</table>\n",
       "</div>"
      ],
      "text/plain": [
       "      single_gene\n",
       "SG_1         True\n",
       "SG_2         True\n",
       "SG_3         True\n",
       "SG_4         True\n",
       "SG_5         True\n",
       "SG_6         True\n",
       "SG_7         True\n",
       "SG_8         True\n",
       "SG_9         True\n",
       "SG_10        True\n",
       "SG_11        True\n",
       "SG_12        True\n",
       "SG_13        True\n",
       "SG_14        True\n",
       "SG_15        True\n",
       "SG_16        True\n",
       "SG_17        True\n",
       "SG_18        True\n",
       "SG_19        True\n",
       "SG_20        True\n",
       "SG_21        True\n",
       "SG_22        True\n",
       "SG_23        True\n",
       "SG_24        True\n",
       "SG_25        True\n",
       "SG_26        True\n",
       "SG_27        True\n",
       "SG_28        True\n",
       "SG_29        True\n",
       "SG_30        True\n",
       "SG_31        True\n",
       "SG_32        True\n",
       "SG_33        True\n",
       "SG_34        True\n",
       "SG_35        True\n",
       "SG_36        True\n",
       "SG_37        True\n",
       "SG_38        True\n",
       "SG_39        True\n",
       "SG_40        True\n",
       "SG_41        True\n",
       "SG_42        True\n",
       "SG_43        True\n",
       "SG_44        True"
      ]
     },
     "execution_count": 20,
     "metadata": {},
     "output_type": "execute_result"
    }
   ],
   "source": [
    "ica_data.imodulon_table[ica_data.imodulon_table.single_gene == True]"
   ]
  },
  {
   "cell_type": "code",
   "execution_count": 21,
   "metadata": {},
   "outputs": [
    {
     "data": {
      "text/html": [
       "<div>\n",
       "<style scoped>\n",
       "    .dataframe tbody tr th:only-of-type {\n",
       "        vertical-align: middle;\n",
       "    }\n",
       "\n",
       "    .dataframe tbody tr th {\n",
       "        vertical-align: top;\n",
       "    }\n",
       "\n",
       "    .dataframe thead th {\n",
       "        text-align: right;\n",
       "    }\n",
       "</style>\n",
       "<table border=\"1\" class=\"dataframe\">\n",
       "  <thead>\n",
       "    <tr style=\"text-align: right;\">\n",
       "      <th></th>\n",
       "      <th>gene_weight</th>\n",
       "      <th>gene_name</th>\n",
       "      <th>accession</th>\n",
       "      <th>old_locus_tag</th>\n",
       "      <th>start</th>\n",
       "      <th>end</th>\n",
       "      <th>strand</th>\n",
       "      <th>gene_product</th>\n",
       "      <th>COG</th>\n",
       "      <th>uniprot</th>\n",
       "      <th>operon</th>\n",
       "    </tr>\n",
       "  </thead>\n",
       "  <tbody>\n",
       "    <tr>\n",
       "      <th>cg1514</th>\n",
       "      <td>0.925392</td>\n",
       "      <td>cg1514</td>\n",
       "      <td>BX927147.1</td>\n",
       "      <td>NaN</td>\n",
       "      <td>1406784.0</td>\n",
       "      <td>1407536.0</td>\n",
       "      <td>-</td>\n",
       "      <td>secreted protein</td>\n",
       "      <td>No COG annotation</td>\n",
       "      <td>NaN</td>\n",
       "      <td>Op857</td>\n",
       "    </tr>\n",
       "  </tbody>\n",
       "</table>\n",
       "</div>"
      ],
      "text/plain": [
       "        gene_weight gene_name   accession  old_locus_tag      start  \\\n",
       "cg1514     0.925392    cg1514  BX927147.1            NaN  1406784.0   \n",
       "\n",
       "              end strand      gene_product                COG uniprot operon  \n",
       "cg1514  1407536.0      -  secreted protein  No COG annotation     NaN  Op857  "
      ]
     },
     "execution_count": 21,
     "metadata": {},
     "output_type": "execute_result"
    }
   ],
   "source": [
    "ica_data.view_imodulon('SG_1')"
   ]
  },
  {
   "cell_type": "markdown",
   "metadata": {},
   "source": [
    "# Save iModulon object"
   ]
  },
  {
   "cell_type": "code",
   "execution_count": 22,
   "metadata": {},
   "outputs": [],
   "source": [
    "from pymodulon.util import explained_variance\n",
    "from pymodulon.io import *"
   ]
  },
  {
   "cell_type": "code",
   "execution_count": 23,
   "metadata": {},
   "outputs": [],
   "source": [
    "# Add iModulon sizes and explained variance\n",
    "for im in ica_data.imodulon_names:\n",
    "    ica_data.imodulon_table.loc[im,'imodulon_size'] = len(ica_data.view_imodulon(im))\n",
    "    ica_data.imodulon_table.loc[im,'explained_variance'] = explained_variance(ica_data,imodulons=im)"
   ]
  },
  {
   "cell_type": "markdown",
   "metadata": {},
   "source": [
    "This will save your iModulon table, your thresholds, and any other information stored in the ica_data object."
   ]
  },
  {
   "cell_type": "code",
   "execution_count": 24,
   "metadata": {},
   "outputs": [],
   "source": [
    "save_to_json(ica_data, path.join(data_dir,'bsu_raw.json.gz'))"
   ]
  },
  {
   "cell_type": "markdown",
   "metadata": {},
   "source": [
    "If you prefer to view and edit your iModulon table in excel, save it as a CSV and reload the iModulon as before"
   ]
  },
  {
   "cell_type": "code",
   "execution_count": 25,
   "metadata": {},
   "outputs": [],
   "source": [
    "ica_data.imodulon_table.to_csv(path.join(data_dir,'imodulon_table_raw.csv'))"
   ]
  },
  {
   "cell_type": "code",
   "execution_count": null,
   "metadata": {},
   "outputs": [],
   "source": []
  }
 ],
 "metadata": {
  "kernelspec": {
   "display_name": "Python 3 (ipykernel)",
   "language": "python",
   "name": "python3"
  },
  "language_info": {
   "codemirror_mode": {
    "name": "ipython",
    "version": 3
   },
   "file_extension": ".py",
   "mimetype": "text/x-python",
   "name": "python",
   "nbconvert_exporter": "python",
   "pygments_lexer": "ipython3",
   "version": "3.7.16"
  },
  "toc": {
   "base_numbering": 1,
   "nav_menu": {},
   "number_sections": true,
   "sideBar": true,
   "skip_h1_title": false,
   "title_cell": "Table of Contents",
   "title_sidebar": "Contents",
   "toc_cell": true,
   "toc_position": {},
   "toc_section_display": true,
   "toc_window_display": false
  }
 },
 "nbformat": 4,
 "nbformat_minor": 2
}
