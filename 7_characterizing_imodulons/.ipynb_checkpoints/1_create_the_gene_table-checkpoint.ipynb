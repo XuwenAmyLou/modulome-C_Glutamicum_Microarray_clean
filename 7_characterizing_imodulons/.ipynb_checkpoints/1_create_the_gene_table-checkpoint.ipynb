{
 "cells": [
  {
   "cell_type": "markdown",
   "metadata": {},
   "source": [
    "# Creating the Gene Table\n",
    "This notebook is copied from the [Pymodulon GitHub repository](https://github.com/SBRG/pymodulon/blob/master/docs/tutorials/creating_the_gene_table.ipynb)"
   ]
  },
  {
   "cell_type": "markdown",
   "metadata": {},
   "source": [
    "## Get information from GFF files"
   ]
  },
  {
   "cell_type": "code",
   "execution_count": 3,
   "metadata": {},
   "outputs": [],
   "source": [
    "from pymodulon.gene_util import *\n",
    "import os\n",
    "import matplotlib.pyplot as plt\n",
    "import numpy as np\n",
    "import pandas as pd\n",
    "import seaborn as sns\n",
    "\n",
    "from os import path\n",
    "from pathlib import Path  "
   ]
  },
  {
   "cell_type": "markdown",
   "metadata": {},
   "source": [
    "First, download the FASTA and GFF files for your organism and its plasmids from NCBI."
   ]
  },
  {
   "cell_type": "markdown",
   "metadata": {},
   "source": [
    "Enter the location of all your GFF files here:"
   ]
  },
  {
   "cell_type": "code",
   "execution_count": 24,
   "metadata": {},
   "outputs": [],
   "source": [
    "gff_files = [os.path.join('/home/amy/Documents/GitHub/modulome-C_Glutamicum_Microarray_clean/7_characterizing_imodulons/Data/gene/genome.gff3')]\n",
    "gene_file = path.join('/home/amy/Documents/GitHub/modulome-C_Glutamicum_Microarray_clean/7_characterizing_imodulons/Data/gene/gene.csv') # Enter metadata filename here\n",
    "Kegg_file = path.join('/home/amy/Documents/GitHub/modulome-C_Glutamicum_Microarray_clean/7_characterizing_imodulons/Data/gene/Kegg_ID.csv') # Enter metadata filename here\n"
   ]
  },
  {
   "cell_type": "markdown",
   "metadata": {},
   "source": [
    "The following cell will convert all the GFF files into a single Pandas DataFrame for easy manipulation. Pseudogenes have multiple rows in a GFF file (one for each fragment), but only the first fragment will be kept."
   ]
  },
  {
   "cell_type": "code",
   "execution_count": 5,
   "metadata": {},
   "outputs": [
    {
     "name": "stderr",
     "output_type": "stream",
     "text": [
      "WARNING:root:Duplicate locus_tag detected. Dropping duplicates.\n"
     ]
    },
    {
     "data": {
      "text/html": [
       "<div>\n",
       "<style scoped>\n",
       "    .dataframe tbody tr th:only-of-type {\n",
       "        vertical-align: middle;\n",
       "    }\n",
       "\n",
       "    .dataframe tbody tr th {\n",
       "        vertical-align: top;\n",
       "    }\n",
       "\n",
       "    .dataframe thead th {\n",
       "        text-align: right;\n",
       "    }\n",
       "</style>\n",
       "<table border=\"1\" class=\"dataframe\">\n",
       "  <thead>\n",
       "    <tr style=\"text-align: right;\">\n",
       "      <th></th>\n",
       "      <th>accession</th>\n",
       "      <th>start</th>\n",
       "      <th>end</th>\n",
       "      <th>strand</th>\n",
       "      <th>gene_name</th>\n",
       "      <th>old_locus_tag</th>\n",
       "      <th>gene_product</th>\n",
       "      <th>ncbi_protein</th>\n",
       "    </tr>\n",
       "    <tr>\n",
       "      <th>locus_tag</th>\n",
       "      <th></th>\n",
       "      <th></th>\n",
       "      <th></th>\n",
       "      <th></th>\n",
       "      <th></th>\n",
       "      <th></th>\n",
       "      <th></th>\n",
       "      <th></th>\n",
       "    </tr>\n",
       "  </thead>\n",
       "  <tbody>\n",
       "    <tr>\n",
       "      <th>CYL77_RS00005</th>\n",
       "      <td>NZ_CP025533.1</td>\n",
       "      <td>1.0</td>\n",
       "      <td>1575.0</td>\n",
       "      <td>+</td>\n",
       "      <td>dnaA</td>\n",
       "      <td>CYL77_00005</td>\n",
       "      <td>chromosomal replication initiator protein DnaA</td>\n",
       "      <td>WP_011013309.1</td>\n",
       "    </tr>\n",
       "    <tr>\n",
       "      <th>CYL77_RS00015</th>\n",
       "      <td>NZ_CP025533.1</td>\n",
       "      <td>2292.0</td>\n",
       "      <td>3476.0</td>\n",
       "      <td>+</td>\n",
       "      <td>dnaN</td>\n",
       "      <td>CYL77_00015</td>\n",
       "      <td>DNA polymerase III subunit beta</td>\n",
       "      <td>WP_003855336.1</td>\n",
       "    </tr>\n",
       "    <tr>\n",
       "      <th>CYL77_RS00020</th>\n",
       "      <td>NZ_CP025533.1</td>\n",
       "      <td>3585.0</td>\n",
       "      <td>4769.0</td>\n",
       "      <td>+</td>\n",
       "      <td>recF</td>\n",
       "      <td>CYL77_00020</td>\n",
       "      <td>DNA replication/repair protein RecF</td>\n",
       "      <td>WP_011013310.1</td>\n",
       "    </tr>\n",
       "    <tr>\n",
       "      <th>CYL77_RS00025</th>\n",
       "      <td>NZ_CP025533.1</td>\n",
       "      <td>4766.0</td>\n",
       "      <td>5302.0</td>\n",
       "      <td>+</td>\n",
       "      <td>None</td>\n",
       "      <td>CYL77_00025</td>\n",
       "      <td>DUF721 domain-containing protein</td>\n",
       "      <td>WP_003855338.1</td>\n",
       "    </tr>\n",
       "    <tr>\n",
       "      <th>CYL77_RS00030</th>\n",
       "      <td>NZ_CP025533.1</td>\n",
       "      <td>5435.0</td>\n",
       "      <td>7489.0</td>\n",
       "      <td>+</td>\n",
       "      <td>gyrB</td>\n",
       "      <td>CYL77_00030</td>\n",
       "      <td>DNA topoisomerase (ATP-hydrolyzing) subunit B</td>\n",
       "      <td>WP_011013311.1</td>\n",
       "    </tr>\n",
       "    <tr>\n",
       "      <th>...</th>\n",
       "      <td>...</td>\n",
       "      <td>...</td>\n",
       "      <td>...</td>\n",
       "      <td>...</td>\n",
       "      <td>...</td>\n",
       "      <td>...</td>\n",
       "      <td>...</td>\n",
       "      <td>...</td>\n",
       "    </tr>\n",
       "    <tr>\n",
       "      <th>CYL77_RS15665</th>\n",
       "      <td>NZ_CP025533.1</td>\n",
       "      <td>3313085.0</td>\n",
       "      <td>3313714.0</td>\n",
       "      <td>-</td>\n",
       "      <td>rsmG</td>\n",
       "      <td>CYL77_15665</td>\n",
       "      <td>16S rRNA (guanine(527)-N(7))-methyltransferase...</td>\n",
       "      <td>WP_011266076.1</td>\n",
       "    </tr>\n",
       "    <tr>\n",
       "      <th>CYL77_RS15670</th>\n",
       "      <td>NZ_CP025533.1</td>\n",
       "      <td>3313903.0</td>\n",
       "      <td>3314856.0</td>\n",
       "      <td>-</td>\n",
       "      <td>yidC</td>\n",
       "      <td>CYL77_15670</td>\n",
       "      <td>membrane protein insertase YidC</td>\n",
       "      <td>WP_003855313.1</td>\n",
       "    </tr>\n",
       "    <tr>\n",
       "      <th>CYL77_RS15675</th>\n",
       "      <td>NZ_CP025533.1</td>\n",
       "      <td>3314912.0</td>\n",
       "      <td>3315211.0</td>\n",
       "      <td>-</td>\n",
       "      <td>yidD</td>\n",
       "      <td>CYL77_15675</td>\n",
       "      <td>membrane protein insertion efficiency factor YidD</td>\n",
       "      <td>WP_011266077.1</td>\n",
       "    </tr>\n",
       "    <tr>\n",
       "      <th>CYL77_RS15680</th>\n",
       "      <td>NZ_CP025533.1</td>\n",
       "      <td>3315192.0</td>\n",
       "      <td>3315593.0</td>\n",
       "      <td>-</td>\n",
       "      <td>rnpA</td>\n",
       "      <td>CYL77_15680</td>\n",
       "      <td>ribonuclease P protein component</td>\n",
       "      <td>WP_003860977.1</td>\n",
       "    </tr>\n",
       "    <tr>\n",
       "      <th>CYL77_RS15685</th>\n",
       "      <td>NZ_CP025533.1</td>\n",
       "      <td>3315633.0</td>\n",
       "      <td>3315776.0</td>\n",
       "      <td>-</td>\n",
       "      <td>rpmH</td>\n",
       "      <td>CYL77_15685</td>\n",
       "      <td>50S ribosomal protein L34</td>\n",
       "      <td>WP_003855320.1</td>\n",
       "    </tr>\n",
       "  </tbody>\n",
       "</table>\n",
       "<p>3014 rows × 8 columns</p>\n",
       "</div>"
      ],
      "text/plain": [
       "                   accession      start        end strand gene_name  \\\n",
       "locus_tag                                                             \n",
       "CYL77_RS00005  NZ_CP025533.1        1.0     1575.0      +      dnaA   \n",
       "CYL77_RS00015  NZ_CP025533.1     2292.0     3476.0      +      dnaN   \n",
       "CYL77_RS00020  NZ_CP025533.1     3585.0     4769.0      +      recF   \n",
       "CYL77_RS00025  NZ_CP025533.1     4766.0     5302.0      +      None   \n",
       "CYL77_RS00030  NZ_CP025533.1     5435.0     7489.0      +      gyrB   \n",
       "...                      ...        ...        ...    ...       ...   \n",
       "CYL77_RS15665  NZ_CP025533.1  3313085.0  3313714.0      -      rsmG   \n",
       "CYL77_RS15670  NZ_CP025533.1  3313903.0  3314856.0      -      yidC   \n",
       "CYL77_RS15675  NZ_CP025533.1  3314912.0  3315211.0      -      yidD   \n",
       "CYL77_RS15680  NZ_CP025533.1  3315192.0  3315593.0      -      rnpA   \n",
       "CYL77_RS15685  NZ_CP025533.1  3315633.0  3315776.0      -      rpmH   \n",
       "\n",
       "              old_locus_tag  \\\n",
       "locus_tag                     \n",
       "CYL77_RS00005   CYL77_00005   \n",
       "CYL77_RS00015   CYL77_00015   \n",
       "CYL77_RS00020   CYL77_00020   \n",
       "CYL77_RS00025   CYL77_00025   \n",
       "CYL77_RS00030   CYL77_00030   \n",
       "...                     ...   \n",
       "CYL77_RS15665   CYL77_15665   \n",
       "CYL77_RS15670   CYL77_15670   \n",
       "CYL77_RS15675   CYL77_15675   \n",
       "CYL77_RS15680   CYL77_15680   \n",
       "CYL77_RS15685   CYL77_15685   \n",
       "\n",
       "                                                    gene_product  \\\n",
       "locus_tag                                                          \n",
       "CYL77_RS00005     chromosomal replication initiator protein DnaA   \n",
       "CYL77_RS00015                    DNA polymerase III subunit beta   \n",
       "CYL77_RS00020                DNA replication/repair protein RecF   \n",
       "CYL77_RS00025                   DUF721 domain-containing protein   \n",
       "CYL77_RS00030      DNA topoisomerase (ATP-hydrolyzing) subunit B   \n",
       "...                                                          ...   \n",
       "CYL77_RS15665  16S rRNA (guanine(527)-N(7))-methyltransferase...   \n",
       "CYL77_RS15670                    membrane protein insertase YidC   \n",
       "CYL77_RS15675  membrane protein insertion efficiency factor YidD   \n",
       "CYL77_RS15680                   ribonuclease P protein component   \n",
       "CYL77_RS15685                          50S ribosomal protein L34   \n",
       "\n",
       "                 ncbi_protein  \n",
       "locus_tag                      \n",
       "CYL77_RS00005  WP_011013309.1  \n",
       "CYL77_RS00015  WP_003855336.1  \n",
       "CYL77_RS00020  WP_011013310.1  \n",
       "CYL77_RS00025  WP_003855338.1  \n",
       "CYL77_RS00030  WP_011013311.1  \n",
       "...                       ...  \n",
       "CYL77_RS15665  WP_011266076.1  \n",
       "CYL77_RS15670  WP_003855313.1  \n",
       "CYL77_RS15675  WP_011266077.1  \n",
       "CYL77_RS15680  WP_003860977.1  \n",
       "CYL77_RS15685  WP_003855320.1  \n",
       "\n",
       "[3014 rows x 8 columns]"
      ]
     },
     "execution_count": 5,
     "metadata": {},
     "output_type": "execute_result"
    }
   ],
   "source": [
    "keep_cols = ['accession','start','end','strand','gene_name','old_locus_tag','gene_product','ncbi_protein']\n",
    "\n",
    "DF_annot = gff2pandas(gff_files,index='locus_tag')\n",
    "DF_annot = DF_annot[keep_cols]\n",
    "\n",
    "DF_annot"
   ]
  },
  {
   "cell_type": "markdown",
   "metadata": {},
   "source": [
    "Since the microarray data use a different kind of annotation, it might be necessary to provide add a column of the gene ID that they used to match this locus tag\n",
    "1. in gene_ID, the start and end position also indicates the direction. Solution is to add the direction of the strand, but start position will now always be smalle than the end position"
   ]
  },
  {
   "cell_type": "code",
   "execution_count": 39,
   "metadata": {},
   "outputs": [],
   "source": [
    "gene_ID = pd.read_csv(gene_file, index_col=0).fillna(-1)\n",
    "Kegg_ID = pd.read_csv(Kegg_file, index_col=0,sep='\\t')"
   ]
  },
  {
   "cell_type": "code",
   "execution_count": 40,
   "metadata": {},
   "outputs": [],
   "source": [
    "gene_start = gene_ID[\"Start\"].tolist()\n",
    "gene_stop = gene_ID[\"Stop\"].tolist()\n",
    "strand = []\n",
    "for i in range(len(gene_start)):\n",
    "    if gene_start[i] < gene_stop[i]:\n",
    "        strand.append(\"+\")\n",
    "    else:\n",
    "        strand.append(\"-\")\n",
    "        temp = gene_start[i]\n",
    "        gene_start[i] = gene_stop[i]\n",
    "        gene_stop[i] = temp"
   ]
  },
  {
   "cell_type": "code",
   "execution_count": 41,
   "metadata": {},
   "outputs": [],
   "source": [
    "gene_ID = gene_ID.drop([\"Start\",\"Stop\"], axis = 1)\n",
    "gene_ID['Start'] = gene_start\n",
    "gene_ID['Stop'] = gene_stop\n",
    "gene_ID['Strand'] = strand"
   ]
  },
  {
   "cell_type": "code",
   "execution_count": 17,
   "metadata": {},
   "outputs": [],
   "source": [
    "from pathlib import Path  \n",
    "filepath = Path('/home/amy/Documents/GitHub/modulome-C_Glutamicum_Microarray_clean/7_characterizing_imodulons/Data/gene/gene.csv')  \n",
    "filepath.parent.mkdir(parents=True, exist_ok=True)  \n",
    "gene_ID.to_csv(filepath)  "
   ]
  },
  {
   "cell_type": "code",
   "execution_count": 59,
   "metadata": {},
   "outputs": [
    {
     "data": {
      "text/html": [
       "<div>\n",
       "<style scoped>\n",
       "    .dataframe tbody tr th:only-of-type {\n",
       "        vertical-align: middle;\n",
       "    }\n",
       "\n",
       "    .dataframe tbody tr th {\n",
       "        vertical-align: top;\n",
       "    }\n",
       "\n",
       "    .dataframe thead th {\n",
       "        text-align: right;\n",
       "    }\n",
       "</style>\n",
       "<table border=\"1\" class=\"dataframe\">\n",
       "  <thead>\n",
       "    <tr style=\"text-align: right;\">\n",
       "      <th></th>\n",
       "      <th>Annotation</th>\n",
       "      <th>Gene_name</th>\n",
       "      <th>Genome_ACC</th>\n",
       "      <th>ORF</th>\n",
       "      <th>Strand</th>\n",
       "      <th>Start</th>\n",
       "      <th>Stop</th>\n",
       "    </tr>\n",
       "    <tr>\n",
       "      <th>ID</th>\n",
       "      <th></th>\n",
       "      <th></th>\n",
       "      <th></th>\n",
       "      <th></th>\n",
       "      <th></th>\n",
       "      <th></th>\n",
       "      <th></th>\n",
       "    </tr>\n",
       "  </thead>\n",
       "  <tbody>\n",
       "    <tr>\n",
       "      <th>cg0001</th>\n",
       "      <td>chromosomal replication initiation protein</td>\n",
       "      <td>dnaA</td>\n",
       "      <td>BX927147</td>\n",
       "      <td>cg0001</td>\n",
       "      <td>+</td>\n",
       "      <td>1.0</td>\n",
       "      <td>1575.0</td>\n",
       "    </tr>\n",
       "    <tr>\n",
       "      <th>cg0002</th>\n",
       "      <td>hypothetical protein</td>\n",
       "      <td>0</td>\n",
       "      <td>BX927147</td>\n",
       "      <td>cg0002</td>\n",
       "      <td>+</td>\n",
       "      <td>1594.0</td>\n",
       "      <td>1920.0</td>\n",
       "    </tr>\n",
       "    <tr>\n",
       "      <th>cg0004</th>\n",
       "      <td>DNA polymerase III subunit ? (EC:2.7.7.7)</td>\n",
       "      <td>dnaN</td>\n",
       "      <td>BX927147</td>\n",
       "      <td>cg0004</td>\n",
       "      <td>+</td>\n",
       "      <td>2292.0</td>\n",
       "      <td>3476.0</td>\n",
       "    </tr>\n",
       "    <tr>\n",
       "      <th>cg0005</th>\n",
       "      <td>recombination protein RecF</td>\n",
       "      <td>recF</td>\n",
       "      <td>BX927147</td>\n",
       "      <td>cg0005</td>\n",
       "      <td>+</td>\n",
       "      <td>3585.0</td>\n",
       "      <td>4769.0</td>\n",
       "    </tr>\n",
       "    <tr>\n",
       "      <th>cg0006</th>\n",
       "      <td>hypothetical protein, conserved</td>\n",
       "      <td>0</td>\n",
       "      <td>BX927147</td>\n",
       "      <td>cg0006</td>\n",
       "      <td>+</td>\n",
       "      <td>4766.0</td>\n",
       "      <td>5302.0</td>\n",
       "    </tr>\n",
       "    <tr>\n",
       "      <th>...</th>\n",
       "      <td>...</td>\n",
       "      <td>...</td>\n",
       "      <td>...</td>\n",
       "      <td>...</td>\n",
       "      <td>...</td>\n",
       "      <td>...</td>\n",
       "      <td>...</td>\n",
       "    </tr>\n",
       "    <tr>\n",
       "      <th>cgtRNA_3583</th>\n",
       "      <td>Asp tRNA</td>\n",
       "      <td>0</td>\n",
       "      <td>BX927147</td>\n",
       "      <td>cgtRNA_3583</td>\n",
       "      <td>+</td>\n",
       "      <td>2698749.0</td>\n",
       "      <td>2698859.0</td>\n",
       "    </tr>\n",
       "    <tr>\n",
       "      <th>cgtRNA_3584</th>\n",
       "      <td>Glu tRNA</td>\n",
       "      <td>0</td>\n",
       "      <td>BX927147</td>\n",
       "      <td>cgtRNA_3584</td>\n",
       "      <td>+</td>\n",
       "      <td>2698861.0</td>\n",
       "      <td>2698954.0</td>\n",
       "    </tr>\n",
       "    <tr>\n",
       "      <th>cgtRNA_3585</th>\n",
       "      <td>Lys tRNA</td>\n",
       "      <td>0</td>\n",
       "      <td>BX927147</td>\n",
       "      <td>cgtRNA_3585</td>\n",
       "      <td>+</td>\n",
       "      <td>2700806.0</td>\n",
       "      <td>2700878.0</td>\n",
       "    </tr>\n",
       "    <tr>\n",
       "      <th>cgtRNA_3586</th>\n",
       "      <td>Thr tRNA</td>\n",
       "      <td>0</td>\n",
       "      <td>BX927147</td>\n",
       "      <td>cgtRNA_3586</td>\n",
       "      <td>+</td>\n",
       "      <td>2764068.0</td>\n",
       "      <td>2764146.0</td>\n",
       "    </tr>\n",
       "    <tr>\n",
       "      <th>cgtRNA_3587</th>\n",
       "      <td>Gly tRNA</td>\n",
       "      <td>0</td>\n",
       "      <td>BX927147</td>\n",
       "      <td>cgtRNA_3587</td>\n",
       "      <td>+</td>\n",
       "      <td>3010857.0</td>\n",
       "      <td>3010930.0</td>\n",
       "    </tr>\n",
       "  </tbody>\n",
       "</table>\n",
       "<p>3116 rows × 7 columns</p>\n",
       "</div>"
      ],
      "text/plain": [
       "                                             Annotation Gene_name Genome_ACC  \\\n",
       "ID                                                                             \n",
       "cg0001       chromosomal replication initiation protein      dnaA   BX927147   \n",
       "cg0002                             hypothetical protein         0   BX927147   \n",
       "cg0004        DNA polymerase III subunit ? (EC:2.7.7.7)      dnaN   BX927147   \n",
       "cg0005                       recombination protein RecF      recF   BX927147   \n",
       "cg0006                  hypothetical protein, conserved         0   BX927147   \n",
       "...                                                 ...       ...        ...   \n",
       "cgtRNA_3583                                    Asp tRNA         0   BX927147   \n",
       "cgtRNA_3584                                    Glu tRNA         0   BX927147   \n",
       "cgtRNA_3585                                    Lys tRNA         0   BX927147   \n",
       "cgtRNA_3586                                    Thr tRNA         0   BX927147   \n",
       "cgtRNA_3587                                    Gly tRNA         0   BX927147   \n",
       "\n",
       "                     ORF Strand      Start       Stop  \n",
       "ID                                                     \n",
       "cg0001            cg0001      +        1.0     1575.0  \n",
       "cg0002            cg0002      +     1594.0     1920.0  \n",
       "cg0004            cg0004      +     2292.0     3476.0  \n",
       "cg0005            cg0005      +     3585.0     4769.0  \n",
       "cg0006            cg0006      +     4766.0     5302.0  \n",
       "...                  ...    ...        ...        ...  \n",
       "cgtRNA_3583  cgtRNA_3583      +  2698749.0  2698859.0  \n",
       "cgtRNA_3584  cgtRNA_3584      +  2698861.0  2698954.0  \n",
       "cgtRNA_3585  cgtRNA_3585      +  2700806.0  2700878.0  \n",
       "cgtRNA_3586  cgtRNA_3586      +  2764068.0  2764146.0  \n",
       "cgtRNA_3587  cgtRNA_3587      +  3010857.0  3010930.0  \n",
       "\n",
       "[3116 rows x 7 columns]"
      ]
     },
     "execution_count": 59,
     "metadata": {},
     "output_type": "execute_result"
    }
   ],
   "source": [
    "gene_ID"
   ]
  },
  {
   "cell_type": "code",
   "execution_count": 58,
   "metadata": {},
   "outputs": [
    {
     "name": "stderr",
     "output_type": "stream",
     "text": [
      "/home/amy/anaconda3/envs/modulome/lib/python3.7/site-packages/ipykernel_launcher.py:3: SettingWithCopyWarning: \n",
      "A value is trying to be set on a copy of a slice from a DataFrame\n",
      "\n",
      "See the caveats in the documentation: https://pandas.pydata.org/pandas-docs/stable/user_guide/indexing.html#returning-a-view-versus-a-copy\n",
      "  This is separate from the ipykernel package so we can avoid doing imports until\n"
     ]
    }
   ],
   "source": [
    "for i, gene_name in gene_ID.Gene_name.iteritems():\n",
    "    if isinstance(gene_name, str):\n",
    "        gene_ID.Gene_name[i] = str.strip(gene_name)"
   ]
  },
  {
   "cell_type": "code",
   "execution_count": 48,
   "metadata": {},
   "outputs": [
    {
     "data": {
      "text/html": [
       "<div>\n",
       "<style scoped>\n",
       "    .dataframe tbody tr th:only-of-type {\n",
       "        vertical-align: middle;\n",
       "    }\n",
       "\n",
       "    .dataframe tbody tr th {\n",
       "        vertical-align: top;\n",
       "    }\n",
       "\n",
       "    .dataframe thead th {\n",
       "        text-align: right;\n",
       "    }\n",
       "</style>\n",
       "<table border=\"1\" class=\"dataframe\">\n",
       "  <thead>\n",
       "    <tr style=\"text-align: right;\">\n",
       "      <th></th>\n",
       "      <th>accession</th>\n",
       "      <th>start</th>\n",
       "      <th>end</th>\n",
       "      <th>strand</th>\n",
       "      <th>gene_name</th>\n",
       "      <th>old_locus_tag</th>\n",
       "      <th>gene_product</th>\n",
       "      <th>ncbi_protein</th>\n",
       "    </tr>\n",
       "    <tr>\n",
       "      <th>locus_tag</th>\n",
       "      <th></th>\n",
       "      <th></th>\n",
       "      <th></th>\n",
       "      <th></th>\n",
       "      <th></th>\n",
       "      <th></th>\n",
       "      <th></th>\n",
       "      <th></th>\n",
       "    </tr>\n",
       "  </thead>\n",
       "  <tbody>\n",
       "    <tr>\n",
       "      <th>CYL77_RS00005</th>\n",
       "      <td>NZ_CP025533.1</td>\n",
       "      <td>1.0</td>\n",
       "      <td>1575.0</td>\n",
       "      <td>+</td>\n",
       "      <td>dnaA</td>\n",
       "      <td>CYL77_00005</td>\n",
       "      <td>chromosomal replication initiator protein DnaA</td>\n",
       "      <td>WP_011013309.1</td>\n",
       "    </tr>\n",
       "    <tr>\n",
       "      <th>CYL77_RS00015</th>\n",
       "      <td>NZ_CP025533.1</td>\n",
       "      <td>2292.0</td>\n",
       "      <td>3476.0</td>\n",
       "      <td>+</td>\n",
       "      <td>dnaN</td>\n",
       "      <td>CYL77_00015</td>\n",
       "      <td>DNA polymerase III subunit beta</td>\n",
       "      <td>WP_003855336.1</td>\n",
       "    </tr>\n",
       "    <tr>\n",
       "      <th>CYL77_RS00020</th>\n",
       "      <td>NZ_CP025533.1</td>\n",
       "      <td>3585.0</td>\n",
       "      <td>4769.0</td>\n",
       "      <td>+</td>\n",
       "      <td>recF</td>\n",
       "      <td>CYL77_00020</td>\n",
       "      <td>DNA replication/repair protein RecF</td>\n",
       "      <td>WP_011013310.1</td>\n",
       "    </tr>\n",
       "    <tr>\n",
       "      <th>CYL77_RS00025</th>\n",
       "      <td>NZ_CP025533.1</td>\n",
       "      <td>4766.0</td>\n",
       "      <td>5302.0</td>\n",
       "      <td>+</td>\n",
       "      <td>None</td>\n",
       "      <td>CYL77_00025</td>\n",
       "      <td>DUF721 domain-containing protein</td>\n",
       "      <td>WP_003855338.1</td>\n",
       "    </tr>\n",
       "    <tr>\n",
       "      <th>CYL77_RS00030</th>\n",
       "      <td>NZ_CP025533.1</td>\n",
       "      <td>5435.0</td>\n",
       "      <td>7489.0</td>\n",
       "      <td>+</td>\n",
       "      <td>gyrB</td>\n",
       "      <td>CYL77_00030</td>\n",
       "      <td>DNA topoisomerase (ATP-hydrolyzing) subunit B</td>\n",
       "      <td>WP_011013311.1</td>\n",
       "    </tr>\n",
       "    <tr>\n",
       "      <th>...</th>\n",
       "      <td>...</td>\n",
       "      <td>...</td>\n",
       "      <td>...</td>\n",
       "      <td>...</td>\n",
       "      <td>...</td>\n",
       "      <td>...</td>\n",
       "      <td>...</td>\n",
       "      <td>...</td>\n",
       "    </tr>\n",
       "    <tr>\n",
       "      <th>CYL77_RS15665</th>\n",
       "      <td>NZ_CP025533.1</td>\n",
       "      <td>3313085.0</td>\n",
       "      <td>3313714.0</td>\n",
       "      <td>-</td>\n",
       "      <td>rsmG</td>\n",
       "      <td>CYL77_15665</td>\n",
       "      <td>16S rRNA (guanine(527)-N(7))-methyltransferase...</td>\n",
       "      <td>WP_011266076.1</td>\n",
       "    </tr>\n",
       "    <tr>\n",
       "      <th>CYL77_RS15670</th>\n",
       "      <td>NZ_CP025533.1</td>\n",
       "      <td>3313903.0</td>\n",
       "      <td>3314856.0</td>\n",
       "      <td>-</td>\n",
       "      <td>yidC</td>\n",
       "      <td>CYL77_15670</td>\n",
       "      <td>membrane protein insertase YidC</td>\n",
       "      <td>WP_003855313.1</td>\n",
       "    </tr>\n",
       "    <tr>\n",
       "      <th>CYL77_RS15675</th>\n",
       "      <td>NZ_CP025533.1</td>\n",
       "      <td>3314912.0</td>\n",
       "      <td>3315211.0</td>\n",
       "      <td>-</td>\n",
       "      <td>yidD</td>\n",
       "      <td>CYL77_15675</td>\n",
       "      <td>membrane protein insertion efficiency factor YidD</td>\n",
       "      <td>WP_011266077.1</td>\n",
       "    </tr>\n",
       "    <tr>\n",
       "      <th>CYL77_RS15680</th>\n",
       "      <td>NZ_CP025533.1</td>\n",
       "      <td>3315192.0</td>\n",
       "      <td>3315593.0</td>\n",
       "      <td>-</td>\n",
       "      <td>rnpA</td>\n",
       "      <td>CYL77_15680</td>\n",
       "      <td>ribonuclease P protein component</td>\n",
       "      <td>WP_003860977.1</td>\n",
       "    </tr>\n",
       "    <tr>\n",
       "      <th>CYL77_RS15685</th>\n",
       "      <td>NZ_CP025533.1</td>\n",
       "      <td>3315633.0</td>\n",
       "      <td>3315776.0</td>\n",
       "      <td>-</td>\n",
       "      <td>rpmH</td>\n",
       "      <td>CYL77_15685</td>\n",
       "      <td>50S ribosomal protein L34</td>\n",
       "      <td>WP_003855320.1</td>\n",
       "    </tr>\n",
       "  </tbody>\n",
       "</table>\n",
       "<p>3014 rows × 8 columns</p>\n",
       "</div>"
      ],
      "text/plain": [
       "                   accession      start        end strand gene_name  \\\n",
       "locus_tag                                                             \n",
       "CYL77_RS00005  NZ_CP025533.1        1.0     1575.0      +      dnaA   \n",
       "CYL77_RS00015  NZ_CP025533.1     2292.0     3476.0      +      dnaN   \n",
       "CYL77_RS00020  NZ_CP025533.1     3585.0     4769.0      +      recF   \n",
       "CYL77_RS00025  NZ_CP025533.1     4766.0     5302.0      +      None   \n",
       "CYL77_RS00030  NZ_CP025533.1     5435.0     7489.0      +      gyrB   \n",
       "...                      ...        ...        ...    ...       ...   \n",
       "CYL77_RS15665  NZ_CP025533.1  3313085.0  3313714.0      -      rsmG   \n",
       "CYL77_RS15670  NZ_CP025533.1  3313903.0  3314856.0      -      yidC   \n",
       "CYL77_RS15675  NZ_CP025533.1  3314912.0  3315211.0      -      yidD   \n",
       "CYL77_RS15680  NZ_CP025533.1  3315192.0  3315593.0      -      rnpA   \n",
       "CYL77_RS15685  NZ_CP025533.1  3315633.0  3315776.0      -      rpmH   \n",
       "\n",
       "              old_locus_tag  \\\n",
       "locus_tag                     \n",
       "CYL77_RS00005   CYL77_00005   \n",
       "CYL77_RS00015   CYL77_00015   \n",
       "CYL77_RS00020   CYL77_00020   \n",
       "CYL77_RS00025   CYL77_00025   \n",
       "CYL77_RS00030   CYL77_00030   \n",
       "...                     ...   \n",
       "CYL77_RS15665   CYL77_15665   \n",
       "CYL77_RS15670   CYL77_15670   \n",
       "CYL77_RS15675   CYL77_15675   \n",
       "CYL77_RS15680   CYL77_15680   \n",
       "CYL77_RS15685   CYL77_15685   \n",
       "\n",
       "                                                    gene_product  \\\n",
       "locus_tag                                                          \n",
       "CYL77_RS00005     chromosomal replication initiator protein DnaA   \n",
       "CYL77_RS00015                    DNA polymerase III subunit beta   \n",
       "CYL77_RS00020                DNA replication/repair protein RecF   \n",
       "CYL77_RS00025                   DUF721 domain-containing protein   \n",
       "CYL77_RS00030      DNA topoisomerase (ATP-hydrolyzing) subunit B   \n",
       "...                                                          ...   \n",
       "CYL77_RS15665  16S rRNA (guanine(527)-N(7))-methyltransferase...   \n",
       "CYL77_RS15670                    membrane protein insertase YidC   \n",
       "CYL77_RS15675  membrane protein insertion efficiency factor YidD   \n",
       "CYL77_RS15680                   ribonuclease P protein component   \n",
       "CYL77_RS15685                          50S ribosomal protein L34   \n",
       "\n",
       "                 ncbi_protein  \n",
       "locus_tag                      \n",
       "CYL77_RS00005  WP_011013309.1  \n",
       "CYL77_RS00015  WP_003855336.1  \n",
       "CYL77_RS00020  WP_011013310.1  \n",
       "CYL77_RS00025  WP_003855338.1  \n",
       "CYL77_RS00030  WP_011013311.1  \n",
       "...                       ...  \n",
       "CYL77_RS15665  WP_011266076.1  \n",
       "CYL77_RS15670  WP_003855313.1  \n",
       "CYL77_RS15675  WP_011266077.1  \n",
       "CYL77_RS15680  WP_003860977.1  \n",
       "CYL77_RS15685  WP_003855320.1  \n",
       "\n",
       "[3014 rows x 8 columns]"
      ]
     },
     "execution_count": 48,
     "metadata": {},
     "output_type": "execute_result"
    }
   ],
   "source": [
    "DF_annot"
   ]
  },
  {
   "cell_type": "code",
   "execution_count": 62,
   "metadata": {},
   "outputs": [
    {
     "data": {
      "text/plain": [
       "'dnaA'"
      ]
     },
     "execution_count": 62,
     "metadata": {},
     "output_type": "execute_result"
    }
   ],
   "source": [
    "gene_ID.Gene_name['cg0001']"
   ]
  },
  {
   "cell_type": "code",
   "execution_count": 63,
   "metadata": {},
   "outputs": [
    {
     "data": {
      "text/plain": [
       "'dnaA'"
      ]
     },
     "execution_count": 63,
     "metadata": {},
     "output_type": "execute_result"
    }
   ],
   "source": [
    "DF_annot.gene_name['CYL77_RS00005']"
   ]
  },
  {
   "cell_type": "code",
   "execution_count": 69,
   "metadata": {},
   "outputs": [
    {
     "data": {
      "text/plain": [
       "True"
      ]
     },
     "execution_count": 69,
     "metadata": {},
     "output_type": "execute_result"
    }
   ],
   "source": [
    "'dnaA' in gene_ID.Gene_name.values"
   ]
  },
  {
   "cell_type": "code",
   "execution_count": 70,
   "metadata": {},
   "outputs": [
    {
     "name": "stdout",
     "output_type": "stream",
     "text": [
      "dnaA cg0001 CYL77_RS00005\n",
      "dnaN cg0004 CYL77_RS00015\n",
      "recF cg0005 CYL77_RS00020\n",
      "gyrB cg0007 CYL77_RS00030\n",
      "ssuR cg0012 CYL77_RS00050\n",
      "gyrA cg0015 CYL77_RS00065\n",
      "crgA cg0055 CYL77_RS00235\n",
      "pknB cg0057 CYL77_RS00240\n",
      "bioB cg0095 CYL77_RS00405\n",
      "ureC cg0115 CYL77_RS00500\n",
      "ureE cg0116 CYL77_RS00505\n",
      "ureG cg0118 CYL77_RS00515\n",
      "amn cg0124 CYL77_RS00545\n",
      "xylB cg0147 CYL77_RS00635\n",
      "panC cg0148 CYL77_RS00640\n",
      "panB cg0149 CYL77_RS00645\n",
      "iolR cg0196 CYL77_RS00855\n",
      "iolC cg0197 CYL77_RS00860\n",
      "iolB cg0201 CYL77_RS00875\n",
      "iolD cg0202 CYL77_RS00880\n",
      "gltB cg0229 CYL77_RS00990\n",
      "moaC cg0260 CYL77_RS01135\n",
      "modA cg0263 CYL77_RS01150\n",
      "hisC cg2304 CYL77_RS01170\n",
      "tgt cg0285 CYL77_RS01260\n",
      "leuA cg0303 CYL77_RS01355\n",
      "brnF cg0314 CYL77_RS01400\n",
      "brnE cg0315 CYL77_RS01405\n",
      "nth cg0353 CYL77_RS01575\n",
      "topA cg0373 CYL77_RS01655\n",
      "murB cg0423 CYL77_RS01880\n",
      "lpdA cg0790 CYL77_RS01925\n",
      "ramB cg0444 CYL77_RS01940\n",
      "purU cg0457 CYL77_RS02005\n",
      "deoC cg0458 CYL77_RS02010\n",
      "mshA cg0481 CYL77_RS02095\n",
      "proC cg0490 CYL77_RS02140\n",
      "hemC cg0498 CYL77_RS02170\n",
      "qsuB cg0502 CYL77_RS02195\n",
      "hemB cg0512 CYL77_RS02245\n",
      "hemE cg0516 CYL77_RS02265\n",
      "hemL cg0518 CYL77_RS02275\n",
      "ccsB cg0524 CYL77_RS02300\n",
      "menE cg0533 CYL77_RS02340\n",
      "menD cg0552 CYL77_RS02420\n",
      "secE cg0561 CYL77_RS02480\n",
      "nusG cg0562 CYL77_RS02485\n",
      "rplK cg0563 CYL77_RS02490\n",
      "rplA cg0564 CYL77_RS02495\n",
      "gabT cg0566 CYL77_RS02505\n",
      "rplJ cg0572 CYL77_RS02535\n",
      "rplL cg0573 CYL77_RS02540\n",
      "rpsL cg0581 CYL77_RS02575\n",
      "rpsG cg0582 CYL77_RS02580\n",
      "fusA cg0583 CYL77_RS02585\n",
      "tuf cg0587 CYL77_RS02590\n",
      "rpsJ cg0593 CYL77_RS02620\n",
      "rplC cg0594 CYL77_RS02625\n",
      "rplD cg0596 CYL77_RS02630\n",
      "rplW cg0597 CYL77_RS02635\n",
      "rplB cg0598 CYL77_RS02640\n",
      "rpsS cg0599 CYL77_RS02645\n",
      "rplV cg0600 CYL77_RS02650\n",
      "rpsC cg0601 CYL77_RS02655\n",
      "rplP cg0602 CYL77_RS02660\n",
      "rpmC cg0603 CYL77_RS02665\n",
      "rpsQ cg0604 CYL77_RS02670\n",
      "rplN cg0608 CYL77_RS02685\n",
      "rplX cg0609 CYL77_RS02690\n",
      "rplE cg0610 CYL77_RS02695\n",
      "fdhD cg0616 CYL77_RS02715\n",
      "fdhF cg0618 CYL77_RS02725\n",
      "rpsH cg0628 CYL77_RS02765\n",
      "rplF cg0629 CYL77_RS02770\n",
      "rplR cg0630 CYL77_RS02775\n",
      "rpsE cg0631 CYL77_RS02780\n",
      "rpmD cg0632 CYL77_RS02785\n",
      "rplO cg0634 CYL77_RS02790\n",
      "secY cg0647 CYL77_RS02850\n",
      "infA cg0651 CYL77_RS02870\n",
      "rpsM cg0652 CYL77_RS02875\n",
      "rpsK cg0653 CYL77_RS02880\n",
      "rpsD cg0654 CYL77_RS02885\n",
      "rplQ cg0656 CYL77_RS02895\n",
      "truA cg0657 CYL77_RS02900\n",
      "rplM cg0673 CYL77_RS02970\n",
      "rpsI cg0674 CYL77_RS02975\n",
      "alr cg0681 CYL77_RS03005\n",
      "groES cg0690 CYL77_RS03050\n",
      "guaA cg0703 CYL77_RS03100\n",
      "trpS cg0779 CYL77_RS03435\n",
      "upp cg0786 CYL77_RS03470\n",
      "purE cg0820 CYL77_RS03620\n",
      "manA cg0856 CYL77_RS03780\n",
      "mtrA cg0862 CYL77_RS03810\n",
      "mtrB cg0864 CYL77_RS03815\n",
      "aroA cg0873 CYL77_RS03860\n",
      "pdxR cg0897 CYL77_RS03985\n",
      "pdxS cg0898 CYL77_RS03990\n",
      "pdxT cg0899 CYL77_RS03995\n",
      "hisN cg0910 CYL77_RS04055\n",
      "prfB cg0913 CYL77_RS04065\n",
      "ftsE cg0914 CYL77_RS04070\n",
      "ftsX cg0915 CYL77_RS04075\n",
      "smpB cg0916 CYL77_RS04080\n",
      "serC cg0948 CYL77_RS04240\n",
      "fkpA cg0950 CYL77_RS04250\n",
      "pgi cg0973 CYL77_RS04360\n",
      "pcrA cg0976 CYL77_RS04375\n",
      "purN cg0983 CYL77_RS04405\n",
      "purH cg0984 CYL77_RS04410\n",
      "amtR cg0986 CYL77_RS04420\n",
      "rpsR cg0988 CYL77_RS04430\n",
      "rpsN cg0989 CYL77_RS04435\n",
      "rpmG cg0990 CYL77_RS04440\n",
      "rpmB cg0991 CYL77_RS04445\n",
      "rpmF cg0995 CYL77_RS04465\n",
      "mscL cg1001 CYL77_RS04495\n",
      "betP cg1016 CYL77_RS04560\n",
      "dld cg1027 CYL77_RS04600\n",
      "urtA cg1061 CYL77_RS04740\n",
      "urtB cg1062 CYL77_RS04745\n",
      "urtC cg1064 CYL77_RS04750\n",
      "urtD cg1065 CYL77_RS04755\n",
      "urtE cg1066 CYL77_RS04760\n",
      "glmU cg1076 CYL77_RS04810\n",
      "mfd cg1099 CYL77_RS04910\n",
      "eno cg1111 CYL77_RS04965\n",
      "ppx2 cg1115 CYL77_RS04980\n",
      "greA cg1123 CYL77_RS05025\n",
      "mca cg1127 CYL77_RS05035\n",
      "coaA cg1132 CYL77_RS05060\n",
      "glyA cg1133 CYL77_RS05065\n",
      "xseA cg1163 CYL77_RS05200\n",
      "metS cg1017 CYL77_RS05220\n",
      "nadC cg1215 CYL77_RS05415\n",
      "nadA cg1216 CYL77_RS05420\n",
      "mshB cg1250 CYL77_RS05575\n",
      "dapC cg1253 CYL77_RS05590\n",
      "dapD cg1256 CYL77_RS05605\n",
      "aroP cg1257 CYL77_RS05610\n",
      "dapE cg1260 CYL77_RS05620\n",
      "glgA cg1268 CYL77_RS05660\n",
      "glgC cg1269 CYL77_RS05665\n",
      "sigE cg1271 CYL77_RS05675\n",
      "tatB cg1273 CYL77_RS05685\n",
      "metE cg1290 CYL77_RS05770\n",
      "cydC cg1298 CYL77_RS05805\n",
      "cydB cg1300 CYL77_RS05815\n",
      "putP cg1314 CYL77_RS05880\n",
      "rosR cg1324 CYL77_RS05920\n",
      "argS cg1333 CYL77_RS05965\n",
      "lysA cg1334 CYL77_RS05970\n",
      "thrB cg1338 CYL77_RS05990\n",
      "narI cg1341 CYL77_RS06000\n",
      "narJ cg1342 CYL77_RS06005\n",
      "narH cg1343 CYL77_RS06010\n",
      "moaA cg1352 CYL77_RS06055\n",
      "rho cg1354 CYL77_RS06065\n",
      "prfA cg1355 CYL77_RS06070\n",
      "atpB cg1362 CYL77_RS06100\n",
      "atpA cg1366 CYL77_RS06120\n",
      "atpD cg1368 CYL77_RS06130\n",
      "glgB cg1381 CYL77_RS06190\n",
      "ligA cg1401 CYL77_RS06290\n",
      "gatC cg1403 CYL77_RS06300\n",
      "gatA cg1404 CYL77_RS06305\n",
      "rbsD cg1414 CYL77_RS06345\n",
      "gatB cg1420 CYL77_RS06365\n",
      "lysE cg1424 CYL77_RS06380\n",
      "ilvD cg1432 CYL77_RS06410\n",
      "ilvN cg1436 CYL77_RS06430\n",
      "ilvC cg1437 CYL77_RS06435\n",
      "serA cg1451 CYL77_RS06485\n",
      "gltX cg0289 CYL77_RS06530\n",
      "thiC cg1476 CYL77_RS06600\n",
      "leuC cg1487 CYL77_RS06645\n",
      "leuD cg1488 CYL77_RS06650\n",
      "coaD cg1501 CYL77_RS06710\n",
      "polA cg1525 CYL77_RS06845\n",
      "rpsA cg1531 CYL77_RS06875\n",
      "coaE cg1538 CYL77_RS06885\n",
      "uvrB cg1550 CYL77_RS06935\n",
      "uvrA cg1560 CYL77_RS06970\n",
      "infC cg1563 CYL77_RS06980\n",
      "rpmI cg1564 CYL77_RS06985\n",
      "rplT cg1565 CYL77_RS06990\n",
      "ugpC cg1571 CYL77_RS07020\n",
      "pheS cg1574 CYL77_RS07035\n",
      "pheT cg1575 CYL77_RS07040\n",
      "argC cg1580 CYL77_RS07060\n",
      "argJ cg1581 CYL77_RS07065\n",
      "argB cg1582 CYL77_RS07070\n",
      "argF cg1584 CYL77_RS07080\n",
      "argH cg1588 CYL77_RS07095\n",
      "tyrS cg1594 CYL77_RS07120\n",
      "recN cg1602 CYL77_RS07180\n",
      "xerD cg1608 CYL77_RS07205\n",
      "scpB cg1614 CYL77_RS07235\n",
      "cmk cg1616 CYL77_RS07245\n",
      "secA2 cg1629 CYL77_RS07310\n",
      "thiM cg1655 CYL77_RS07430\n",
      "tatC cg1684 CYL77_RS07560\n",
      "tatA cg1685 CYL77_RS07565\n",
      "aspA cg1697 CYL77_RS07625\n",
      "hisG cg1698 CYL77_RS07630\n",
      "metH cg1701 CYL77_RS07645\n",
      "mshC cg1709 CYL77_RS07685\n",
      "meaB cg1724 CYL77_RS07760\n",
      "scpA cg1611 CYL77_RS07765\n",
      "acnR cg1738 CYL77_RS07825\n",
      "sufC cg1762 CYL77_RS07925\n",
      "sufD cg1763 CYL77_RS07930\n",
      "sufB cg1764 CYL77_RS07935\n",
      "mptB cg1766 CYL77_RS07945\n",
      "tkt cg1774 CYL77_RS07980\n",
      "tal cg1776 CYL77_RS07985\n",
      "zwf cg1778 CYL77_RS07990\n",
      "secG cg1786 CYL77_RS08030\n",
      "ppc cg1787 CYL77_RS08035\n",
      "pgk cg1790 CYL77_RS08045\n",
      "uvrC cg1795 CYL77_RS08070\n",
      "ribH cg1797 CYL77_RS08080\n",
      "ribD cg2076 CYL77_RS08095\n",
      "rpe cg1801 CYL77_RS08100\n",
      "fmt cg1803 CYL77_RS08110\n",
      "metK cg1806 CYL77_RS08125\n",
      "gmk cg1810 CYL77_RS08140\n",
      "pyrF cg1812 CYL77_RS08150\n",
      "carB cg1813 CYL77_RS08155\n",
      "carA cg1814 CYL77_RS08160\n",
      "pyrR cg1817 CYL77_RS08175\n",
      "nusB cg1824 CYL77_RS08200\n",
      "efp cg1825 CYL77_RS08205\n",
      "aroB cg1827 CYL77_RS08215\n",
      "aroC cg1829 CYL77_RS08225\n",
      "alaS cg1838 CYL77_RS08270\n",
      "aspS cg1841 CYL77_RS08285\n",
      "hisS cg1855 CYL77_RS08340\n",
      "secF cg1865 CYL77_RS08380\n",
      "secD cg1867 CYL77_RS08385\n",
      "ruvB cg1869 CYL77_RS08395\n",
      "ruvA cg1870 CYL77_RS08400\n",
      "ruvC cg1871 CYL77_RS08405\n",
      "thrS cg1880 CYL77_RS08450\n",
      "gip cg2312 CYL77_RS08895\n",
      "aftC cg2077 CYL77_RS09575\n",
      "msrB cg2078 CYL77_RS09580\n",
      "dxs cg2083 CYL77_RS09600\n",
      "dut cg2086 CYL77_RS09615\n",
      "ppgK cg2091 CYL77_RS09640\n",
      "galE cg2104 CYL77_RS09695\n",
      "hrpA cg2111 CYL77_RS09725\n",
      "nrdR cg2112 CYL77_RS09730\n",
      "lexA cg2114 CYL77_RS09740\n",
      "hflX cg2126 CYL77_RS09790\n",
      "dapF cg2129 CYL77_RS09805\n",
      "miaA cg2130 CYL77_RS09810\n",
      "miaB cg2135 CYL77_RS09835\n",
      "gluA cg2136 CYL77_RS09840\n",
      "gluB cg2137 CYL77_RS09845\n",
      "gluC cg2138 CYL77_RS09850\n",
      "recX cg2140 CYL77_RS09860\n",
      "recA cg2141 CYL77_RS09865\n",
      "bioY cg2147 CYL77_RS09880\n",
      "dapA cg2161 CYL77_RS09940\n",
      "thyX cg2162 CYL77_RS09945\n",
      "dapB cg2163 CYL77_RS09950\n",
      "rpsO cg2167 CYL77_RS09965\n",
      "truB cg2170 CYL77_RS09980\n",
      "rbfA cg2175 CYL77_RS10005\n",
      "infB cg2176 CYL77_RS10010\n",
      "nusA cg2178 CYL77_RS10020\n",
      "mqo cg2192 CYL77_RS10095\n",
      "ispG cg2206 CYL77_RS10155\n",
      "dxr cg2208 CYL77_RS10165\n",
      "frr cg2217 CYL77_RS10200\n",
      "pyrH cg2218 CYL77_RS10205\n",
      "tsf cg2221 CYL77_RS10210\n",
      "rpsB cg2222 CYL77_RS10215\n",
      "lepB cg2232 CYL77_RS10255\n",
      "rplS cg2235 CYL77_RS10265\n",
      "thiO cg2237 CYL77_RS10275\n",
      "thiS cg2238 CYL77_RS10280\n",
      "trmD cg2249 CYL77_RS10325\n",
      "rimM cg2251 CYL77_RS10335\n",
      "rpsP cg2253 CYL77_RS10345\n",
      "glnK cg2260 CYL77_RS10375\n",
      "ftsY cg2262 CYL77_RS10385\n",
      "smc cg2265 CYL77_RS10395\n",
      "glgP cg2289 CYL77_RS10495\n",
      "pyk cg2291 CYL77_RS10505\n",
      "lgt cg2292 CYL77_RS10510\n",
      "hisI cg2296 CYL77_RS10525\n",
      "hisF cg2297 CYL77_RS10530\n",
      "priA cg1805 CYL77_RS10540\n",
      "hisH cg2300 CYL77_RS10545\n",
      "hisB cg2303 CYL77_RS10560\n",
      "hisD cg2305 CYL77_RS10570\n",
      "glgX cg2310 CYL77_RS10595\n",
      "treY cg2323 CYL77_RS10650\n",
      "treZ cg2333 CYL77_RS10690\n",
      "ilvA cg2334 CYL77_RS10695\n",
      "lspA cg2347 CYL77_RS10755\n",
      "ileS cg2359 CYL77_RS10805\n",
      "ftsZ cg2366 CYL77_RS10840\n",
      "ftsQ cg2367 CYL77_RS10845\n",
      "murC cg2368 CYL77_RS10850\n",
      "murG cg2369 CYL77_RS10855\n",
      "murD cg2371 CYL77_RS10865\n",
      "mraY cg2372 CYL77_RS10870\n",
      "mraZ cg2378 CYL77_RS10900\n",
      "metF cg2383 CYL77_RS10920\n",
      "idsA cg2384 CYL77_RS10925\n",
      "pknB cg0057 CYL77_RS10940\n",
      "qcrB cg2403 CYL77_RS11010\n",
      "cobT cg2414 CYL77_RS11065\n",
      "lipB cg2422 CYL77_RS11100\n",
      "lipA cg2423 CYL77_RS11105\n",
      "glnA cg2429 CYL77_RS11130\n",
      "thrC cg2437 CYL77_RS11160\n",
      "aceE cg2466 CYL77_RS11290\n",
      "dnaG cg2489 CYL77_RS11410\n",
      "glmS cg2492 CYL77_RS11425\n",
      "recO cg2509 CYL77_RS11490\n",
      "dnaJ cg3098 CYL77_RS11520\n",
      "hrcA cg2516 CYL77_RS11525\n",
      "malQ cg2523 CYL77_RS11555\n",
      "treS cg2529 CYL77_RS11585\n",
      "idi cg2531 CYL77_RS11595\n",
      "brnQ cg2537 CYL77_RS11620\n",
      "aceA cg2560 CYL77_RS11720\n",
      "thiX cg2561 CYL77_RS11725\n",
      "dctP cg2570 CYL77_RS11770\n",
      "lepA cg2571 CYL77_RS11775\n",
      "rpsT cg2573 CYL77_RS11785\n",
      "nadD cg2584 CYL77_RS11830\n",
      "proB cg2588 CYL77_RS11850\n",
      "rpmA cg2594 CYL77_RS11880\n",
      "rplU cg2595 CYL77_RS11885\n",
      "ndk cg2603 CYL77_RS11920\n",
      "clpX cg2620 CYL77_RS12005\n",
      "pcaD cg2626 CYL77_RS12035\n",
      "pcaC cg2628 CYL77_RS12045\n",
      "pcaB cg2629 CYL77_RS12050\n",
      "pcaG cg2630 CYL77_RS12055\n",
      "pcaH cg2631 CYL77_RS12060\n",
      "catC cg2634 CYL77_RS12070\n",
      "benA cg2637 CYL77_RS12085\n",
      "benB cg2638 CYL77_RS12090\n",
      "benC cg2639 CYL77_RS12095\n",
      "tig cg2647 CYL77_RS12135\n",
      "pepN cg2662 CYL77_RS12195\n",
      "crtI cg0720 CYL77_RS12220\n",
      "musI cg2701 CYL77_RS12365\n",
      "ugpC cg1571 CYL77_RS12390\n",
      "cmrA cg2717 CYL77_RS12435\n",
      "uxaC cg2731 CYL77_RS12510\n",
      "bcp cg2736 CYL77_RS12535\n",
      "rph cg2753 CYL77_RS12605\n",
      "murI cg2762 CYL77_RS12655\n",
      "clpS cg2772 CYL77_RS12685\n",
      "serB cg2779 CYL77_RS12715\n",
      "ctaD cg2780 CYL77_RS12720\n",
      "nrdF cg2781 CYL77_RS12725\n",
      "nrdE cg2786 CYL77_RS12750\n",
      "nrdI cg2787 CYL77_RS12755\n",
      "nadE cg2792 CYL77_RS12770\n",
      "pgm cg2800 CYL77_RS12810\n",
      "murA cg0422 CYL77_RS12945\n",
      "cysK cg2833 CYL77_RS12965\n",
      "cysE cg2834 CYL77_RS12970\n",
      "sucD cg2836 CYL77_RS12990\n",
      "sucC cg2837 CYL77_RS12995\n",
      "phoU cg2842 CYL77_RS13035\n",
      "pstB cg2843 CYL77_RS13040\n",
      "pstA cg2844 CYL77_RS13045\n",
      "pstC cg2845 CYL77_RS13050\n",
      "pstS cg2846 CYL77_RS13055\n",
      "mshD cg2847 CYL77_RS13060\n",
      "purM cg2856 CYL77_RS13095\n",
      "purF cg2857 CYL77_RS13100\n",
      "purL cg2862 CYL77_RS13120\n",
      "purQ cg2863 CYL77_RS13125\n",
      "purS cg2865 CYL77_RS13130\n",
      "purB cg2876 CYL77_RS13170\n",
      "purD cg2878 CYL77_RS13180\n",
      "bioD cg2886 CYL77_RS13205\n",
      "otsB cg2909 CYL77_RS13315\n",
      "cysS cg2924 CYL77_RS13385\n",
      "scrB cg2927 CYL77_RS13395\n",
      "nagB cg2928 CYL77_RS13400\n",
      "ispF cg2944 CYL77_RS13475\n",
      "ispD cg2945 CYL77_RS13480\n",
      "radA cg2950 CYL77_RS13505\n",
      "lysS cg2974 CYL77_RS13610\n",
      "folK cg2979 CYL77_RS13635\n",
      "folE cg2983 CYL77_RS13650\n",
      "ftsH cg2984 CYL77_RS13655\n",
      "hpt cg2985 CYL77_RS13660\n",
      "pta cg3048 CYL77_RS13945\n",
      "purT cg3054 CYL77_RS13975\n",
      "pyrE cg3071 CYL77_RS14040\n",
      "cmr cg3075 CYL77_RS14060\n",
      "clpB cg3079 CYL77_RS14070\n",
      "dnaJ cg3098 CYL77_RS14160\n",
      "grpE cg3099 CYL77_RS14165\n",
      "dnaK cg3100 CYL77_RS14170\n",
      "tctA cg3125 CYL77_RS14280\n",
      "tctB cg3126 CYL77_RS14285\n",
      "tctC cg3127 CYL77_RS14290\n",
      "dcd cg3155 CYL77_RS14410\n",
      "tmaT cg3163 CYL77_RS14455\n",
      "trmB cg3172 CYL77_RS14495\n",
      "aftB cg3187 CYL77_RS14560\n",
      "glf cg3196 CYL77_RS14600\n",
      "glpK cg3198 CYL77_RS14610\n",
      "serS cg3201 CYL77_RS14625\n",
      "pheA cg3207 CYL77_RS14650\n",
      "lldD cg3227 CYL77_RS14745\n",
      "msrA cg3236 CYL77_RS14775\n",
      "mcbR cg3253 CYL77_RS14855\n",
      "rsmP cg3264 CYL77_RS14925\n",
      "dnaB cg3304 CYL77_RS15100\n",
      "rplI cg3306 CYL77_RS15105\n",
      "rpsF cg3308 CYL77_RS15115\n",
      "dps cg3327 CYL77_RS15195\n",
      "leuS cg3346 CYL77_RS15285\n",
      "trpD cg3361 CYL77_RS15360\n",
      "trpCF cg3362 CYL77_RS15365\n",
      "trpB cg3363 CYL77_RS15370\n",
      "trpA cg3364 CYL77_RS15375\n",
      "tatA cg1685 CYL77_RS15455\n",
      "iolG cg0204 CYL77_RS15500\n",
      "trxB cg3422 CYL77_RS15635\n",
      "rnpA cg3431 CYL77_RS15680\n",
      "rpmH cg3432 CYL77_RS15685\n"
     ]
    }
   ],
   "source": [
    "count = 0\n",
    "for i, row in DF_annot.iterrows():\n",
    "    if row.gene_name in gene_ID.Gene_name.values:\n",
    "        print(row.gene_name, \n",
    "              gene_ID.index[gene_ID.Gene_name == row.gene_name][0], \n",
    "              i)\n",
    "        count += 1"
   ]
  },
  {
   "cell_type": "code",
   "execution_count": 71,
   "metadata": {},
   "outputs": [
    {
     "data": {
      "text/plain": [
       "437"
      ]
     },
     "execution_count": 71,
     "metadata": {},
     "output_type": "execute_result"
    }
   ],
   "source": [
    "count"
   ]
  },
  {
   "cell_type": "code",
   "execution_count": 49,
   "metadata": {},
   "outputs": [
    {
     "name": "stdout",
     "output_type": "stream",
     "text": [
      "2682\n"
     ]
    }
   ],
   "source": [
    "anno_name = DF_annot['gene_name'].tolist()\n",
    "mine_name = gene_ID['Gene_name'].tolist()\n",
    "counter = 0\n",
    "for i in range(len(mine_name)):\n",
    "    if mine_name[i] not in anno_name:\n",
    "        counter = counter +1\n",
    "print(counter)"
   ]
  },
  {
   "cell_type": "code",
   "execution_count": 45,
   "metadata": {},
   "outputs": [
    {
     "data": {
      "text/plain": [
       "int"
      ]
     },
     "execution_count": 45,
     "metadata": {},
     "output_type": "execute_result"
    }
   ],
   "source": [
    "type(Kegg_ID_l[0])"
   ]
  },
  {
   "cell_type": "markdown",
   "metadata": {},
   "source": [
    "To ensure that the gene index used is identical to the expression matrix, load in your data."
   ]
  },
  {
   "cell_type": "markdown",
   "metadata": {},
   "source": [
    "Check that the genes are the same in the expression dataset as in the annotation dataframe. Mismatched genes are listed below."
   ]
  },
  {
   "cell_type": "code",
   "execution_count": null,
   "metadata": {},
   "outputs": [],
   "source": [
    "test = DF_annot.sort_index().index == DF_log_tpm.sort_index().index\n",
    "DF_annot[~test]"
   ]
  },
  {
   "cell_type": "code",
   "execution_count": null,
   "metadata": {},
   "outputs": [],
   "source": [
    "from pathlib import Path  \n",
    "filepath = Path('/Users/louxuwen/Desktop/Documents/GitHub/BENG212_S_aureus/5_characterize_iModulons/Data/gene_info.csv')  \n",
    "filepath.parent.mkdir(parents=True, exist_ok=True)  \n",
    "DF_annot.to_csv(filepath)  "
   ]
  },
  {
   "cell_type": "markdown",
   "metadata": {},
   "source": [
    "## (Optional) KEGG and COGs"
   ]
  },
  {
   "cell_type": "markdown",
   "metadata": {},
   "source": [
    "### Generate nucleotide fasta files for CDS"
   ]
  },
  {
   "cell_type": "markdown",
   "metadata": {},
   "source": [
    "Enter the location of all your fasta files here:\n",
    "https://www.genome.jp/brite/br08601+cgb\n",
    "https://rest.kegg.jp/link/cgl/pathway"
   ]
  },
  {
   "cell_type": "code",
   "execution_count": null,
   "metadata": {},
   "outputs": [],
   "source": [
    "fasta_files = [os.path.join('saureus.fna')]"
   ]
  },
  {
   "cell_type": "markdown",
   "metadata": {},
   "source": [
    "The following code generates CDS files using your FASTA and GFF3 files"
   ]
  },
  {
   "cell_type": "code",
   "execution_count": null,
   "metadata": {},
   "outputs": [],
   "source": [
    "from Bio import SeqIO\n",
    "\n",
    "cds_list = []\n",
    "for fasta in fasta_files:\n",
    "    seq = SeqIO.read(fasta,'fasta')\n",
    "\n",
    "    # Get gene information for genes in this fasta file\n",
    "    df_genes = DF_annot[DF_annot.accession == seq.id]\n",
    "    \n",
    "    for i,row in df_genes.iterrows():\n",
    "        cds = seq[int(row.start)-1:int(row.end)] #Added int() heredue to errors\n",
    "        if row.strand == '-':\n",
    "            cds = seq[int(row.start)-1:int(row.end)].reverse_complement()  #Added int() heredue to errors\n",
    "        cds.id = row.name\n",
    "        cds.description = row.gene_name if pd.notnull(row.gene_name) else row.name\n",
    "        cds_list.append(cds)"
   ]
  },
  {
   "cell_type": "code",
   "execution_count": null,
   "metadata": {},
   "outputs": [],
   "source": [
    "cds_list[:5]"
   ]
  },
  {
   "cell_type": "markdown",
   "metadata": {},
   "source": [
    "Save the CDS file"
   ]
  },
  {
   "cell_type": "code",
   "execution_count": null,
   "metadata": {
    "scrolled": true
   },
   "outputs": [],
   "source": [
    "cds_file = os.path.join('CDS_files','CDS.fna')\n",
    "SeqIO.write(cds_list, cds_file, 'fasta')"
   ]
  },
  {
   "cell_type": "markdown",
   "metadata": {},
   "source": [
    "### Run EggNOG Mapper\n",
    "1. Go to http://eggnog-mapper.embl.de/.\n",
    "1. Upload the CDS.fna file from your organism directory (within the sequence_files folder)\n",
    "1. Make sure to limit the taxonomy to the correct level\n",
    "1. After the job is submitted, you must follow the link in your email to run the job.\n",
    "1. Once the job completes (after ~4 hrs), download the annotations file.\n",
    "1. Save the annotation file"
   ]
  },
  {
   "cell_type": "markdown",
   "metadata": {},
   "source": [
    "### Get KEGG IDs"
   ]
  },
  {
   "cell_type": "markdown",
   "metadata": {},
   "source": [
    "Once you have the EggNOG annotations, load the annotation file"
   ]
  },
  {
   "cell_type": "code",
   "execution_count": null,
   "metadata": {},
   "outputs": [],
   "source": [
    "eggnog_file = os.path.join('eggNOG','MM_pqq12tbj.emapper.annotations.txt')"
   ]
  },
  {
   "cell_type": "code",
   "execution_count": null,
   "metadata": {},
   "outputs": [],
   "source": [
    "DF_eggnog = pd.read_csv(eggnog_file,sep='\\t',skiprows=4,header=None)\n",
    "eggnog_cols = ['query_name','seed eggNOG ortholog','seed ortholog evalue','seed ortholog score',\n",
    "               'Predicted taxonomic group','Predicted protein name','Gene Ontology terms',\n",
    "               'EC number','KEGG_orth','KEGG_pathway','KEGG_module','KEGG_reaction',\n",
    "               'KEGG_rclass','BRITE','KEGG_TC','CAZy','BiGG Reaction','tax_scope',\n",
    "               'eggNOG OGs','bestOG_deprecated','COG']  #deleted 'eggNOG free text description' column at the end due to bug\n",
    "\n",
    "DF_eggnog.columns = eggnog_cols\n",
    "\n",
    "# Strip last three rows as they are comments\n",
    "DF_eggnog = DF_eggnog.iloc[:-3]\n",
    "\n",
    "# Set locus tag as index\n",
    "DF_eggnog = DF_eggnog.set_index('query_name')\n",
    "DF_eggnog.index.name = 'locus_tag'\n",
    "\n",
    "DF_eggnog.head()"
   ]
  },
  {
   "cell_type": "markdown",
   "metadata": {},
   "source": [
    "Now we will pull the KEGG information from the eggNOG file, including orthology, pathway, module, and reactions for each gene."
   ]
  },
  {
   "cell_type": "code",
   "execution_count": null,
   "metadata": {
    "scrolled": true
   },
   "outputs": [],
   "source": [
    "DF_kegg = DF_eggnog[['KEGG_orth','KEGG_pathway','KEGG_module','KEGG_reaction']]\n",
    "\n",
    "# Melt dataframe\n",
    "DF_kegg = DF_kegg.reset_index().melt(id_vars='locus_tag') \n",
    "\n",
    "# Remove null values\n",
    "DF_kegg = DF_kegg[DF_kegg.value.notnull()]\n",
    "\n",
    "# Split comma-separated values into their own rows\n",
    "list2struct = []\n",
    "for name,row in DF_kegg.iterrows():\n",
    "    for val in row.value.split(','):\n",
    "        list2struct.append([row.locus_tag,row.variable,val])\n",
    "\n",
    "DF_kegg = pd.DataFrame(list2struct,columns=['gene_id','database','kegg_id'])\n",
    "\n",
    "# Remove ko entries, as only map entries are searchable in KEGG pathway\n",
    "DF_kegg = DF_kegg[~DF_kegg.kegg_id.str.startswith('ko')]\n",
    "\n",
    "DF_kegg.head()"
   ]
  },
  {
   "cell_type": "markdown",
   "metadata": {},
   "source": [
    "### Save KEGG information"
   ]
  },
  {
   "cell_type": "code",
   "execution_count": null,
   "metadata": {},
   "outputs": [],
   "source": [
    "DF_kegg.to_csv(os.path.join('KEGG','kegg_mapping.csv'))"
   ]
  },
  {
   "cell_type": "markdown",
   "metadata": {},
   "source": [
    "### Save COGs to annotation dataframe"
   ]
  },
  {
   "cell_type": "code",
   "execution_count": null,
   "metadata": {},
   "outputs": [],
   "source": [
    "DF_annot['COG'] = DF_eggnog.COG\n",
    "\n",
    "# Make sure COG only has one entry per gene\n",
    "DF_annot['COG'] = [item[0] if isinstance(item,str) else item for item in DF_annot['COG']]"
   ]
  },
  {
   "cell_type": "markdown",
   "metadata": {},
   "source": [
    "## Uniprot ID mapping"
   ]
  },
  {
   "cell_type": "markdown",
   "metadata": {},
   "source": [
    "The ``uniprot_id_mapping`` function is a python wrapper for the [Uniprot ID mapping tool](https://www.uniprot.org/uploadlists/). Use ``input_id=P_REFSEQ_AC`` if the FASTA/GFF files are from RefSeq, and ``input_id=EMBL`` if the files are from Genbank."
   ]
  },
  {
   "cell_type": "code",
   "execution_count": null,
   "metadata": {},
   "outputs": [],
   "source": [
    "#mapping_uniprot = uniprot_id_mapping(DF_annot.ncbi_protein.fillna(''),input_id='EMBL',output_id='ACC',\n",
    "#                             input_name='ncbi_protein',output_name='uniprot')\n",
    "#mapping_uniprot.head()\n",
    "\n",
    "\n",
    "#mapping_uniprot = uniprot_id_mapping(DF_annot.ncbi_protein.fillna(''),input_id='P_REFSEQ_AC',output_id='ACC',\n",
    "#                                     input_name='ncbi_protein',output_name='uniprot')\n",
    "#mapping_uniprot.head()\n",
    "\n",
    "import json\n",
    "import requests\n",
    "import time\n",
    "\n",
    "URL = 'https://rest.uniprot.org/idmapping'\n",
    "IDS = DF_annot.ncbi_protein.fillna('').values.tolist()\n",
    "\n",
    "\n",
    "params = {\n",
    "   'from': 'UniProtKB_AC-ID',\n",
    "   'to': 'ChEMBL',\n",
    "   'ids': ' '.join(IDS)\n",
    "}\n",
    "\n",
    "response = requests.post(f'{URL}/run', params)\n",
    "job_id = response.json()['jobId']\n",
    "job_status = requests.get(f'{URL}/status/{job_id}')\n",
    "d = job_status.json()\n",
    "\n",
    "# Make three attemps to get the results\n",
    "for i in range(3):\n",
    "    if d.get(\"job_status\") == 'FINISHED' or d.get('results'):\n",
    "        job_results = requests.get(f'{URL}/results/{job_id}')\n",
    "        results = job_results.json()\n",
    "        for obj in results['results']:\n",
    "            print(f'{obj[\"from\"]}\\t{obj[\"to\"]}')\n",
    "        break\n",
    "    time.sleep(1)\n",
    "#print(IDS)\n",
    "#print(response.json())\n",
    "print(job_status.json())"
   ]
  },
  {
   "cell_type": "code",
   "execution_count": null,
   "metadata": {},
   "outputs": [],
   "source": [
    "# Merge with current annotation\n",
    "DF_annot = pd.merge(DF_annot.reset_index(),mapping_uniprot,how='left',on='ncbi_protein')\n",
    "DF_annot.set_index('locus_tag',inplace=True)\n",
    "DF_annot.head()"
   ]
  },
  {
   "cell_type": "markdown",
   "metadata": {},
   "source": [
    "## Add Biocyc Operon information"
   ]
  },
  {
   "cell_type": "markdown",
   "metadata": {},
   "source": [
    "To obtain operon information from Biocyc, follow the steps below\n",
    "\n",
    "1. Go to [Biocyc.org](https://biocyc.org/) (you may need to create an account and/or login)\n",
    "2. Change the organism database to your organism/strain\n",
    "3. Select **SmartTables** -> **Special SmartTables**\n",
    "4. Select **\"All genes of \\<organism\\>\"**\n",
    "5. Select the **\"Gene Name\"** column\n",
    "6. Under **\"ADD TRANSFORM COLUMN\"** select **\"Genes in same transcription unit\"**\n",
    "7. Select the **\"Genes in same transcription unit\"** column\n",
    "8. Under **\"ADD PROPERTY COLUMN\"** select **\"Accession-1\"**\n",
    "9. Under **OPERATIONS**, select **\"Export\"** -> **\"to Spreadsheet File...\"**\n",
    "10. Select **\"common names\"** and click **\"Export smarttable\"**\n",
    "11. Add file location below and run the code cell"
   ]
  },
  {
   "cell_type": "code",
   "execution_count": null,
   "metadata": {},
   "outputs": [],
   "source": [
    "biocyc_file = os.path.join('..','data','external','biocyc_annotations.txt')\n",
    "\n",
    "DF_biocyc = pd.read_csv(biocyc_file,sep='\\t')\n",
    "\n",
    "# Remove genes with no accession\n",
    "DF_biocyc = DF_biocyc[DF_biocyc['Accession-1'].notnull()]\n",
    "\n",
    "# Set the accession (i.e. locus tag) as index\n",
    "DF_biocyc = DF_biocyc.set_index('Accession-1').sort_values('Left-End-Position')\n",
    "\n",
    "# Specific for B. subtilis: Fix locus tags\n",
    "DF_biocyc.index = DF_biocyc.index.str.replace('BSU','BSU_')\n",
    "\n",
    "# Only keep genes in the final annotation file\n",
    "DF_biocyc = DF_biocyc.reindex(DF_annot.index)\n",
    "\n",
    "# Reformat transcription units\n",
    "DF_biocyc['operon_list'] = DF_biocyc['Accession-1.1'].apply(reformat_biocyc_tu)\n",
    "\n",
    "# Fill None with locus tags\n",
    "DF_biocyc['operon_list'].fillna(DF_biocyc.index.to_series(), inplace=True)\n",
    "\n",
    "DF_biocyc.head()"
   ]
  },
  {
   "cell_type": "markdown",
   "metadata": {},
   "source": [
    "### Assign unique IDs to operons"
   ]
  },
  {
   "cell_type": "markdown",
   "metadata": {},
   "source": [
    "The following code assigns unique names to each operon"
   ]
  },
  {
   "cell_type": "code",
   "execution_count": null,
   "metadata": {},
   "outputs": [],
   "source": [
    "# Get all operons\n",
    "operons = DF_biocyc['operon_list'].unique()\n",
    "\n",
    "# Map each operon to a unique string\n",
    "operon_dict = {operon: \"Op\"+str(i) for i, operon in enumerate(operons)}\n",
    "\n",
    "# Add names to dataframe\n",
    "DF_biocyc['operon'] = [operon_dict[op] for op in DF_biocyc[\"operon_list\"]]\n",
    "\n",
    "DF_biocyc.head()"
   ]
  },
  {
   "cell_type": "markdown",
   "metadata": {},
   "source": [
    "Finally, merge the Biocyc information with the main annotation DataFrame"
   ]
  },
  {
   "cell_type": "code",
   "execution_count": null,
   "metadata": {},
   "outputs": [],
   "source": [
    "DF_annot['operon'] = DF_biocyc['operon']"
   ]
  },
  {
   "cell_type": "markdown",
   "metadata": {},
   "source": [
    "## Clean up and save annotation"
   ]
  },
  {
   "cell_type": "markdown",
   "metadata": {},
   "source": [
    "First, we will re-order the annotation columns"
   ]
  },
  {
   "cell_type": "code",
   "execution_count": null,
   "metadata": {},
   "outputs": [],
   "source": [
    "if 'old_locus_tag' in DF_annot.columns:\n",
    "    order = ['gene_name','accession','old_locus_tag','start','end','strand','gene_product','COG','uniprot','operon']\n",
    "else:\n",
    "    order = ['gene_name','accession','start','end','strand','gene_product','COG','uniprot','operon']\n",
    "    \n",
    "DF_annot = DF_annot[order]"
   ]
  },
  {
   "cell_type": "code",
   "execution_count": null,
   "metadata": {},
   "outputs": [],
   "source": [
    "DF_annot.head()"
   ]
  },
  {
   "cell_type": "markdown",
   "metadata": {},
   "source": [
    "## Final statistics"
   ]
  },
  {
   "cell_type": "markdown",
   "metadata": {},
   "source": [
    "The following graphs show how much information is available for the organism."
   ]
  },
  {
   "cell_type": "code",
   "execution_count": null,
   "metadata": {},
   "outputs": [],
   "source": [
    "import seaborn as sns\n",
    "import matplotlib.pyplot as plt\n",
    "\n",
    "sns.set_style('ticks')"
   ]
  },
  {
   "cell_type": "code",
   "execution_count": null,
   "metadata": {},
   "outputs": [],
   "source": [
    "fig,ax = plt.subplots()\n",
    "DF_annot.count().plot(kind='bar',ax=ax)\n",
    "ax.set_ylabel('# of Values',fontsize=18)\n",
    "ax.tick_params(labelsize=16)"
   ]
  },
  {
   "cell_type": "markdown",
   "metadata": {},
   "source": [
    "## Fill missing values"
   ]
  },
  {
   "cell_type": "markdown",
   "metadata": {},
   "source": [
    "Some organisms are missing gene names, so these will be filled with locus tag gene names."
   ]
  },
  {
   "cell_type": "code",
   "execution_count": null,
   "metadata": {
    "code_folding": []
   },
   "outputs": [],
   "source": [
    "# Fill in missing gene names with locus tag names\n",
    "DF_annot['tmp_name'] = DF_annot.copy().index.tolist()\n",
    "DF_annot.gene_name.fillna(DF_annot.tmp_name,inplace=True)\n",
    "DF_annot.drop('tmp_name',axis=1,inplace=True)"
   ]
  },
  {
   "cell_type": "markdown",
   "metadata": {},
   "source": [
    " COG letters will also be converted to the full name."
   ]
  },
  {
   "cell_type": "code",
   "execution_count": null,
   "metadata": {},
   "outputs": [],
   "source": [
    "# Fill missing COGs with X\n",
    "DF_annot['COG'].fillna('X',inplace=True)\n",
    "\n",
    "# Change single letter COG annotation to full description\n",
    "DF_annot['COG'] = DF_annot.COG.apply(cog2str)\n",
    "\n",
    "counts = DF_annot.COG.value_counts()\n",
    "plt.pie(counts.values,labels=counts.index);"
   ]
  },
  {
   "cell_type": "markdown",
   "metadata": {},
   "source": [
    "Uncomment the following line to save the gene annotation dataset"
   ]
  },
  {
   "cell_type": "code",
   "execution_count": null,
   "metadata": {},
   "outputs": [],
   "source": [
    "DF_annot.to_csv(os.path.join('..','data','processed_data','gene_info.csv'))"
   ]
  },
  {
   "cell_type": "markdown",
   "metadata": {},
   "source": [
    "## GO Annotations"
   ]
  },
  {
   "cell_type": "markdown",
   "metadata": {},
   "source": [
    "To start, download the GO Annotations for your organism from AmiGO 2\n",
    "\n",
    "1. Go to [AmiGO 2](http://amigo.geneontology.org/amigo/search/annotation)\n",
    "1. Filter for your organism\n",
    "1. Click ``CustomDL``\n",
    "1. Drag ``GO class (direct)`` to the end of your Selected Fields\n",
    "1. Enter the location of your GO annotation file below and run the following code block"
   ]
  },
  {
   "cell_type": "code",
   "execution_count": null,
   "metadata": {},
   "outputs": [],
   "source": [
    "go_file = os.path.join('..','data','external','GO_annotations.txt')"
   ]
  },
  {
   "cell_type": "code",
   "execution_count": null,
   "metadata": {},
   "outputs": [],
   "source": [
    "DF_GO = pd.read_csv(go_file,sep='\\t',header=None,usecols=[2,17])\n",
    "DF_GO.columns = ['gene_name','gene_ontology']\n",
    "DF_GO.head()"
   ]
  },
  {
   "cell_type": "markdown",
   "metadata": {},
   "source": [
    "Convert the gene names to gene locus tags, and drop gene names that cannot be converted"
   ]
  },
  {
   "cell_type": "code",
   "execution_count": null,
   "metadata": {},
   "outputs": [],
   "source": [
    "name2num = {v:k for k,v in DF_annot.gene_name.to_dict().items()}"
   ]
  },
  {
   "cell_type": "code",
   "execution_count": null,
   "metadata": {},
   "outputs": [],
   "source": [
    "DF_GO['gene_id'] = [name2num[x] if x in name2num.keys() else None for x in DF_GO.gene_name]"
   ]
  },
  {
   "cell_type": "code",
   "execution_count": null,
   "metadata": {},
   "outputs": [],
   "source": [
    "DF_GO.head()"
   ]
  },
  {
   "cell_type": "markdown",
   "metadata": {},
   "source": [
    "Now we remove null entries"
   ]
  },
  {
   "cell_type": "code",
   "execution_count": null,
   "metadata": {},
   "outputs": [],
   "source": [
    "DF_GO = DF_GO[DF_GO.gene_id.notnull()]"
   ]
  },
  {
   "cell_type": "code",
   "execution_count": null,
   "metadata": {},
   "outputs": [],
   "source": [
    "DF_GO.head()"
   ]
  },
  {
   "cell_type": "markdown",
   "metadata": {},
   "source": [
    "Uncomment the line below to save the annotations"
   ]
  },
  {
   "cell_type": "code",
   "execution_count": null,
   "metadata": {},
   "outputs": [],
   "source": [
    "DF_GO[['gene_id','gene_name','gene_ontology']].to_csv(os.path.join('..','data','external','GO_annotations_curated.csv'))"
   ]
  },
  {
   "cell_type": "code",
   "execution_count": null,
   "metadata": {},
   "outputs": [],
   "source": []
  }
 ],
 "metadata": {
  "kernelspec": {
   "display_name": "Python 3 (ipykernel)",
   "language": "python",
   "name": "python3"
  },
  "language_info": {
   "codemirror_mode": {
    "name": "ipython",
    "version": 3
   },
   "file_extension": ".py",
   "mimetype": "text/x-python",
   "name": "python",
   "nbconvert_exporter": "python",
   "pygments_lexer": "ipython3",
   "version": "3.7.16"
  },
  "toc": {
   "base_numbering": 1,
   "nav_menu": {},
   "number_sections": true,
   "sideBar": true,
   "skip_h1_title": false,
   "title_cell": "Table of Contents",
   "title_sidebar": "Contents",
   "toc_cell": true,
   "toc_position": {},
   "toc_section_display": true,
   "toc_window_display": false
  }
 },
 "nbformat": 4,
 "nbformat_minor": 2
}
