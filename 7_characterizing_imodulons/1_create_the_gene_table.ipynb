{
 "cells": [
  {
   "cell_type": "markdown",
   "metadata": {},
   "source": [
    "# Creating the Gene Table\n",
    "This notebook is copied from the [Pymodulon GitHub repository](https://github.com/SBRG/pymodulon/blob/master/docs/tutorials/creating_the_gene_table.ipynb)"
   ]
  },
  {
   "cell_type": "markdown",
   "metadata": {},
   "source": [
    "## Get information from GFF files"
   ]
  },
  {
   "cell_type": "code",
   "execution_count": 1,
   "metadata": {},
   "outputs": [],
   "source": [
    "from pymodulon.gene_util import *\n",
    "import os\n",
    "import matplotlib.pyplot as plt\n",
    "import numpy as np\n",
    "import pandas as pd\n",
    "import seaborn as sns\n",
    "\n",
    "from os import path\n",
    "from pathlib import Path  "
   ]
  },
  {
   "cell_type": "markdown",
   "metadata": {},
   "source": [
    "First, download the FASTA and GFF files for your organism and its plasmids from NCBI."
   ]
  },
  {
   "cell_type": "markdown",
   "metadata": {},
   "source": [
    "Enter the location of all your GFF files here:"
   ]
  },
  {
   "cell_type": "code",
   "execution_count": 2,
   "metadata": {},
   "outputs": [],
   "source": [
    "gff_files = [os.path.join('/home/amy/Documents/GitHub/modulome-C_Glutamicum_Microarray_clean/7_characterizing_imodulons/Data/gene/genomic.gff')]\n",
    "\n",
    "#gene_file = path.join('/home/amy/Documents/GitHub/modulome-C_Glutamicum_Microarray_clean/7_characterizing_imodulons/Data/gene/gene.csv') # Enter metadata filename here\n",
    "#Kegg_file = path.join('/home/amy/Documents/GitHub/modulome-C_Glutamicum_Microarray_clean/7_characterizing_imodulons/Data/gene/Kegg_ID.csv') # Enter metadata filename here\n"
   ]
  },
  {
   "cell_type": "markdown",
   "metadata": {},
   "source": [
    "The following cell will convert all the GFF files into a single Pandas DataFrame for easy manipulation. Pseudogenes have multiple rows in a GFF file (one for each fragment), but only the first fragment will be kept."
   ]
  },
  {
   "cell_type": "code",
   "execution_count": 3,
   "metadata": {},
   "outputs": [
    {
     "data": {
      "text/html": [
       "<div>\n",
       "<style scoped>\n",
       "    .dataframe tbody tr th:only-of-type {\n",
       "        vertical-align: middle;\n",
       "    }\n",
       "\n",
       "    .dataframe tbody tr th {\n",
       "        vertical-align: top;\n",
       "    }\n",
       "\n",
       "    .dataframe thead th {\n",
       "        text-align: right;\n",
       "    }\n",
       "</style>\n",
       "<table border=\"1\" class=\"dataframe\">\n",
       "  <thead>\n",
       "    <tr style=\"text-align: right;\">\n",
       "      <th></th>\n",
       "      <th>accession</th>\n",
       "      <th>start</th>\n",
       "      <th>end</th>\n",
       "      <th>strand</th>\n",
       "      <th>gene_name</th>\n",
       "      <th>old_locus_tag</th>\n",
       "      <th>gene_product</th>\n",
       "      <th>ncbi_protein</th>\n",
       "    </tr>\n",
       "    <tr>\n",
       "      <th>locus_tag</th>\n",
       "      <th></th>\n",
       "      <th></th>\n",
       "      <th></th>\n",
       "      <th></th>\n",
       "      <th></th>\n",
       "      <th></th>\n",
       "      <th></th>\n",
       "      <th></th>\n",
       "    </tr>\n",
       "  </thead>\n",
       "  <tbody>\n",
       "    <tr>\n",
       "      <th>cg0001</th>\n",
       "      <td>BX927147.1</td>\n",
       "      <td>1.0</td>\n",
       "      <td>1575.0</td>\n",
       "      <td>+</td>\n",
       "      <td>dnaA</td>\n",
       "      <td>None</td>\n",
       "      <td>CHROMOSOMAL REPLICATION INITIATOR PROTEIN</td>\n",
       "      <td>CAF18566.1</td>\n",
       "    </tr>\n",
       "    <tr>\n",
       "      <th>cg0002</th>\n",
       "      <td>BX927147.1</td>\n",
       "      <td>1594.0</td>\n",
       "      <td>1920.0</td>\n",
       "      <td>-</td>\n",
       "      <td>None</td>\n",
       "      <td>None</td>\n",
       "      <td>hypothetical protein predicted by Glimmer</td>\n",
       "      <td>CAF18567.1</td>\n",
       "    </tr>\n",
       "    <tr>\n",
       "      <th>cg0004</th>\n",
       "      <td>BX927147.1</td>\n",
       "      <td>2292.0</td>\n",
       "      <td>3476.0</td>\n",
       "      <td>+</td>\n",
       "      <td>dnaN</td>\n",
       "      <td>None</td>\n",
       "      <td>DNA POLYMERASE III%2C BETA SUBUNIT</td>\n",
       "      <td>CAF18568.1</td>\n",
       "    </tr>\n",
       "    <tr>\n",
       "      <th>cg0005</th>\n",
       "      <td>BX927147.1</td>\n",
       "      <td>3585.0</td>\n",
       "      <td>4769.0</td>\n",
       "      <td>+</td>\n",
       "      <td>recF</td>\n",
       "      <td>None</td>\n",
       "      <td>DNA REPAIR AND GENETIC RECOMBINATION PROTEIN</td>\n",
       "      <td>CAF18569.1</td>\n",
       "    </tr>\n",
       "    <tr>\n",
       "      <th>cg0006</th>\n",
       "      <td>BX927147.1</td>\n",
       "      <td>4814.0</td>\n",
       "      <td>5302.0</td>\n",
       "      <td>+</td>\n",
       "      <td>None</td>\n",
       "      <td>None</td>\n",
       "      <td>CONSERVED HYPOTHETICAL PROTEIN</td>\n",
       "      <td>CAF18570.1</td>\n",
       "    </tr>\n",
       "    <tr>\n",
       "      <th>...</th>\n",
       "      <td>...</td>\n",
       "      <td>...</td>\n",
       "      <td>...</td>\n",
       "      <td>...</td>\n",
       "      <td>...</td>\n",
       "      <td>...</td>\n",
       "      <td>...</td>\n",
       "      <td>...</td>\n",
       "    </tr>\n",
       "    <tr>\n",
       "      <th>cg3430</th>\n",
       "      <td>BX927147.1</td>\n",
       "      <td>3280996.0</td>\n",
       "      <td>3281295.0</td>\n",
       "      <td>-</td>\n",
       "      <td>None</td>\n",
       "      <td>None</td>\n",
       "      <td>conserved hypothetical protein</td>\n",
       "      <td>CAF19037.1</td>\n",
       "    </tr>\n",
       "    <tr>\n",
       "      <th>cg3431</th>\n",
       "      <td>BX927147.1</td>\n",
       "      <td>3281276.0</td>\n",
       "      <td>3281677.0</td>\n",
       "      <td>-</td>\n",
       "      <td>rnpA</td>\n",
       "      <td>None</td>\n",
       "      <td>RNase P protein component</td>\n",
       "      <td>CAF19038.1</td>\n",
       "    </tr>\n",
       "    <tr>\n",
       "      <th>cg3432</th>\n",
       "      <td>BX927147.1</td>\n",
       "      <td>3281717.0</td>\n",
       "      <td>3281860.0</td>\n",
       "      <td>-</td>\n",
       "      <td>rpmH</td>\n",
       "      <td>None</td>\n",
       "      <td>50S RIBOSOMAL PROTEIN L34</td>\n",
       "      <td>CAF19039.1</td>\n",
       "    </tr>\n",
       "    <tr>\n",
       "      <th>cg3433</th>\n",
       "      <td>BX927147.1</td>\n",
       "      <td>3282127.0</td>\n",
       "      <td>3282348.0</td>\n",
       "      <td>-</td>\n",
       "      <td>None</td>\n",
       "      <td>None</td>\n",
       "      <td>hypothetical protein predicted by Glimmer/Critica</td>\n",
       "      <td>CAF19040.1</td>\n",
       "    </tr>\n",
       "    <tr>\n",
       "      <th>cg3434</th>\n",
       "      <td>BX927147.1</td>\n",
       "      <td>3282519.0</td>\n",
       "      <td>3282632.0</td>\n",
       "      <td>+</td>\n",
       "      <td>None</td>\n",
       "      <td>None</td>\n",
       "      <td>hypothetical protein predicted by Glimmer/Critica</td>\n",
       "      <td>CAF19041.1</td>\n",
       "    </tr>\n",
       "  </tbody>\n",
       "</table>\n",
       "<p>3058 rows × 8 columns</p>\n",
       "</div>"
      ],
      "text/plain": [
       "            accession      start        end strand gene_name old_locus_tag  \\\n",
       "locus_tag                                                                    \n",
       "cg0001     BX927147.1        1.0     1575.0      +      dnaA          None   \n",
       "cg0002     BX927147.1     1594.0     1920.0      -      None          None   \n",
       "cg0004     BX927147.1     2292.0     3476.0      +      dnaN          None   \n",
       "cg0005     BX927147.1     3585.0     4769.0      +      recF          None   \n",
       "cg0006     BX927147.1     4814.0     5302.0      +      None          None   \n",
       "...               ...        ...        ...    ...       ...           ...   \n",
       "cg3430     BX927147.1  3280996.0  3281295.0      -      None          None   \n",
       "cg3431     BX927147.1  3281276.0  3281677.0      -      rnpA          None   \n",
       "cg3432     BX927147.1  3281717.0  3281860.0      -      rpmH          None   \n",
       "cg3433     BX927147.1  3282127.0  3282348.0      -      None          None   \n",
       "cg3434     BX927147.1  3282519.0  3282632.0      +      None          None   \n",
       "\n",
       "                                                gene_product ncbi_protein  \n",
       "locus_tag                                                                  \n",
       "cg0001             CHROMOSOMAL REPLICATION INITIATOR PROTEIN   CAF18566.1  \n",
       "cg0002             hypothetical protein predicted by Glimmer   CAF18567.1  \n",
       "cg0004                    DNA POLYMERASE III%2C BETA SUBUNIT   CAF18568.1  \n",
       "cg0005          DNA REPAIR AND GENETIC RECOMBINATION PROTEIN   CAF18569.1  \n",
       "cg0006                        CONSERVED HYPOTHETICAL PROTEIN   CAF18570.1  \n",
       "...                                                      ...          ...  \n",
       "cg3430                        conserved hypothetical protein   CAF19037.1  \n",
       "cg3431                             RNase P protein component   CAF19038.1  \n",
       "cg3432                             50S RIBOSOMAL PROTEIN L34   CAF19039.1  \n",
       "cg3433     hypothetical protein predicted by Glimmer/Critica   CAF19040.1  \n",
       "cg3434     hypothetical protein predicted by Glimmer/Critica   CAF19041.1  \n",
       "\n",
       "[3058 rows x 8 columns]"
      ]
     },
     "execution_count": 3,
     "metadata": {},
     "output_type": "execute_result"
    }
   ],
   "source": [
    "keep_cols = ['accession','start','end','strand','gene_name','old_locus_tag','gene_product','ncbi_protein']\n",
    "\n",
    "DF_annot = gff2pandas(gff_files,index='locus_tag')\n",
    "DF_annot = DF_annot[keep_cols]\n",
    "\n",
    "DF_annot"
   ]
  },
  {
   "cell_type": "markdown",
   "metadata": {},
   "source": [
    "Since the microarray data use a different kind of annotation, it might be necessary to provide add a column of the gene ID that they used to match this locus tag\n",
    "1. in gene_ID, the start and end position also indicates the direction. Solution is to add the direction of the strand, but start position will now always be smalle than the end position"
   ]
  },
  {
   "cell_type": "code",
   "execution_count": 4,
   "metadata": {},
   "outputs": [],
   "source": [
    "#gene_ID = pd.read_csv(gene_file, index_col=0).fillna(-1)\n",
    "#Kegg_ID = pd.read_csv(Kegg_file, index_col=0,sep='\\t')"
   ]
  },
  {
   "cell_type": "code",
   "execution_count": 5,
   "metadata": {},
   "outputs": [],
   "source": [
    "#Kegg_ID"
   ]
  },
  {
   "cell_type": "markdown",
   "metadata": {},
   "source": [
    "To ensure that the gene index used is identical to the expression matrix, load in your data."
   ]
  },
  {
   "cell_type": "code",
   "execution_count": 6,
   "metadata": {},
   "outputs": [
    {
     "data": {
      "text/html": [
       "<div>\n",
       "<style scoped>\n",
       "    .dataframe tbody tr th:only-of-type {\n",
       "        vertical-align: middle;\n",
       "    }\n",
       "\n",
       "    .dataframe tbody tr th {\n",
       "        vertical-align: top;\n",
       "    }\n",
       "\n",
       "    .dataframe thead th {\n",
       "        text-align: right;\n",
       "    }\n",
       "</style>\n",
       "<table border=\"1\" class=\"dataframe\">\n",
       "  <thead>\n",
       "    <tr style=\"text-align: right;\">\n",
       "      <th></th>\n",
       "      <th>GSM5197020_1</th>\n",
       "      <th>GSM5197020_2</th>\n",
       "      <th>GSM5197021_1</th>\n",
       "      <th>GSM5197021_2</th>\n",
       "      <th>GSM5197022_1</th>\n",
       "      <th>GSM5197022_2</th>\n",
       "      <th>GSM5197023_1</th>\n",
       "      <th>GSM5197023_2</th>\n",
       "      <th>GSM5197024_2</th>\n",
       "      <th>GSM5197025_2</th>\n",
       "      <th>...</th>\n",
       "      <th>GSM5197943_1</th>\n",
       "      <th>GSM5197943_2</th>\n",
       "      <th>GSM5197944_1</th>\n",
       "      <th>GSM5197944_2</th>\n",
       "      <th>GSM5197945_1</th>\n",
       "      <th>GSM5197945_2</th>\n",
       "      <th>GSM5197946_1</th>\n",
       "      <th>GSM5197946_2</th>\n",
       "      <th>GSM5197947_1</th>\n",
       "      <th>GSM5197947_2</th>\n",
       "    </tr>\n",
       "  </thead>\n",
       "  <tbody>\n",
       "    <tr>\n",
       "      <th>cg0001</th>\n",
       "      <td>0.000</td>\n",
       "      <td>0.000</td>\n",
       "      <td>0.000</td>\n",
       "      <td>0.000</td>\n",
       "      <td>1540.986</td>\n",
       "      <td>2186.654</td>\n",
       "      <td>839.000</td>\n",
       "      <td>1872.000</td>\n",
       "      <td>1723.954</td>\n",
       "      <td>2059.085</td>\n",
       "      <td>...</td>\n",
       "      <td>1296.8247</td>\n",
       "      <td>826.9054</td>\n",
       "      <td>1150.1929</td>\n",
       "      <td>848.4191</td>\n",
       "      <td>362.9568</td>\n",
       "      <td>326.9718</td>\n",
       "      <td>366.9057</td>\n",
       "      <td>550.2436</td>\n",
       "      <td>416.097</td>\n",
       "      <td>444.4621</td>\n",
       "    </tr>\n",
       "    <tr>\n",
       "      <th>cg0002</th>\n",
       "      <td>0.000</td>\n",
       "      <td>0.000</td>\n",
       "      <td>0.000</td>\n",
       "      <td>0.000</td>\n",
       "      <td>0.000</td>\n",
       "      <td>0.000</td>\n",
       "      <td>0.000</td>\n",
       "      <td>0.000</td>\n",
       "      <td>0.000</td>\n",
       "      <td>0.000</td>\n",
       "      <td>...</td>\n",
       "      <td>176.9562</td>\n",
       "      <td>227.2580</td>\n",
       "      <td>238.8252</td>\n",
       "      <td>243.9302</td>\n",
       "      <td>0.0000</td>\n",
       "      <td>0.0000</td>\n",
       "      <td>0.0000</td>\n",
       "      <td>0.0000</td>\n",
       "      <td>0.000</td>\n",
       "      <td>0.0000</td>\n",
       "    </tr>\n",
       "    <tr>\n",
       "      <th>cg0004</th>\n",
       "      <td>4711.377</td>\n",
       "      <td>6665.822</td>\n",
       "      <td>6738.429</td>\n",
       "      <td>6371.215</td>\n",
       "      <td>5917.581</td>\n",
       "      <td>6109.358</td>\n",
       "      <td>4897.064</td>\n",
       "      <td>8340.172</td>\n",
       "      <td>6469.821</td>\n",
       "      <td>6613.652</td>\n",
       "      <td>...</td>\n",
       "      <td>1994.0833</td>\n",
       "      <td>1810.2925</td>\n",
       "      <td>2091.9613</td>\n",
       "      <td>2049.7641</td>\n",
       "      <td>1391.4229</td>\n",
       "      <td>665.8254</td>\n",
       "      <td>1790.5143</td>\n",
       "      <td>1346.9563</td>\n",
       "      <td>1324.000</td>\n",
       "      <td>1327.0000</td>\n",
       "    </tr>\n",
       "    <tr>\n",
       "      <th>cg0005</th>\n",
       "      <td>0.000</td>\n",
       "      <td>0.000</td>\n",
       "      <td>0.000</td>\n",
       "      <td>0.000</td>\n",
       "      <td>0.000</td>\n",
       "      <td>0.000</td>\n",
       "      <td>0.000</td>\n",
       "      <td>0.000</td>\n",
       "      <td>457.000</td>\n",
       "      <td>714.000</td>\n",
       "      <td>...</td>\n",
       "      <td>363.3212</td>\n",
       "      <td>309.6552</td>\n",
       "      <td>402.8218</td>\n",
       "      <td>417.6308</td>\n",
       "      <td>0.0000</td>\n",
       "      <td>0.0000</td>\n",
       "      <td>0.0000</td>\n",
       "      <td>0.0000</td>\n",
       "      <td>178.000</td>\n",
       "      <td>192.0000</td>\n",
       "    </tr>\n",
       "    <tr>\n",
       "      <th>cg0006</th>\n",
       "      <td>0.000</td>\n",
       "      <td>0.000</td>\n",
       "      <td>0.000</td>\n",
       "      <td>0.000</td>\n",
       "      <td>0.000</td>\n",
       "      <td>0.000</td>\n",
       "      <td>0.000</td>\n",
       "      <td>0.000</td>\n",
       "      <td>0.000</td>\n",
       "      <td>0.000</td>\n",
       "      <td>...</td>\n",
       "      <td>216.0000</td>\n",
       "      <td>224.0000</td>\n",
       "      <td>239.0000</td>\n",
       "      <td>267.0000</td>\n",
       "      <td>0.0000</td>\n",
       "      <td>0.0000</td>\n",
       "      <td>0.0000</td>\n",
       "      <td>0.0000</td>\n",
       "      <td>0.000</td>\n",
       "      <td>0.0000</td>\n",
       "    </tr>\n",
       "  </tbody>\n",
       "</table>\n",
       "<p>5 rows × 853 columns</p>\n",
       "</div>"
      ],
      "text/plain": [
       "        GSM5197020_1  GSM5197020_2  GSM5197021_1  GSM5197021_2  GSM5197022_1  \\\n",
       "cg0001         0.000         0.000         0.000         0.000      1540.986   \n",
       "cg0002         0.000         0.000         0.000         0.000         0.000   \n",
       "cg0004      4711.377      6665.822      6738.429      6371.215      5917.581   \n",
       "cg0005         0.000         0.000         0.000         0.000         0.000   \n",
       "cg0006         0.000         0.000         0.000         0.000         0.000   \n",
       "\n",
       "        GSM5197022_2  GSM5197023_1  GSM5197023_2  GSM5197024_2  GSM5197025_2  \\\n",
       "cg0001      2186.654       839.000      1872.000      1723.954      2059.085   \n",
       "cg0002         0.000         0.000         0.000         0.000         0.000   \n",
       "cg0004      6109.358      4897.064      8340.172      6469.821      6613.652   \n",
       "cg0005         0.000         0.000         0.000       457.000       714.000   \n",
       "cg0006         0.000         0.000         0.000         0.000         0.000   \n",
       "\n",
       "        ...  GSM5197943_1  GSM5197943_2  GSM5197944_1  GSM5197944_2  \\\n",
       "cg0001  ...     1296.8247      826.9054     1150.1929      848.4191   \n",
       "cg0002  ...      176.9562      227.2580      238.8252      243.9302   \n",
       "cg0004  ...     1994.0833     1810.2925     2091.9613     2049.7641   \n",
       "cg0005  ...      363.3212      309.6552      402.8218      417.6308   \n",
       "cg0006  ...      216.0000      224.0000      239.0000      267.0000   \n",
       "\n",
       "        GSM5197945_1  GSM5197945_2  GSM5197946_1  GSM5197946_2  GSM5197947_1  \\\n",
       "cg0001      362.9568      326.9718      366.9057      550.2436       416.097   \n",
       "cg0002        0.0000        0.0000        0.0000        0.0000         0.000   \n",
       "cg0004     1391.4229      665.8254     1790.5143     1346.9563      1324.000   \n",
       "cg0005        0.0000        0.0000        0.0000        0.0000       178.000   \n",
       "cg0006        0.0000        0.0000        0.0000        0.0000         0.000   \n",
       "\n",
       "        GSM5197947_2  \n",
       "cg0001      444.4621  \n",
       "cg0002        0.0000  \n",
       "cg0004     1327.0000  \n",
       "cg0005      192.0000  \n",
       "cg0006        0.0000  \n",
       "\n",
       "[5 rows x 853 columns]"
      ]
     },
     "execution_count": 6,
     "metadata": {},
     "output_type": "execute_result"
    }
   ],
   "source": [
    "log_tpm_file = os.path.join('/home/amy/Documents/GitHub/modulome-C_Glutamicum_Microarray_clean/7_characterizing_imodulons/Data/log_tpm.csv')\n",
    "DF_log_tpm = pd.read_csv(log_tpm_file,index_col=0)\n",
    "DF_log_tpm.head()"
   ]
  },
  {
   "cell_type": "markdown",
   "metadata": {},
   "source": [
    "Check that the genes are the same in the expression dataset as in the annotation dataframe. Mismatched genes are listed below."
   ]
  },
  {
   "cell_type": "code",
   "execution_count": 7,
   "metadata": {},
   "outputs": [],
   "source": [
    "DF_gene = DF_annot.sort_index().index.tolist()\n",
    "tpm_gene = DF_log_tpm.sort_index().index.tolist()"
   ]
  },
  {
   "cell_type": "code",
   "execution_count": 8,
   "metadata": {},
   "outputs": [],
   "source": [
    "missing = []\n",
    "for i in DF_gene:\n",
    "    if i not in tpm_gene:\n",
    "        missing.append(i)"
   ]
  },
  {
   "cell_type": "code",
   "execution_count": 9,
   "metadata": {},
   "outputs": [
    {
     "data": {
      "text/html": [
       "<div>\n",
       "<style scoped>\n",
       "    .dataframe tbody tr th:only-of-type {\n",
       "        vertical-align: middle;\n",
       "    }\n",
       "\n",
       "    .dataframe tbody tr th {\n",
       "        vertical-align: top;\n",
       "    }\n",
       "\n",
       "    .dataframe thead th {\n",
       "        text-align: right;\n",
       "    }\n",
       "</style>\n",
       "<table border=\"1\" class=\"dataframe\">\n",
       "  <thead>\n",
       "    <tr style=\"text-align: right;\">\n",
       "      <th></th>\n",
       "      <th>accession</th>\n",
       "      <th>start</th>\n",
       "      <th>end</th>\n",
       "      <th>strand</th>\n",
       "      <th>gene_name</th>\n",
       "      <th>old_locus_tag</th>\n",
       "      <th>gene_product</th>\n",
       "      <th>ncbi_protein</th>\n",
       "    </tr>\n",
       "    <tr>\n",
       "      <th>locus_tag</th>\n",
       "      <th></th>\n",
       "      <th></th>\n",
       "      <th></th>\n",
       "      <th></th>\n",
       "      <th></th>\n",
       "      <th></th>\n",
       "      <th></th>\n",
       "      <th></th>\n",
       "    </tr>\n",
       "  </thead>\n",
       "  <tbody>\n",
       "    <tr>\n",
       "      <th>cg0001</th>\n",
       "      <td>BX927147.1</td>\n",
       "      <td>1.0</td>\n",
       "      <td>1575.0</td>\n",
       "      <td>+</td>\n",
       "      <td>dnaA</td>\n",
       "      <td>None</td>\n",
       "      <td>CHROMOSOMAL REPLICATION INITIATOR PROTEIN</td>\n",
       "      <td>CAF18566.1</td>\n",
       "    </tr>\n",
       "    <tr>\n",
       "      <th>cg0002</th>\n",
       "      <td>BX927147.1</td>\n",
       "      <td>1594.0</td>\n",
       "      <td>1920.0</td>\n",
       "      <td>-</td>\n",
       "      <td>None</td>\n",
       "      <td>None</td>\n",
       "      <td>hypothetical protein predicted by Glimmer</td>\n",
       "      <td>CAF18567.1</td>\n",
       "    </tr>\n",
       "    <tr>\n",
       "      <th>cg0004</th>\n",
       "      <td>BX927147.1</td>\n",
       "      <td>2292.0</td>\n",
       "      <td>3476.0</td>\n",
       "      <td>+</td>\n",
       "      <td>dnaN</td>\n",
       "      <td>None</td>\n",
       "      <td>DNA POLYMERASE III%2C BETA SUBUNIT</td>\n",
       "      <td>CAF18568.1</td>\n",
       "    </tr>\n",
       "    <tr>\n",
       "      <th>cg0005</th>\n",
       "      <td>BX927147.1</td>\n",
       "      <td>3585.0</td>\n",
       "      <td>4769.0</td>\n",
       "      <td>+</td>\n",
       "      <td>recF</td>\n",
       "      <td>None</td>\n",
       "      <td>DNA REPAIR AND GENETIC RECOMBINATION PROTEIN</td>\n",
       "      <td>CAF18569.1</td>\n",
       "    </tr>\n",
       "    <tr>\n",
       "      <th>cg0006</th>\n",
       "      <td>BX927147.1</td>\n",
       "      <td>4814.0</td>\n",
       "      <td>5302.0</td>\n",
       "      <td>+</td>\n",
       "      <td>None</td>\n",
       "      <td>None</td>\n",
       "      <td>CONSERVED HYPOTHETICAL PROTEIN</td>\n",
       "      <td>CAF18570.1</td>\n",
       "    </tr>\n",
       "    <tr>\n",
       "      <th>...</th>\n",
       "      <td>...</td>\n",
       "      <td>...</td>\n",
       "      <td>...</td>\n",
       "      <td>...</td>\n",
       "      <td>...</td>\n",
       "      <td>...</td>\n",
       "      <td>...</td>\n",
       "      <td>...</td>\n",
       "    </tr>\n",
       "    <tr>\n",
       "      <th>cg3430</th>\n",
       "      <td>BX927147.1</td>\n",
       "      <td>3280996.0</td>\n",
       "      <td>3281295.0</td>\n",
       "      <td>-</td>\n",
       "      <td>None</td>\n",
       "      <td>None</td>\n",
       "      <td>conserved hypothetical protein</td>\n",
       "      <td>CAF19037.1</td>\n",
       "    </tr>\n",
       "    <tr>\n",
       "      <th>cg3431</th>\n",
       "      <td>BX927147.1</td>\n",
       "      <td>3281276.0</td>\n",
       "      <td>3281677.0</td>\n",
       "      <td>-</td>\n",
       "      <td>rnpA</td>\n",
       "      <td>None</td>\n",
       "      <td>RNase P protein component</td>\n",
       "      <td>CAF19038.1</td>\n",
       "    </tr>\n",
       "    <tr>\n",
       "      <th>cg3432</th>\n",
       "      <td>BX927147.1</td>\n",
       "      <td>3281717.0</td>\n",
       "      <td>3281860.0</td>\n",
       "      <td>-</td>\n",
       "      <td>rpmH</td>\n",
       "      <td>None</td>\n",
       "      <td>50S RIBOSOMAL PROTEIN L34</td>\n",
       "      <td>CAF19039.1</td>\n",
       "    </tr>\n",
       "    <tr>\n",
       "      <th>cg3433</th>\n",
       "      <td>BX927147.1</td>\n",
       "      <td>3282127.0</td>\n",
       "      <td>3282348.0</td>\n",
       "      <td>-</td>\n",
       "      <td>None</td>\n",
       "      <td>None</td>\n",
       "      <td>hypothetical protein predicted by Glimmer/Critica</td>\n",
       "      <td>CAF19040.1</td>\n",
       "    </tr>\n",
       "    <tr>\n",
       "      <th>cg3434</th>\n",
       "      <td>BX927147.1</td>\n",
       "      <td>3282519.0</td>\n",
       "      <td>3282632.0</td>\n",
       "      <td>+</td>\n",
       "      <td>None</td>\n",
       "      <td>None</td>\n",
       "      <td>hypothetical protein predicted by Glimmer/Critica</td>\n",
       "      <td>CAF19041.1</td>\n",
       "    </tr>\n",
       "  </tbody>\n",
       "</table>\n",
       "<p>3047 rows × 8 columns</p>\n",
       "</div>"
      ],
      "text/plain": [
       "            accession      start        end strand gene_name old_locus_tag  \\\n",
       "locus_tag                                                                    \n",
       "cg0001     BX927147.1        1.0     1575.0      +      dnaA          None   \n",
       "cg0002     BX927147.1     1594.0     1920.0      -      None          None   \n",
       "cg0004     BX927147.1     2292.0     3476.0      +      dnaN          None   \n",
       "cg0005     BX927147.1     3585.0     4769.0      +      recF          None   \n",
       "cg0006     BX927147.1     4814.0     5302.0      +      None          None   \n",
       "...               ...        ...        ...    ...       ...           ...   \n",
       "cg3430     BX927147.1  3280996.0  3281295.0      -      None          None   \n",
       "cg3431     BX927147.1  3281276.0  3281677.0      -      rnpA          None   \n",
       "cg3432     BX927147.1  3281717.0  3281860.0      -      rpmH          None   \n",
       "cg3433     BX927147.1  3282127.0  3282348.0      -      None          None   \n",
       "cg3434     BX927147.1  3282519.0  3282632.0      +      None          None   \n",
       "\n",
       "                                                gene_product ncbi_protein  \n",
       "locus_tag                                                                  \n",
       "cg0001             CHROMOSOMAL REPLICATION INITIATOR PROTEIN   CAF18566.1  \n",
       "cg0002             hypothetical protein predicted by Glimmer   CAF18567.1  \n",
       "cg0004                    DNA POLYMERASE III%2C BETA SUBUNIT   CAF18568.1  \n",
       "cg0005          DNA REPAIR AND GENETIC RECOMBINATION PROTEIN   CAF18569.1  \n",
       "cg0006                        CONSERVED HYPOTHETICAL PROTEIN   CAF18570.1  \n",
       "...                                                      ...          ...  \n",
       "cg3430                        conserved hypothetical protein   CAF19037.1  \n",
       "cg3431                             RNase P protein component   CAF19038.1  \n",
       "cg3432                             50S RIBOSOMAL PROTEIN L34   CAF19039.1  \n",
       "cg3433     hypothetical protein predicted by Glimmer/Critica   CAF19040.1  \n",
       "cg3434     hypothetical protein predicted by Glimmer/Critica   CAF19041.1  \n",
       "\n",
       "[3047 rows x 8 columns]"
      ]
     },
     "execution_count": 9,
     "metadata": {},
     "output_type": "execute_result"
    }
   ],
   "source": [
    "#test = DF_annot.sort_index().index == DF_log_tpm.sort_index().index\n",
    "#  some genes in the DF_annot does not exist in DF_log_tpm\n",
    "DF_annot = DF_annot.drop(missing, axis=0)\n",
    "DF_annot"
   ]
  },
  {
   "cell_type": "code",
   "execution_count": 11,
   "metadata": {},
   "outputs": [],
   "source": [
    "from pathlib import Path  \n",
    "filepath = Path('/home/amy/Documents/GitHub/modulome-C_Glutamicum_Microarray_clean/7_characterizing_imodulons/Data/gene_info.csv')  \n",
    "filepath.parent.mkdir(parents=True, exist_ok=True)  \n",
    "DF_annot.to_csv(filepath)  "
   ]
  },
  {
   "cell_type": "markdown",
   "metadata": {},
   "source": [
    "## (Optional) KEGG and COGs"
   ]
  },
  {
   "cell_type": "markdown",
   "metadata": {},
   "source": [
    "### Generate nucleotide fasta files for CDS"
   ]
  },
  {
   "cell_type": "markdown",
   "metadata": {},
   "source": [
    "Enter the location of all your fasta files here:\n",
    "https://www.genome.jp/brite/br08601+cgb\n",
    "https://rest.kegg.jp/link/cgl/pathway"
   ]
  },
  {
   "cell_type": "code",
   "execution_count": 25,
   "metadata": {},
   "outputs": [
    {
     "data": {
      "text/plain": [
       "['/home/amy/Documents/GitHub/modulome-C_Glutamicum_Microarray_clean/7_characterizing_imodulons/Data/gene/genomic.fna']"
      ]
     },
     "execution_count": 25,
     "metadata": {},
     "output_type": "execute_result"
    }
   ],
   "source": [
    "fasta_files = [os.path.join('/home/amy/Documents/GitHub/modulome-C_Glutamicum_Microarray_clean/7_characterizing_imodulons/Data/gene/genomic.fna')]\n",
    "#fasta_files = Path('/home/amy/Documents/GitHub/modulome-C_Glutamicum_Microarray_clean/7_characterizing_imodulons/Data/Gene/genomic.fna')\n",
    "\n",
    "fasta_files\n"
   ]
  },
  {
   "cell_type": "markdown",
   "metadata": {},
   "source": [
    "The following code generates CDS files using your FASTA and GFF3 files"
   ]
  },
  {
   "cell_type": "code",
   "execution_count": 26,
   "metadata": {},
   "outputs": [],
   "source": [
    "from Bio import SeqIO\n",
    "\n",
    "cds_list = []\n",
    "for fasta in fasta_files:\n",
    "    seq = SeqIO.read(fasta,'fasta')\n",
    "\n",
    "    # Get gene information for genes in this fasta file\n",
    "    df_genes = DF_annot[DF_annot.accession == seq.id]\n",
    "    \n",
    "    for i,row in df_genes.iterrows():\n",
    "        cds = seq[int(row.start)-1:int(row.end)] #Added int() heredue to errors\n",
    "        if row.strand == '-':\n",
    "            cds = seq[int(row.start)-1:int(row.end)].reverse_complement()  #Added int() heredue to errors\n",
    "        cds.id = row.name\n",
    "        cds.description = row.gene_name if pd.notnull(row.gene_name) else row.name\n",
    "        cds_list.append(cds)"
   ]
  },
  {
   "cell_type": "code",
   "execution_count": 27,
   "metadata": {},
   "outputs": [
    {
     "data": {
      "text/plain": [
       "[SeqRecord(seq=Seq('GTGAGCCAGAACTCATCTTCTTTGCTCGAAACCTGGCGCCAAGTTGTTGCCGAT...TAA'), id='cg0001', name='BX927147.1', description='dnaA', dbxrefs=[]),\n",
       " SeqRecord(seq=Seq('TTGATTGTGGATAACTTTGTCTATCTGTGGATAGATTTCAAGGTACGGATTTTA...TAG'), id='cg0002', name='<unknown name>', description='cg0002', dbxrefs=[]),\n",
       " SeqRecord(seq=Seq('ATGGAGTCACAAAACGTGTCCTTCCGTGTGGCCAGGGAAGACCTGGTTACCGCG...TAA'), id='cg0004', name='BX927147.1', description='dnaN', dbxrefs=[]),\n",
       " SeqRecord(seq=Seq('ATGCACATCCGTTCTTTGGAATTACGTGATTACCGTTCCTGGCCTGAACTCAAA...TGA'), id='cg0005', name='BX927147.1', description='recF', dbxrefs=[]),\n",
       " SeqRecord(seq=Seq('ATGCGCAGAAATGGATCCGTTCCCGACCTCAATAAAAACGATGCTTTTCGACGC...TAG'), id='cg0006', name='BX927147.1', description='cg0006', dbxrefs=[])]"
      ]
     },
     "execution_count": 27,
     "metadata": {},
     "output_type": "execute_result"
    }
   ],
   "source": [
    "cds_list[:5]"
   ]
  },
  {
   "cell_type": "markdown",
   "metadata": {},
   "source": [
    "Save the CDS file"
   ]
  },
  {
   "cell_type": "code",
   "execution_count": 29,
   "metadata": {
    "scrolled": true
   },
   "outputs": [
    {
     "data": {
      "text/plain": [
       "3047"
      ]
     },
     "execution_count": 29,
     "metadata": {},
     "output_type": "execute_result"
    }
   ],
   "source": [
    "cds_file = os.path.join('/home/amy/Documents/GitHub/modulome-C_Glutamicum_Microarray_clean/7_characterizing_imodulons/Data/gene','CDS.fna')\n",
    "SeqIO.write(cds_list, cds_file, 'fasta')"
   ]
  },
  {
   "cell_type": "markdown",
   "metadata": {},
   "source": [
    "### Run EggNOG Mapper\n",
    "1. Go to http://eggnog-mapper.embl.de/.\n",
    "1. Upload the CDS.fna file from your organism directory (within the sequence_files folder)\n",
    "1. Make sure to limit the taxonomy to the correct level\n",
    "1. After the job is submitted, you must follow the link in your email to run the job.\n",
    "1. Once the job completes (after ~4 hrs), download the annotations file.\n",
    "1. Save the annotation file"
   ]
  },
  {
   "cell_type": "markdown",
   "metadata": {},
   "source": [
    "### Get KEGG IDs"
   ]
  },
  {
   "cell_type": "markdown",
   "metadata": {},
   "source": [
    "Once you have the EggNOG annotations, load the annotation file"
   ]
  },
  {
   "cell_type": "code",
   "execution_count": null,
   "metadata": {},
   "outputs": [],
   "source": [
    "eggnog_file = os.path.join('eggNOG','MM_pqq12tbj.emapper.annotations.txt')"
   ]
  },
  {
   "cell_type": "code",
   "execution_count": null,
   "metadata": {},
   "outputs": [],
   "source": [
    "DF_eggnog = pd.read_csv(eggnog_file,sep='\\t',skiprows=4,header=None)\n",
    "eggnog_cols = ['query_name','seed eggNOG ortholog','seed ortholog evalue','seed ortholog score',\n",
    "               'Predicted taxonomic group','Predicted protein name','Gene Ontology terms',\n",
    "               'EC number','KEGG_orth','KEGG_pathway','KEGG_module','KEGG_reaction',\n",
    "               'KEGG_rclass','BRITE','KEGG_TC','CAZy','BiGG Reaction','tax_scope',\n",
    "               'eggNOG OGs','bestOG_deprecated','COG']  #deleted 'eggNOG free text description' column at the end due to bug\n",
    "\n",
    "DF_eggnog.columns = eggnog_cols\n",
    "\n",
    "# Strip last three rows as they are comments\n",
    "DF_eggnog = DF_eggnog.iloc[:-3]\n",
    "\n",
    "# Set locus tag as index\n",
    "DF_eggnog = DF_eggnog.set_index('query_name')\n",
    "DF_eggnog.index.name = 'locus_tag'\n",
    "\n",
    "DF_eggnog.head()"
   ]
  },
  {
   "cell_type": "markdown",
   "metadata": {},
   "source": [
    "Now we will pull the KEGG information from the eggNOG file, including orthology, pathway, module, and reactions for each gene."
   ]
  },
  {
   "cell_type": "code",
   "execution_count": null,
   "metadata": {
    "scrolled": true
   },
   "outputs": [],
   "source": [
    "DF_kegg = DF_eggnog[['KEGG_orth','KEGG_pathway','KEGG_module','KEGG_reaction']]\n",
    "\n",
    "# Melt dataframe\n",
    "DF_kegg = DF_kegg.reset_index().melt(id_vars='locus_tag') \n",
    "\n",
    "# Remove null values\n",
    "DF_kegg = DF_kegg[DF_kegg.value.notnull()]\n",
    "\n",
    "# Split comma-separated values into their own rows\n",
    "list2struct = []\n",
    "for name,row in DF_kegg.iterrows():\n",
    "    for val in row.value.split(','):\n",
    "        list2struct.append([row.locus_tag,row.variable,val])\n",
    "\n",
    "DF_kegg = pd.DataFrame(list2struct,columns=['gene_id','database','kegg_id'])\n",
    "\n",
    "# Remove ko entries, as only map entries are searchable in KEGG pathway\n",
    "DF_kegg = DF_kegg[~DF_kegg.kegg_id.str.startswith('ko')]\n",
    "\n",
    "DF_kegg.head()"
   ]
  },
  {
   "cell_type": "markdown",
   "metadata": {},
   "source": [
    "### Save KEGG information"
   ]
  },
  {
   "cell_type": "code",
   "execution_count": null,
   "metadata": {},
   "outputs": [],
   "source": [
    "DF_kegg.to_csv(os.path.join('KEGG','kegg_mapping.csv'))"
   ]
  },
  {
   "cell_type": "markdown",
   "metadata": {},
   "source": [
    "### Save COGs to annotation dataframe"
   ]
  },
  {
   "cell_type": "code",
   "execution_count": null,
   "metadata": {},
   "outputs": [],
   "source": [
    "DF_annot['COG'] = DF_eggnog.COG\n",
    "\n",
    "# Make sure COG only has one entry per gene\n",
    "DF_annot['COG'] = [item[0] if isinstance(item,str) else item for item in DF_annot['COG']]"
   ]
  },
  {
   "cell_type": "markdown",
   "metadata": {},
   "source": [
    "## Uniprot ID mapping"
   ]
  },
  {
   "cell_type": "markdown",
   "metadata": {},
   "source": [
    "The ``uniprot_id_mapping`` function is a python wrapper for the [Uniprot ID mapping tool](https://www.uniprot.org/uploadlists/). Use ``input_id=P_REFSEQ_AC`` if the FASTA/GFF files are from RefSeq, and ``input_id=EMBL`` if the files are from Genbank."
   ]
  },
  {
   "cell_type": "code",
   "execution_count": null,
   "metadata": {},
   "outputs": [],
   "source": [
    "#mapping_uniprot = uniprot_id_mapping(DF_annot.ncbi_protein.fillna(''),input_id='EMBL',output_id='ACC',\n",
    "#                             input_name='ncbi_protein',output_name='uniprot')\n",
    "#mapping_uniprot.head()\n",
    "\n",
    "\n",
    "#mapping_uniprot = uniprot_id_mapping(DF_annot.ncbi_protein.fillna(''),input_id='P_REFSEQ_AC',output_id='ACC',\n",
    "#                                     input_name='ncbi_protein',output_name='uniprot')\n",
    "#mapping_uniprot.head()\n",
    "\n",
    "import json\n",
    "import requests\n",
    "import time\n",
    "\n",
    "URL = 'https://rest.uniprot.org/idmapping'\n",
    "IDS = DF_annot.ncbi_protein.fillna('').values.tolist()\n",
    "\n",
    "\n",
    "params = {\n",
    "   'from': 'UniProtKB_AC-ID',\n",
    "   'to': 'ChEMBL',\n",
    "   'ids': ' '.join(IDS)\n",
    "}\n",
    "\n",
    "response = requests.post(f'{URL}/run', params)\n",
    "job_id = response.json()['jobId']\n",
    "job_status = requests.get(f'{URL}/status/{job_id}')\n",
    "d = job_status.json()\n",
    "\n",
    "# Make three attemps to get the results\n",
    "for i in range(3):\n",
    "    if d.get(\"job_status\") == 'FINISHED' or d.get('results'):\n",
    "        job_results = requests.get(f'{URL}/results/{job_id}')\n",
    "        results = job_results.json()\n",
    "        for obj in results['results']:\n",
    "            print(f'{obj[\"from\"]}\\t{obj[\"to\"]}')\n",
    "        break\n",
    "    time.sleep(1)\n",
    "#print(IDS)\n",
    "#print(response.json())\n",
    "print(job_status.json())"
   ]
  },
  {
   "cell_type": "code",
   "execution_count": null,
   "metadata": {},
   "outputs": [],
   "source": [
    "# Merge with current annotation\n",
    "DF_annot = pd.merge(DF_annot.reset_index(),mapping_uniprot,how='left',on='ncbi_protein')\n",
    "DF_annot.set_index('locus_tag',inplace=True)\n",
    "DF_annot.head()"
   ]
  },
  {
   "cell_type": "markdown",
   "metadata": {},
   "source": [
    "## Add Biocyc Operon information"
   ]
  },
  {
   "cell_type": "markdown",
   "metadata": {},
   "source": [
    "To obtain operon information from Biocyc, follow the steps below\n",
    "\n",
    "1. Go to [Biocyc.org](https://biocyc.org/) (you may need to create an account and/or login)\n",
    "2. Change the organism database to your organism/strain\n",
    "3. Select **SmartTables** -> **Special SmartTables**\n",
    "4. Select **\"All genes of \\<organism\\>\"**\n",
    "5. Select the **\"Gene Name\"** column\n",
    "6. Under **\"ADD TRANSFORM COLUMN\"** select **\"Genes in same transcription unit\"**\n",
    "7. Select the **\"Genes in same transcription unit\"** column\n",
    "8. Under **\"ADD PROPERTY COLUMN\"** select **\"Accession-1\"**\n",
    "9. Under **OPERATIONS**, select **\"Export\"** -> **\"to Spreadsheet File...\"**\n",
    "10. Select **\"common names\"** and click **\"Export smarttable\"**\n",
    "11. Add file location below and run the code cell"
   ]
  },
  {
   "cell_type": "code",
   "execution_count": null,
   "metadata": {},
   "outputs": [],
   "source": [
    "biocyc_file = os.path.join('..','data','external','biocyc_annotations.txt')\n",
    "\n",
    "DF_biocyc = pd.read_csv(biocyc_file,sep='\\t')\n",
    "\n",
    "# Remove genes with no accession\n",
    "DF_biocyc = DF_biocyc[DF_biocyc['Accession-1'].notnull()]\n",
    "\n",
    "# Set the accession (i.e. locus tag) as index\n",
    "DF_biocyc = DF_biocyc.set_index('Accession-1').sort_values('Left-End-Position')\n",
    "\n",
    "# Specific for B. subtilis: Fix locus tags\n",
    "DF_biocyc.index = DF_biocyc.index.str.replace('BSU','BSU_')\n",
    "\n",
    "# Only keep genes in the final annotation file\n",
    "DF_biocyc = DF_biocyc.reindex(DF_annot.index)\n",
    "\n",
    "# Reformat transcription units\n",
    "DF_biocyc['operon_list'] = DF_biocyc['Accession-1.1'].apply(reformat_biocyc_tu)\n",
    "\n",
    "# Fill None with locus tags\n",
    "DF_biocyc['operon_list'].fillna(DF_biocyc.index.to_series(), inplace=True)\n",
    "\n",
    "DF_biocyc.head()"
   ]
  },
  {
   "cell_type": "markdown",
   "metadata": {},
   "source": [
    "### Assign unique IDs to operons"
   ]
  },
  {
   "cell_type": "markdown",
   "metadata": {},
   "source": [
    "The following code assigns unique names to each operon"
   ]
  },
  {
   "cell_type": "code",
   "execution_count": null,
   "metadata": {},
   "outputs": [],
   "source": [
    "# Get all operons\n",
    "operons = DF_biocyc['operon_list'].unique()\n",
    "\n",
    "# Map each operon to a unique string\n",
    "operon_dict = {operon: \"Op\"+str(i) for i, operon in enumerate(operons)}\n",
    "\n",
    "# Add names to dataframe\n",
    "DF_biocyc['operon'] = [operon_dict[op] for op in DF_biocyc[\"operon_list\"]]\n",
    "\n",
    "DF_biocyc.head()"
   ]
  },
  {
   "cell_type": "markdown",
   "metadata": {},
   "source": [
    "Finally, merge the Biocyc information with the main annotation DataFrame"
   ]
  },
  {
   "cell_type": "code",
   "execution_count": null,
   "metadata": {},
   "outputs": [],
   "source": [
    "DF_annot['operon'] = DF_biocyc['operon']"
   ]
  },
  {
   "cell_type": "markdown",
   "metadata": {},
   "source": [
    "## Clean up and save annotation"
   ]
  },
  {
   "cell_type": "markdown",
   "metadata": {},
   "source": [
    "First, we will re-order the annotation columns"
   ]
  },
  {
   "cell_type": "code",
   "execution_count": null,
   "metadata": {},
   "outputs": [],
   "source": [
    "if 'old_locus_tag' in DF_annot.columns:\n",
    "    order = ['gene_name','accession','old_locus_tag','start','end','strand','gene_product','COG','uniprot','operon']\n",
    "else:\n",
    "    order = ['gene_name','accession','start','end','strand','gene_product','COG','uniprot','operon']\n",
    "    \n",
    "DF_annot = DF_annot[order]"
   ]
  },
  {
   "cell_type": "code",
   "execution_count": null,
   "metadata": {},
   "outputs": [],
   "source": [
    "DF_annot.head()"
   ]
  },
  {
   "cell_type": "markdown",
   "metadata": {},
   "source": [
    "## Final statistics"
   ]
  },
  {
   "cell_type": "markdown",
   "metadata": {},
   "source": [
    "The following graphs show how much information is available for the organism."
   ]
  },
  {
   "cell_type": "code",
   "execution_count": null,
   "metadata": {},
   "outputs": [],
   "source": [
    "import seaborn as sns\n",
    "import matplotlib.pyplot as plt\n",
    "\n",
    "sns.set_style('ticks')"
   ]
  },
  {
   "cell_type": "code",
   "execution_count": null,
   "metadata": {},
   "outputs": [],
   "source": [
    "fig,ax = plt.subplots()\n",
    "DF_annot.count().plot(kind='bar',ax=ax)\n",
    "ax.set_ylabel('# of Values',fontsize=18)\n",
    "ax.tick_params(labelsize=16)"
   ]
  },
  {
   "cell_type": "markdown",
   "metadata": {},
   "source": [
    "## Fill missing values"
   ]
  },
  {
   "cell_type": "markdown",
   "metadata": {},
   "source": [
    "Some organisms are missing gene names, so these will be filled with locus tag gene names."
   ]
  },
  {
   "cell_type": "code",
   "execution_count": null,
   "metadata": {
    "code_folding": []
   },
   "outputs": [],
   "source": [
    "# Fill in missing gene names with locus tag names\n",
    "DF_annot['tmp_name'] = DF_annot.copy().index.tolist()\n",
    "DF_annot.gene_name.fillna(DF_annot.tmp_name,inplace=True)\n",
    "DF_annot.drop('tmp_name',axis=1,inplace=True)"
   ]
  },
  {
   "cell_type": "markdown",
   "metadata": {},
   "source": [
    " COG letters will also be converted to the full name."
   ]
  },
  {
   "cell_type": "code",
   "execution_count": null,
   "metadata": {},
   "outputs": [],
   "source": [
    "# Fill missing COGs with X\n",
    "DF_annot['COG'].fillna('X',inplace=True)\n",
    "\n",
    "# Change single letter COG annotation to full description\n",
    "DF_annot['COG'] = DF_annot.COG.apply(cog2str)\n",
    "\n",
    "counts = DF_annot.COG.value_counts()\n",
    "plt.pie(counts.values,labels=counts.index);"
   ]
  },
  {
   "cell_type": "markdown",
   "metadata": {},
   "source": [
    "Uncomment the following line to save the gene annotation dataset"
   ]
  },
  {
   "cell_type": "code",
   "execution_count": null,
   "metadata": {},
   "outputs": [],
   "source": [
    "DF_annot.to_csv(os.path.join('..','data','processed_data','gene_info.csv'))"
   ]
  },
  {
   "cell_type": "markdown",
   "metadata": {},
   "source": [
    "## GO Annotations"
   ]
  },
  {
   "cell_type": "markdown",
   "metadata": {},
   "source": [
    "To start, download the GO Annotations for your organism from AmiGO 2\n",
    "\n",
    "1. Go to [AmiGO 2](http://amigo.geneontology.org/amigo/search/annotation)\n",
    "1. Filter for your organism\n",
    "1. Click ``CustomDL``\n",
    "1. Drag ``GO class (direct)`` to the end of your Selected Fields\n",
    "1. Enter the location of your GO annotation file below and run the following code block"
   ]
  },
  {
   "cell_type": "code",
   "execution_count": null,
   "metadata": {},
   "outputs": [],
   "source": [
    "go_file = os.path.join('..','data','external','GO_annotations.txt')"
   ]
  },
  {
   "cell_type": "code",
   "execution_count": null,
   "metadata": {},
   "outputs": [],
   "source": [
    "DF_GO = pd.read_csv(go_file,sep='\\t',header=None,usecols=[2,17])\n",
    "DF_GO.columns = ['gene_name','gene_ontology']\n",
    "DF_GO.head()"
   ]
  },
  {
   "cell_type": "markdown",
   "metadata": {},
   "source": [
    "Convert the gene names to gene locus tags, and drop gene names that cannot be converted"
   ]
  },
  {
   "cell_type": "code",
   "execution_count": null,
   "metadata": {},
   "outputs": [],
   "source": [
    "name2num = {v:k for k,v in DF_annot.gene_name.to_dict().items()}"
   ]
  },
  {
   "cell_type": "code",
   "execution_count": null,
   "metadata": {},
   "outputs": [],
   "source": [
    "DF_GO['gene_id'] = [name2num[x] if x in name2num.keys() else None for x in DF_GO.gene_name]"
   ]
  },
  {
   "cell_type": "code",
   "execution_count": null,
   "metadata": {},
   "outputs": [],
   "source": [
    "DF_GO.head()"
   ]
  },
  {
   "cell_type": "markdown",
   "metadata": {},
   "source": [
    "Now we remove null entries"
   ]
  },
  {
   "cell_type": "code",
   "execution_count": null,
   "metadata": {},
   "outputs": [],
   "source": [
    "DF_GO = DF_GO[DF_GO.gene_id.notnull()]"
   ]
  },
  {
   "cell_type": "code",
   "execution_count": null,
   "metadata": {},
   "outputs": [],
   "source": [
    "DF_GO.head()"
   ]
  },
  {
   "cell_type": "markdown",
   "metadata": {},
   "source": [
    "Uncomment the line below to save the annotations"
   ]
  },
  {
   "cell_type": "code",
   "execution_count": null,
   "metadata": {},
   "outputs": [],
   "source": [
    "DF_GO[['gene_id','gene_name','gene_ontology']].to_csv(os.path.join('..','data','external','GO_annotations_curated.csv'))"
   ]
  },
  {
   "cell_type": "code",
   "execution_count": null,
   "metadata": {},
   "outputs": [],
   "source": []
  }
 ],
 "metadata": {
  "kernelspec": {
   "display_name": "Python 3 (ipykernel)",
   "language": "python",
   "name": "python3"
  },
  "language_info": {
   "codemirror_mode": {
    "name": "ipython",
    "version": 3
   },
   "file_extension": ".py",
   "mimetype": "text/x-python",
   "name": "python",
   "nbconvert_exporter": "python",
   "pygments_lexer": "ipython3",
   "version": "3.7.16"
  },
  "toc": {
   "base_numbering": 1,
   "nav_menu": {},
   "number_sections": true,
   "sideBar": true,
   "skip_h1_title": false,
   "title_cell": "Table of Contents",
   "title_sidebar": "Contents",
   "toc_cell": true,
   "toc_position": {},
   "toc_section_display": true,
   "toc_window_display": false
  }
 },
 "nbformat": 4,
 "nbformat_minor": 2
}
