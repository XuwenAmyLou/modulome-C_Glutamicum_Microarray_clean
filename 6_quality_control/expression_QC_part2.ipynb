{
 "cells": [
  {
   "cell_type": "markdown",
   "metadata": {},
   "source": [
    "# Expression Quality Control (Part 2)"
   ]
  },
  {
   "cell_type": "markdown",
   "metadata": {},
   "source": [
    "This is a template notebook for performing the final quality control on your organism's expression data. This requires a curated metadata sheet."
   ]
  },
  {
   "cell_type": "markdown",
   "metadata": {},
   "source": [
    "## Setup "
   ]
  },
  {
   "cell_type": "code",
   "execution_count": 1,
   "metadata": {},
   "outputs": [],
   "source": [
    "import itertools\n",
    "\n",
    "import matplotlib.pyplot as plt\n",
    "import numpy as np\n",
    "import pandas as pd\n",
    "import seaborn as sns\n",
    "\n",
    "from os import path\n",
    "from scipy import stats\n",
    "from tqdm.notebook import tqdm"
   ]
  },
  {
   "cell_type": "code",
   "execution_count": 2,
   "metadata": {},
   "outputs": [],
   "source": [
    "sns.set_style('ticks')"
   ]
  },
  {
   "cell_type": "markdown",
   "metadata": {},
   "source": [
    "### Inputs"
   ]
  },
  {
   "cell_type": "code",
   "execution_count": 3,
   "metadata": {},
   "outputs": [],
   "source": [
    "\n",
    "logTPM_file = path.join('..','data','raw_data','/Users/louxuwen/Desktop/Documents/GitHub/BENG212_S_aureus/2_process_data/log_tpm.csv') # Enter log-TPM filename here\n",
    "all_metadata_file = path.join('..','data','interim','/Users/louxuwen/Desktop/Documents/GitHub/BENG212_S_aureus/3_quality control/NCTC8325_all.tsv') # Enter full metadata filename here\n",
    "metadata_file = path.join('..','data','interim','/Users/louxuwen/Desktop/Documents/GitHub/BENG212_S_aureus/3_quality control/NCTC8325_part1_curated.tsv') # Enter curated metadata filename here\n"
   ]
  },
  {
   "cell_type": "markdown",
   "metadata": {},
   "source": [
    "### Load expression data"
   ]
  },
  {
   "cell_type": "code",
   "execution_count": 4,
   "metadata": {},
   "outputs": [
    {
     "name": "stdout",
     "output_type": "stream",
     "text": [
      "Number of genes: 2767\n",
      "Number of samples: 337\n"
     ]
    },
    {
     "data": {
      "text/html": [
       "<div>\n",
       "<style scoped>\n",
       "    .dataframe tbody tr th:only-of-type {\n",
       "        vertical-align: middle;\n",
       "    }\n",
       "\n",
       "    .dataframe tbody tr th {\n",
       "        vertical-align: top;\n",
       "    }\n",
       "\n",
       "    .dataframe thead th {\n",
       "        text-align: right;\n",
       "    }\n",
       "</style>\n",
       "<table border=\"1\" class=\"dataframe\">\n",
       "  <thead>\n",
       "    <tr style=\"text-align: right;\">\n",
       "      <th></th>\n",
       "      <th>DRX300641</th>\n",
       "      <th>DRX300642</th>\n",
       "      <th>DRX300643</th>\n",
       "      <th>ERX1222798</th>\n",
       "      <th>ERX1222799</th>\n",
       "      <th>ERX1222800</th>\n",
       "      <th>ERX2826862</th>\n",
       "      <th>ERX2826863</th>\n",
       "      <th>ERX2826864</th>\n",
       "      <th>ERX2826865</th>\n",
       "      <th>...</th>\n",
       "      <th>SRX9634010</th>\n",
       "      <th>SRX9634011</th>\n",
       "      <th>SRX9634012</th>\n",
       "      <th>SRX9634015</th>\n",
       "      <th>SRX9634016</th>\n",
       "      <th>SRX9634017</th>\n",
       "      <th>SRX9634018</th>\n",
       "      <th>SRX9634019</th>\n",
       "      <th>SRX9634020</th>\n",
       "      <th>SRX965931</th>\n",
       "    </tr>\n",
       "    <tr>\n",
       "      <th>Geneid</th>\n",
       "      <th></th>\n",
       "      <th></th>\n",
       "      <th></th>\n",
       "      <th></th>\n",
       "      <th></th>\n",
       "      <th></th>\n",
       "      <th></th>\n",
       "      <th></th>\n",
       "      <th></th>\n",
       "      <th></th>\n",
       "      <th></th>\n",
       "      <th></th>\n",
       "      <th></th>\n",
       "      <th></th>\n",
       "      <th></th>\n",
       "      <th></th>\n",
       "      <th></th>\n",
       "      <th></th>\n",
       "      <th></th>\n",
       "      <th></th>\n",
       "      <th></th>\n",
       "    </tr>\n",
       "  </thead>\n",
       "  <tbody>\n",
       "    <tr>\n",
       "      <th>SAOUHSC_00001</th>\n",
       "      <td>8.075960</td>\n",
       "      <td>7.913237</td>\n",
       "      <td>8.103539</td>\n",
       "      <td>8.231650</td>\n",
       "      <td>7.480144</td>\n",
       "      <td>7.833791</td>\n",
       "      <td>8.829448</td>\n",
       "      <td>8.936380</td>\n",
       "      <td>8.989139</td>\n",
       "      <td>8.942718</td>\n",
       "      <td>...</td>\n",
       "      <td>8.813741</td>\n",
       "      <td>8.461149</td>\n",
       "      <td>9.068514</td>\n",
       "      <td>8.446301</td>\n",
       "      <td>8.447756</td>\n",
       "      <td>8.781591</td>\n",
       "      <td>8.768944</td>\n",
       "      <td>8.520810</td>\n",
       "      <td>8.565999</td>\n",
       "      <td>8.558046</td>\n",
       "    </tr>\n",
       "    <tr>\n",
       "      <th>SAOUHSC_00002</th>\n",
       "      <td>8.491571</td>\n",
       "      <td>8.599078</td>\n",
       "      <td>8.401215</td>\n",
       "      <td>9.433116</td>\n",
       "      <td>8.726581</td>\n",
       "      <td>9.329891</td>\n",
       "      <td>8.962073</td>\n",
       "      <td>9.160966</td>\n",
       "      <td>9.290196</td>\n",
       "      <td>8.992331</td>\n",
       "      <td>...</td>\n",
       "      <td>9.093600</td>\n",
       "      <td>8.482311</td>\n",
       "      <td>8.937456</td>\n",
       "      <td>8.529349</td>\n",
       "      <td>8.782375</td>\n",
       "      <td>9.033129</td>\n",
       "      <td>9.018110</td>\n",
       "      <td>8.161739</td>\n",
       "      <td>8.052105</td>\n",
       "      <td>8.127758</td>\n",
       "    </tr>\n",
       "    <tr>\n",
       "      <th>SAOUHSC_00003</th>\n",
       "      <td>9.304385</td>\n",
       "      <td>8.849633</td>\n",
       "      <td>8.676897</td>\n",
       "      <td>7.504135</td>\n",
       "      <td>8.411847</td>\n",
       "      <td>8.858987</td>\n",
       "      <td>8.747960</td>\n",
       "      <td>8.976711</td>\n",
       "      <td>8.626191</td>\n",
       "      <td>8.742656</td>\n",
       "      <td>...</td>\n",
       "      <td>8.714124</td>\n",
       "      <td>8.020151</td>\n",
       "      <td>8.725003</td>\n",
       "      <td>8.142546</td>\n",
       "      <td>7.577228</td>\n",
       "      <td>7.810381</td>\n",
       "      <td>7.797447</td>\n",
       "      <td>7.668054</td>\n",
       "      <td>7.790997</td>\n",
       "      <td>7.671018</td>\n",
       "    </tr>\n",
       "    <tr>\n",
       "      <th>SAOUHSC_00004</th>\n",
       "      <td>9.119361</td>\n",
       "      <td>9.325414</td>\n",
       "      <td>8.971591</td>\n",
       "      <td>9.298017</td>\n",
       "      <td>9.538484</td>\n",
       "      <td>9.230754</td>\n",
       "      <td>8.412644</td>\n",
       "      <td>8.391423</td>\n",
       "      <td>8.605931</td>\n",
       "      <td>8.362605</td>\n",
       "      <td>...</td>\n",
       "      <td>9.841963</td>\n",
       "      <td>9.298584</td>\n",
       "      <td>9.323726</td>\n",
       "      <td>9.137359</td>\n",
       "      <td>8.794212</td>\n",
       "      <td>9.041146</td>\n",
       "      <td>9.083412</td>\n",
       "      <td>9.373125</td>\n",
       "      <td>9.467331</td>\n",
       "      <td>9.312853</td>\n",
       "    </tr>\n",
       "    <tr>\n",
       "      <th>SAOUHSC_00005</th>\n",
       "      <td>9.548104</td>\n",
       "      <td>9.573234</td>\n",
       "      <td>9.433046</td>\n",
       "      <td>9.791319</td>\n",
       "      <td>10.199322</td>\n",
       "      <td>9.799053</td>\n",
       "      <td>8.949354</td>\n",
       "      <td>8.885628</td>\n",
       "      <td>9.152409</td>\n",
       "      <td>8.849877</td>\n",
       "      <td>...</td>\n",
       "      <td>8.902671</td>\n",
       "      <td>8.890497</td>\n",
       "      <td>9.024617</td>\n",
       "      <td>8.658290</td>\n",
       "      <td>8.178211</td>\n",
       "      <td>8.635210</td>\n",
       "      <td>8.599545</td>\n",
       "      <td>9.773655</td>\n",
       "      <td>9.854817</td>\n",
       "      <td>9.969962</td>\n",
       "    </tr>\n",
       "  </tbody>\n",
       "</table>\n",
       "<p>5 rows × 337 columns</p>\n",
       "</div>"
      ],
      "text/plain": [
       "               DRX300641  DRX300642  DRX300643  ERX1222798  ERX1222799  \\\n",
       "Geneid                                                                   \n",
       "SAOUHSC_00001   8.075960   7.913237   8.103539    8.231650    7.480144   \n",
       "SAOUHSC_00002   8.491571   8.599078   8.401215    9.433116    8.726581   \n",
       "SAOUHSC_00003   9.304385   8.849633   8.676897    7.504135    8.411847   \n",
       "SAOUHSC_00004   9.119361   9.325414   8.971591    9.298017    9.538484   \n",
       "SAOUHSC_00005   9.548104   9.573234   9.433046    9.791319   10.199322   \n",
       "\n",
       "               ERX1222800  ERX2826862  ERX2826863  ERX2826864  ERX2826865  \\\n",
       "Geneid                                                                      \n",
       "SAOUHSC_00001    7.833791    8.829448    8.936380    8.989139    8.942718   \n",
       "SAOUHSC_00002    9.329891    8.962073    9.160966    9.290196    8.992331   \n",
       "SAOUHSC_00003    8.858987    8.747960    8.976711    8.626191    8.742656   \n",
       "SAOUHSC_00004    9.230754    8.412644    8.391423    8.605931    8.362605   \n",
       "SAOUHSC_00005    9.799053    8.949354    8.885628    9.152409    8.849877   \n",
       "\n",
       "               ...  SRX9634010  SRX9634011  SRX9634012  SRX9634015  \\\n",
       "Geneid         ...                                                   \n",
       "SAOUHSC_00001  ...    8.813741    8.461149    9.068514    8.446301   \n",
       "SAOUHSC_00002  ...    9.093600    8.482311    8.937456    8.529349   \n",
       "SAOUHSC_00003  ...    8.714124    8.020151    8.725003    8.142546   \n",
       "SAOUHSC_00004  ...    9.841963    9.298584    9.323726    9.137359   \n",
       "SAOUHSC_00005  ...    8.902671    8.890497    9.024617    8.658290   \n",
       "\n",
       "               SRX9634016  SRX9634017  SRX9634018  SRX9634019  SRX9634020  \\\n",
       "Geneid                                                                      \n",
       "SAOUHSC_00001    8.447756    8.781591    8.768944    8.520810    8.565999   \n",
       "SAOUHSC_00002    8.782375    9.033129    9.018110    8.161739    8.052105   \n",
       "SAOUHSC_00003    7.577228    7.810381    7.797447    7.668054    7.790997   \n",
       "SAOUHSC_00004    8.794212    9.041146    9.083412    9.373125    9.467331   \n",
       "SAOUHSC_00005    8.178211    8.635210    8.599545    9.773655    9.854817   \n",
       "\n",
       "               SRX965931  \n",
       "Geneid                    \n",
       "SAOUHSC_00001   8.558046  \n",
       "SAOUHSC_00002   8.127758  \n",
       "SAOUHSC_00003   7.671018  \n",
       "SAOUHSC_00004   9.312853  \n",
       "SAOUHSC_00005   9.969962  \n",
       "\n",
       "[5 rows x 337 columns]"
      ]
     },
     "execution_count": 4,
     "metadata": {},
     "output_type": "execute_result"
    }
   ],
   "source": [
    "DF_log_tpm = pd.read_csv(logTPM_file,index_col=0).fillna(0)\n",
    "print('Number of genes:',DF_log_tpm.shape[0])\n",
    "print('Number of samples:',DF_log_tpm.shape[1])\n",
    "DF_log_tpm.head()"
   ]
  },
  {
   "cell_type": "markdown",
   "metadata": {},
   "source": [
    "### Load metadata"
   ]
  },
  {
   "cell_type": "code",
   "execution_count": 5,
   "metadata": {},
   "outputs": [
    {
     "name": "stdout",
     "output_type": "stream",
     "text": [
      "Number of samples with curated metadata: 121\n"
     ]
    },
    {
     "data": {
      "text/html": [
       "<div>\n",
       "<style scoped>\n",
       "    .dataframe tbody tr th:only-of-type {\n",
       "        vertical-align: middle;\n",
       "    }\n",
       "\n",
       "    .dataframe tbody tr th {\n",
       "        vertical-align: top;\n",
       "    }\n",
       "\n",
       "    .dataframe thead th {\n",
       "        text-align: right;\n",
       "    }\n",
       "</style>\n",
       "<table border=\"1\" class=\"dataframe\">\n",
       "  <thead>\n",
       "    <tr style=\"text-align: right;\">\n",
       "      <th></th>\n",
       "      <th>Run</th>\n",
       "      <th>SortedStrain</th>\n",
       "      <th>project</th>\n",
       "      <th>condition</th>\n",
       "      <th>reference_condition</th>\n",
       "      <th>BioProject</th>\n",
       "      <th>TaxID</th>\n",
       "      <th>ReleaseDate</th>\n",
       "      <th>LoadDate</th>\n",
       "      <th>spots</th>\n",
       "      <th>...</th>\n",
       "      <th>dbgap_study_accession</th>\n",
       "      <th>Consent</th>\n",
       "      <th>RunHash</th>\n",
       "      <th>ReadHash</th>\n",
       "      <th>R1</th>\n",
       "      <th>R2</th>\n",
       "      <th>passed_fastqc</th>\n",
       "      <th>passed_reads_mapped_to_CDS</th>\n",
       "      <th>passed_global_correlation</th>\n",
       "      <th>skip</th>\n",
       "    </tr>\n",
       "  </thead>\n",
       "  <tbody>\n",
       "    <tr>\n",
       "      <th>ERX2826862</th>\n",
       "      <td>DRR084259</td>\n",
       "      <td>HG001</td>\n",
       "      <td>p574312</td>\n",
       "      <td>574312_0</td>\n",
       "      <td>574312_0</td>\n",
       "      <td>PRJDB5479</td>\n",
       "      <td>1280</td>\n",
       "      <td>2019-01-18 16:30:20</td>\n",
       "      <td>2019-01-18 16:31:22</td>\n",
       "      <td>24073797</td>\n",
       "      <td>...</td>\n",
       "      <td>NaN</td>\n",
       "      <td>public</td>\n",
       "      <td>69797B56C7226BE4D8C02A8AD3E91EEA</td>\n",
       "      <td>A522A281177112883E453D297DEA609F</td>\n",
       "      <td>NaN</td>\n",
       "      <td>NaN</td>\n",
       "      <td>True</td>\n",
       "      <td>True</td>\n",
       "      <td>True</td>\n",
       "      <td>NaN</td>\n",
       "    </tr>\n",
       "    <tr>\n",
       "      <th>ERX2826863</th>\n",
       "      <td>DRR084260</td>\n",
       "      <td>HG001</td>\n",
       "      <td>p574312</td>\n",
       "      <td>574312_11</td>\n",
       "      <td>574312_0</td>\n",
       "      <td>PRJDB5479</td>\n",
       "      <td>1280</td>\n",
       "      <td>2019-01-18 16:30:20</td>\n",
       "      <td>2019-01-18 16:32:13</td>\n",
       "      <td>20841672</td>\n",
       "      <td>...</td>\n",
       "      <td>NaN</td>\n",
       "      <td>public</td>\n",
       "      <td>B29BCF8E2E6CA207B96DE183FED55240</td>\n",
       "      <td>5FB98589C299944F785BC229F99525F0</td>\n",
       "      <td>NaN</td>\n",
       "      <td>NaN</td>\n",
       "      <td>True</td>\n",
       "      <td>True</td>\n",
       "      <td>True</td>\n",
       "      <td>NaN</td>\n",
       "    </tr>\n",
       "    <tr>\n",
       "      <th>ERX2826864</th>\n",
       "      <td>DRR084261</td>\n",
       "      <td>HG001</td>\n",
       "      <td>p574312</td>\n",
       "      <td>574312_12</td>\n",
       "      <td>574312_0</td>\n",
       "      <td>PRJDB5479</td>\n",
       "      <td>1280</td>\n",
       "      <td>2019-01-18 16:30:20</td>\n",
       "      <td>2019-01-18 16:31:52</td>\n",
       "      <td>35553662</td>\n",
       "      <td>...</td>\n",
       "      <td>NaN</td>\n",
       "      <td>public</td>\n",
       "      <td>82B66356ACA2779980ACC613173CC80C</td>\n",
       "      <td>F6BC964232E4CF153E5EC2238BAB44F0</td>\n",
       "      <td>NaN</td>\n",
       "      <td>NaN</td>\n",
       "      <td>True</td>\n",
       "      <td>True</td>\n",
       "      <td>True</td>\n",
       "      <td>NaN</td>\n",
       "    </tr>\n",
       "    <tr>\n",
       "      <th>ERX2826865</th>\n",
       "      <td>DRR084262</td>\n",
       "      <td>HG001</td>\n",
       "      <td>p574312</td>\n",
       "      <td>574312_13</td>\n",
       "      <td>574312_0</td>\n",
       "      <td>PRJDB5479</td>\n",
       "      <td>1280</td>\n",
       "      <td>2019-01-18 16:30:20</td>\n",
       "      <td>2019-01-18 16:31:45</td>\n",
       "      <td>15933822</td>\n",
       "      <td>...</td>\n",
       "      <td>NaN</td>\n",
       "      <td>public</td>\n",
       "      <td>1B57268C1A3178A404EC23FB71AE127A</td>\n",
       "      <td>1B3B69EC14A454C7D3E14C0D29CE8B5A</td>\n",
       "      <td>NaN</td>\n",
       "      <td>NaN</td>\n",
       "      <td>True</td>\n",
       "      <td>True</td>\n",
       "      <td>True</td>\n",
       "      <td>NaN</td>\n",
       "    </tr>\n",
       "    <tr>\n",
       "      <th>ERX2826866</th>\n",
       "      <td>DRR084263</td>\n",
       "      <td>HG001</td>\n",
       "      <td>p574312</td>\n",
       "      <td>574312_14</td>\n",
       "      <td>574312_0</td>\n",
       "      <td>PRJDB5479</td>\n",
       "      <td>1280</td>\n",
       "      <td>2019-01-18 16:30:20</td>\n",
       "      <td>2019-01-18 16:31:52</td>\n",
       "      <td>30638434</td>\n",
       "      <td>...</td>\n",
       "      <td>NaN</td>\n",
       "      <td>public</td>\n",
       "      <td>81163E8436CB2F2F282F0F589D5BAA12</td>\n",
       "      <td>7116DBC2E59DB778C591F0D3E11DE036</td>\n",
       "      <td>NaN</td>\n",
       "      <td>NaN</td>\n",
       "      <td>True</td>\n",
       "      <td>True</td>\n",
       "      <td>True</td>\n",
       "      <td>NaN</td>\n",
       "    </tr>\n",
       "  </tbody>\n",
       "</table>\n",
       "<p>5 rows × 57 columns</p>\n",
       "</div>"
      ],
      "text/plain": [
       "                  Run SortedStrain  project  condition reference_condition  \\\n",
       "ERX2826862  DRR084259        HG001  p574312   574312_0            574312_0   \n",
       "ERX2826863  DRR084260        HG001  p574312  574312_11            574312_0   \n",
       "ERX2826864  DRR084261        HG001  p574312  574312_12            574312_0   \n",
       "ERX2826865  DRR084262        HG001  p574312  574312_13            574312_0   \n",
       "ERX2826866  DRR084263        HG001  p574312  574312_14            574312_0   \n",
       "\n",
       "           BioProject  TaxID          ReleaseDate             LoadDate  \\\n",
       "ERX2826862  PRJDB5479   1280  2019-01-18 16:30:20  2019-01-18 16:31:22   \n",
       "ERX2826863  PRJDB5479   1280  2019-01-18 16:30:20  2019-01-18 16:32:13   \n",
       "ERX2826864  PRJDB5479   1280  2019-01-18 16:30:20  2019-01-18 16:31:52   \n",
       "ERX2826865  PRJDB5479   1280  2019-01-18 16:30:20  2019-01-18 16:31:45   \n",
       "ERX2826866  PRJDB5479   1280  2019-01-18 16:30:20  2019-01-18 16:31:52   \n",
       "\n",
       "               spots  ...  dbgap_study_accession  Consent  \\\n",
       "ERX2826862  24073797  ...                    NaN   public   \n",
       "ERX2826863  20841672  ...                    NaN   public   \n",
       "ERX2826864  35553662  ...                    NaN   public   \n",
       "ERX2826865  15933822  ...                    NaN   public   \n",
       "ERX2826866  30638434  ...                    NaN   public   \n",
       "\n",
       "                                     RunHash  \\\n",
       "ERX2826862  69797B56C7226BE4D8C02A8AD3E91EEA   \n",
       "ERX2826863  B29BCF8E2E6CA207B96DE183FED55240   \n",
       "ERX2826864  82B66356ACA2779980ACC613173CC80C   \n",
       "ERX2826865  1B57268C1A3178A404EC23FB71AE127A   \n",
       "ERX2826866  81163E8436CB2F2F282F0F589D5BAA12   \n",
       "\n",
       "                                    ReadHash  R1  R2 passed_fastqc  \\\n",
       "ERX2826862  A522A281177112883E453D297DEA609F NaN NaN          True   \n",
       "ERX2826863  5FB98589C299944F785BC229F99525F0 NaN NaN          True   \n",
       "ERX2826864  F6BC964232E4CF153E5EC2238BAB44F0 NaN NaN          True   \n",
       "ERX2826865  1B3B69EC14A454C7D3E14C0D29CE8B5A NaN NaN          True   \n",
       "ERX2826866  7116DBC2E59DB778C591F0D3E11DE036 NaN NaN          True   \n",
       "\n",
       "           passed_reads_mapped_to_CDS passed_global_correlation skip  \n",
       "ERX2826862                       True                      True  NaN  \n",
       "ERX2826863                       True                      True  NaN  \n",
       "ERX2826864                       True                      True  NaN  \n",
       "ERX2826865                       True                      True  NaN  \n",
       "ERX2826866                       True                      True  NaN  \n",
       "\n",
       "[5 rows x 57 columns]"
      ]
     },
     "execution_count": 5,
     "metadata": {},
     "output_type": "execute_result"
    }
   ],
   "source": [
    "DF_metadata = pd.read_csv(metadata_file,index_col=0,sep='\\t')\n",
    "print('Number of samples with curated metadata:',DF_metadata.shape[0])\n",
    "DF_metadata.head()"
   ]
  },
  {
   "cell_type": "code",
   "execution_count": 6,
   "metadata": {},
   "outputs": [],
   "source": [
    "DF_metadata_all = pd.read_csv(all_metadata_file,index_col=0,sep='\\t')"
   ]
  },
  {
   "cell_type": "markdown",
   "metadata": {},
   "source": [
    "## Remove samples due to poor metadata"
   ]
  },
  {
   "cell_type": "markdown",
   "metadata": {},
   "source": [
    "After curation, some samples either did not have enough replicates or metadata to warrant inclusion in this database."
   ]
  },
  {
   "cell_type": "code",
   "execution_count": 7,
   "metadata": {},
   "outputs": [
    {
     "name": "stdout",
     "output_type": "stream",
     "text": [
      "New number of samples with curated metadata: 121\n"
     ]
    },
    {
     "data": {
      "text/html": [
       "<div>\n",
       "<style scoped>\n",
       "    .dataframe tbody tr th:only-of-type {\n",
       "        vertical-align: middle;\n",
       "    }\n",
       "\n",
       "    .dataframe tbody tr th {\n",
       "        vertical-align: top;\n",
       "    }\n",
       "\n",
       "    .dataframe thead th {\n",
       "        text-align: right;\n",
       "    }\n",
       "</style>\n",
       "<table border=\"1\" class=\"dataframe\">\n",
       "  <thead>\n",
       "    <tr style=\"text-align: right;\">\n",
       "      <th></th>\n",
       "      <th>Run</th>\n",
       "      <th>SortedStrain</th>\n",
       "      <th>project</th>\n",
       "      <th>condition</th>\n",
       "      <th>reference_condition</th>\n",
       "      <th>BioProject</th>\n",
       "      <th>TaxID</th>\n",
       "      <th>ReleaseDate</th>\n",
       "      <th>LoadDate</th>\n",
       "      <th>spots</th>\n",
       "      <th>...</th>\n",
       "      <th>dbgap_study_accession</th>\n",
       "      <th>Consent</th>\n",
       "      <th>RunHash</th>\n",
       "      <th>ReadHash</th>\n",
       "      <th>R1</th>\n",
       "      <th>R2</th>\n",
       "      <th>passed_fastqc</th>\n",
       "      <th>passed_reads_mapped_to_CDS</th>\n",
       "      <th>passed_global_correlation</th>\n",
       "      <th>skip</th>\n",
       "    </tr>\n",
       "  </thead>\n",
       "  <tbody>\n",
       "    <tr>\n",
       "      <th>ERX2826862</th>\n",
       "      <td>DRR084259</td>\n",
       "      <td>HG001</td>\n",
       "      <td>p574312</td>\n",
       "      <td>574312_0</td>\n",
       "      <td>574312_0</td>\n",
       "      <td>PRJDB5479</td>\n",
       "      <td>1280</td>\n",
       "      <td>2019-01-18 16:30:20</td>\n",
       "      <td>2019-01-18 16:31:22</td>\n",
       "      <td>24073797</td>\n",
       "      <td>...</td>\n",
       "      <td>NaN</td>\n",
       "      <td>public</td>\n",
       "      <td>69797B56C7226BE4D8C02A8AD3E91EEA</td>\n",
       "      <td>A522A281177112883E453D297DEA609F</td>\n",
       "      <td>NaN</td>\n",
       "      <td>NaN</td>\n",
       "      <td>True</td>\n",
       "      <td>True</td>\n",
       "      <td>True</td>\n",
       "      <td>NaN</td>\n",
       "    </tr>\n",
       "    <tr>\n",
       "      <th>ERX2826863</th>\n",
       "      <td>DRR084260</td>\n",
       "      <td>HG001</td>\n",
       "      <td>p574312</td>\n",
       "      <td>574312_11</td>\n",
       "      <td>574312_0</td>\n",
       "      <td>PRJDB5479</td>\n",
       "      <td>1280</td>\n",
       "      <td>2019-01-18 16:30:20</td>\n",
       "      <td>2019-01-18 16:32:13</td>\n",
       "      <td>20841672</td>\n",
       "      <td>...</td>\n",
       "      <td>NaN</td>\n",
       "      <td>public</td>\n",
       "      <td>B29BCF8E2E6CA207B96DE183FED55240</td>\n",
       "      <td>5FB98589C299944F785BC229F99525F0</td>\n",
       "      <td>NaN</td>\n",
       "      <td>NaN</td>\n",
       "      <td>True</td>\n",
       "      <td>True</td>\n",
       "      <td>True</td>\n",
       "      <td>NaN</td>\n",
       "    </tr>\n",
       "    <tr>\n",
       "      <th>ERX2826864</th>\n",
       "      <td>DRR084261</td>\n",
       "      <td>HG001</td>\n",
       "      <td>p574312</td>\n",
       "      <td>574312_12</td>\n",
       "      <td>574312_0</td>\n",
       "      <td>PRJDB5479</td>\n",
       "      <td>1280</td>\n",
       "      <td>2019-01-18 16:30:20</td>\n",
       "      <td>2019-01-18 16:31:52</td>\n",
       "      <td>35553662</td>\n",
       "      <td>...</td>\n",
       "      <td>NaN</td>\n",
       "      <td>public</td>\n",
       "      <td>82B66356ACA2779980ACC613173CC80C</td>\n",
       "      <td>F6BC964232E4CF153E5EC2238BAB44F0</td>\n",
       "      <td>NaN</td>\n",
       "      <td>NaN</td>\n",
       "      <td>True</td>\n",
       "      <td>True</td>\n",
       "      <td>True</td>\n",
       "      <td>NaN</td>\n",
       "    </tr>\n",
       "    <tr>\n",
       "      <th>ERX2826865</th>\n",
       "      <td>DRR084262</td>\n",
       "      <td>HG001</td>\n",
       "      <td>p574312</td>\n",
       "      <td>574312_13</td>\n",
       "      <td>574312_0</td>\n",
       "      <td>PRJDB5479</td>\n",
       "      <td>1280</td>\n",
       "      <td>2019-01-18 16:30:20</td>\n",
       "      <td>2019-01-18 16:31:45</td>\n",
       "      <td>15933822</td>\n",
       "      <td>...</td>\n",
       "      <td>NaN</td>\n",
       "      <td>public</td>\n",
       "      <td>1B57268C1A3178A404EC23FB71AE127A</td>\n",
       "      <td>1B3B69EC14A454C7D3E14C0D29CE8B5A</td>\n",
       "      <td>NaN</td>\n",
       "      <td>NaN</td>\n",
       "      <td>True</td>\n",
       "      <td>True</td>\n",
       "      <td>True</td>\n",
       "      <td>NaN</td>\n",
       "    </tr>\n",
       "    <tr>\n",
       "      <th>ERX2826866</th>\n",
       "      <td>DRR084263</td>\n",
       "      <td>HG001</td>\n",
       "      <td>p574312</td>\n",
       "      <td>574312_14</td>\n",
       "      <td>574312_0</td>\n",
       "      <td>PRJDB5479</td>\n",
       "      <td>1280</td>\n",
       "      <td>2019-01-18 16:30:20</td>\n",
       "      <td>2019-01-18 16:31:52</td>\n",
       "      <td>30638434</td>\n",
       "      <td>...</td>\n",
       "      <td>NaN</td>\n",
       "      <td>public</td>\n",
       "      <td>81163E8436CB2F2F282F0F589D5BAA12</td>\n",
       "      <td>7116DBC2E59DB778C591F0D3E11DE036</td>\n",
       "      <td>NaN</td>\n",
       "      <td>NaN</td>\n",
       "      <td>True</td>\n",
       "      <td>True</td>\n",
       "      <td>True</td>\n",
       "      <td>NaN</td>\n",
       "    </tr>\n",
       "  </tbody>\n",
       "</table>\n",
       "<p>5 rows × 57 columns</p>\n",
       "</div>"
      ],
      "text/plain": [
       "                  Run SortedStrain  project  condition reference_condition  \\\n",
       "ERX2826862  DRR084259        HG001  p574312   574312_0            574312_0   \n",
       "ERX2826863  DRR084260        HG001  p574312  574312_11            574312_0   \n",
       "ERX2826864  DRR084261        HG001  p574312  574312_12            574312_0   \n",
       "ERX2826865  DRR084262        HG001  p574312  574312_13            574312_0   \n",
       "ERX2826866  DRR084263        HG001  p574312  574312_14            574312_0   \n",
       "\n",
       "           BioProject  TaxID          ReleaseDate             LoadDate  \\\n",
       "ERX2826862  PRJDB5479   1280  2019-01-18 16:30:20  2019-01-18 16:31:22   \n",
       "ERX2826863  PRJDB5479   1280  2019-01-18 16:30:20  2019-01-18 16:32:13   \n",
       "ERX2826864  PRJDB5479   1280  2019-01-18 16:30:20  2019-01-18 16:31:52   \n",
       "ERX2826865  PRJDB5479   1280  2019-01-18 16:30:20  2019-01-18 16:31:45   \n",
       "ERX2826866  PRJDB5479   1280  2019-01-18 16:30:20  2019-01-18 16:31:52   \n",
       "\n",
       "               spots  ...  dbgap_study_accession  Consent  \\\n",
       "ERX2826862  24073797  ...                    NaN   public   \n",
       "ERX2826863  20841672  ...                    NaN   public   \n",
       "ERX2826864  35553662  ...                    NaN   public   \n",
       "ERX2826865  15933822  ...                    NaN   public   \n",
       "ERX2826866  30638434  ...                    NaN   public   \n",
       "\n",
       "                                     RunHash  \\\n",
       "ERX2826862  69797B56C7226BE4D8C02A8AD3E91EEA   \n",
       "ERX2826863  B29BCF8E2E6CA207B96DE183FED55240   \n",
       "ERX2826864  82B66356ACA2779980ACC613173CC80C   \n",
       "ERX2826865  1B57268C1A3178A404EC23FB71AE127A   \n",
       "ERX2826866  81163E8436CB2F2F282F0F589D5BAA12   \n",
       "\n",
       "                                    ReadHash  R1  R2 passed_fastqc  \\\n",
       "ERX2826862  A522A281177112883E453D297DEA609F NaN NaN          True   \n",
       "ERX2826863  5FB98589C299944F785BC229F99525F0 NaN NaN          True   \n",
       "ERX2826864  F6BC964232E4CF153E5EC2238BAB44F0 NaN NaN          True   \n",
       "ERX2826865  1B3B69EC14A454C7D3E14C0D29CE8B5A NaN NaN          True   \n",
       "ERX2826866  7116DBC2E59DB778C591F0D3E11DE036 NaN NaN          True   \n",
       "\n",
       "           passed_reads_mapped_to_CDS passed_global_correlation skip  \n",
       "ERX2826862                       True                      True  NaN  \n",
       "ERX2826863                       True                      True  NaN  \n",
       "ERX2826864                       True                      True  NaN  \n",
       "ERX2826865                       True                      True  NaN  \n",
       "ERX2826866                       True                      True  NaN  \n",
       "\n",
       "[5 rows x 57 columns]"
      ]
     },
     "execution_count": 7,
     "metadata": {},
     "output_type": "execute_result"
    }
   ],
   "source": [
    "DF_metadata_passed_step4 = DF_metadata[~DF_metadata.skip.fillna(False)].copy()\n",
    "print('New number of samples with curated metadata:',DF_metadata_passed_step4.shape[0])\n",
    "DF_metadata_passed_step4.head()"
   ]
  },
  {
   "cell_type": "markdown",
   "metadata": {},
   "source": [
    "### Check curation\n",
    "Since manual curation is error-prone, we want to make sure that all samples have labels for their project and condition. In addition, there should only be one reference condition in each project, and it should be in the project itself.\n",
    "\n",
    "Any samples that fail these checks will be printed below."
   ]
  },
  {
   "cell_type": "code",
   "execution_count": 8,
   "metadata": {},
   "outputs": [],
   "source": [
    "assert(DF_metadata_passed_step4.project.notnull().all())\n",
    "assert(DF_metadata_passed_step4.condition.notnull().all())\n",
    "\n",
    "for name,group in DF_metadata_passed_step4.groupby('project'):\n",
    "    ref_cond = group.reference_condition.unique()\n",
    "    \n",
    "    # Ensure that there is only one reference condition per project\n",
    "    if not len(ref_cond) == 1:\n",
    "        print('Multiple reference conditions for:, name')\n",
    "    \n",
    "    # Ensure the reference condition is in fact in the project\n",
    "    ref_cond = ref_cond[0]\n",
    "    if not ref_cond in group.condition.tolist():\n",
    "        print('Reference condition not in project:', name)"
   ]
  },
  {
   "cell_type": "markdown",
   "metadata": {},
   "source": [
    "Next, make a new column called ``full_name`` that gives every experimental condition a unique, human-readable identifier."
   ]
  },
  {
   "cell_type": "code",
   "execution_count": 9,
   "metadata": {},
   "outputs": [],
   "source": [
    "DF_metadata_passed_step4['full_name'] = DF_metadata_passed_step4['project'].str.cat(DF_metadata_passed_step4['condition'],sep=':')"
   ]
  },
  {
   "cell_type": "markdown",
   "metadata": {},
   "source": [
    "### Remove samples with only one replicate"
   ]
  },
  {
   "cell_type": "markdown",
   "metadata": {},
   "source": [
    "First, find sample names that have at least two replicates."
   ]
  },
  {
   "cell_type": "code",
   "execution_count": null,
   "metadata": {},
   "outputs": [],
   "source": [
    "counts = DF_metadata_passed_step4.full_name.value_counts()\n",
    "keep_samples = counts[counts >= 2].index\n",
    "print(keep_samples[:5])"
   ]
  },
  {
   "cell_type": "markdown",
   "metadata": {},
   "source": [
    "Only keep these samples"
   ]
  },
  {
   "cell_type": "code",
   "execution_count": null,
   "metadata": {},
   "outputs": [],
   "source": [
    "DF_metadata_passed_step4 = DF_metadata_passed_step4[DF_metadata_passed_step4.full_name.isin(keep_samples)]\n",
    "print('New number of samples with curated metadata:',DF_metadata_passed_step4.shape[0])\n",
    "DF_metadata_passed_step4.head()"
   ]
  },
  {
   "cell_type": "markdown",
   "metadata": {},
   "source": [
    "### Save this information to the full metadata dataframe"
   ]
  },
  {
   "cell_type": "code",
   "execution_count": null,
   "metadata": {},
   "outputs": [],
   "source": [
    "DF_metadata_all['passed_curation'] = DF_metadata_all.index.isin(DF_metadata_passed_step4.index)"
   ]
  },
  {
   "cell_type": "markdown",
   "metadata": {},
   "source": [
    "## Check correlations between replicates"
   ]
  },
  {
   "cell_type": "markdown",
   "metadata": {},
   "source": [
    "### Remove failed data from log_tpm files"
   ]
  },
  {
   "cell_type": "code",
   "execution_count": null,
   "metadata": {},
   "outputs": [],
   "source": [
    "DF_log_tpm = DF_log_tpm[DF_metadata_passed_step4.index]"
   ]
  },
  {
   "cell_type": "markdown",
   "metadata": {},
   "source": [
    "### Compute Pearson R Score"
   ]
  },
  {
   "cell_type": "markdown",
   "metadata": {},
   "source": [
    "Biological replicates should have a Pearson R correlation above 0.95. For samples with more than 2 replicates, the replicates must have R >= 0.95 with at least one other replicate or it will be dropped. The correlation threshold can be changed below:"
   ]
  },
  {
   "cell_type": "code",
   "execution_count": null,
   "metadata": {},
   "outputs": [],
   "source": [
    "rcutoff = 0.95"
   ]
  },
  {
   "cell_type": "markdown",
   "metadata": {},
   "source": [
    "The following code computes correlations between all samples and collects correlations between replicates and non-replicates."
   ]
  },
  {
   "cell_type": "code",
   "execution_count": null,
   "metadata": {},
   "outputs": [],
   "source": [
    "rep_corrs = {}\n",
    "rand_corrs = {}\n",
    "\n",
    "num_comparisons = len(DF_metadata_passed_step4)*(len(DF_metadata_passed_step4)-1)/2\n",
    "\n",
    "for exp1,exp2 in tqdm(itertools.combinations(DF_metadata_passed_step4.index,2),total=num_comparisons):\n",
    "    if DF_metadata_passed_step4.loc[exp1,'full_name'] == DF_metadata_passed_step4.loc[exp2,'full_name']:\n",
    "        rep_corrs[(exp1,exp2)] = stats.pearsonr(DF_log_tpm[exp1],DF_log_tpm[exp2])[0]\n",
    "    else:\n",
    "        rand_corrs[(exp1,exp2)] = stats.pearsonr(DF_log_tpm[exp1],DF_log_tpm[exp2])[0]"
   ]
  },
  {
   "cell_type": "markdown",
   "metadata": {},
   "source": [
    "Correlations can be plotted on a histogram"
   ]
  },
  {
   "cell_type": "code",
   "execution_count": null,
   "metadata": {},
   "outputs": [],
   "source": [
    "fig,ax = plt.subplots(figsize=(5,5))\n",
    "ax2 = ax.twinx()\n",
    "ax2.hist(rep_corrs.values(),bins=50,range=(0.2,1),alpha=0.8,color='green',linewidth=0)\n",
    "ax.hist(rand_corrs.values(),bins=50,range=(0.2,1),alpha=0.8,color='blue',linewidth=0)\n",
    "ax.set_title('Pearson R correlation between experiments',fontsize=14)\n",
    "ax.set_xlabel('Pearson R correlation',fontsize=14)\n",
    "ax.set_ylabel('Different Conditions',fontsize=14)\n",
    "ax2.set_ylabel('Known Replicates',fontsize=14)\n",
    "\n",
    "med_corr = np.median([v for k,v in rep_corrs.items()])\n",
    "print('Median Pearson R between replicates: {:.2f}'.format(med_corr))"
   ]
  },
  {
   "cell_type": "markdown",
   "metadata": {},
   "source": [
    "Remove samples without any high-correlation replicates"
   ]
  },
  {
   "cell_type": "code",
   "execution_count": null,
   "metadata": {},
   "outputs": [],
   "source": [
    "dissimilar = []\n",
    "for idx, grp in DF_metadata_passed_step4.groupby('full_name'):\n",
    "    ident = np.identity(len(grp))\n",
    "    corrs = (DF_log_tpm[grp.index].corr() - ident).max()\n",
    "    dissimilar.extend(corrs[corrs<rcutoff].index)\n",
    "\n",
    "# Save this information in both the original metadata dataframe and the new metadata dataframe\n",
    "DF_metadata_all['passed_replicate_correlations'] = ~DF_metadata_all.index.isin(dissimilar)\n",
    "DF_metadata_passed_step4['passed_replicate_correlations'] = ~DF_metadata_passed_step4.index.isin(dissimilar)"
   ]
  },
  {
   "cell_type": "code",
   "execution_count": null,
   "metadata": {},
   "outputs": [],
   "source": [
    "DF_metadata_final = DF_metadata_passed_step4[DF_metadata_passed_step4['passed_replicate_correlations']]\n",
    "print('# Samples that passed replicate correlations:',len(DF_metadata_final))"
   ]
  },
  {
   "cell_type": "markdown",
   "metadata": {},
   "source": [
    "## Check that reference conditions still exist\n",
    "If a reference condition was removed due to poor replicate correlations, a new reference condition needs to be defined.\n",
    "\n",
    "Again, any samples that fail these checks will be printed below."
   ]
  },
  {
   "cell_type": "code",
   "execution_count": null,
   "metadata": {},
   "outputs": [],
   "source": [
    "project_exprs = []\n",
    "for name,group in DF_metadata_final.groupby('project'):\n",
    "    \n",
    "    # Get reference condition\n",
    "    ref_cond = group.reference_condition.iloc[0]\n",
    "    \n",
    "    # Ensure the reference condition is still in the project\n",
    "    if ref_cond not in group.condition.tolist():\n",
    "        print('Reference condition missing from:', name)\n",
    "    \n",
    "    # Check that each project has at least two conditions (a reference and at least one test condition)\n",
    "    if len(group.condition.unique()) <= 1:\n",
    "        print('Only one condition in:', name)"
   ]
  },
  {
   "cell_type": "markdown",
   "metadata": {},
   "source": [
    "If necessary, choose a new condition for failed projects and re-run notebook."
   ]
  },
  {
   "cell_type": "markdown",
   "metadata": {},
   "source": [
    "## Normalize dataset to reference conditions"
   ]
  },
  {
   "cell_type": "code",
   "execution_count": 11,
   "metadata": {},
   "outputs": [],
   "source": [
    "DF_metadata_final = DF_metadata_passed_step4.copy()"
   ]
  },
  {
   "cell_type": "code",
   "execution_count": 12,
   "metadata": {},
   "outputs": [],
   "source": [
    "DF_log_tpm_final = DF_log_tpm[DF_metadata_final.index]"
   ]
  },
  {
   "cell_type": "code",
   "execution_count": 13,
   "metadata": {},
   "outputs": [],
   "source": [
    "project_exprs = []\n",
    "for name,group in DF_metadata_final.groupby('project'):\n",
    "    \n",
    "    # Get reference condition\n",
    "    ref_cond = group.reference_condition.iloc[0]\n",
    "    \n",
    "    # Get reference condition sample ids\n",
    "    ref_samples = group[group.condition == ref_cond].index\n",
    "    \n",
    "    # Get reference condition expression\n",
    "    ref_expr = DF_log_tpm_final[ref_samples].mean(axis=1)\n",
    "    \n",
    "    # Subtract reference expression from project\n",
    "    project_exprs.append(DF_log_tpm_final[group.index].sub(ref_expr,axis=0))\n",
    "\n",
    "DF_log_tpm_norm = pd.concat(project_exprs,axis=1)"
   ]
  },
  {
   "cell_type": "markdown",
   "metadata": {},
   "source": [
    "## Save final datasets"
   ]
  },
  {
   "cell_type": "code",
   "execution_count": 14,
   "metadata": {},
   "outputs": [],
   "source": [
    "logTPM_qc_file = path.join('..','data','processed_data','/Users/louxuwen/Desktop/Documents/GitHub/BENG212_S_aureus/3_quality control/log_tpm.csv')\n",
    "logTPM_norm_file = path.join('..','data','processed_data','/Users/louxuwen/Desktop/Documents/GitHub/BENG212_S_aureus/3_quality control/log_tpm_norm.csv')\n",
    "final_metadata_file = path.join('..','data','processed_data','/Users/louxuwen/Desktop/Documents/GitHub/BENG212_S_aureus/3_quality control/metadata.tsv')\n",
    "final_metadata_all_file = path.join('..','data','interim','/Users/louxuwen/Desktop/Documents/GitHub/BENG212_S_aureus/3_quality control/metadata_qc_part2_all.tsv')\n",
    "\n",
    "DF_log_tpm_final.to_csv(logTPM_qc_file)\n",
    "DF_log_tpm_norm.to_csv(logTPM_norm_file)\n",
    "DF_metadata_final.to_csv(final_metadata_file, sep='\\t')\n",
    "DF_metadata_all.to_csv(final_metadata_all_file, sep='\\t')"
   ]
  },
  {
   "cell_type": "code",
   "execution_count": null,
   "metadata": {},
   "outputs": [],
   "source": []
  },
  {
   "cell_type": "code",
   "execution_count": null,
   "metadata": {},
   "outputs": [],
   "source": []
  }
 ],
 "metadata": {
  "kernelspec": {
   "display_name": "Python 3 (ipykernel)",
   "language": "python",
   "name": "python3"
  },
  "language_info": {
   "codemirror_mode": {
    "name": "ipython",
    "version": 3
   },
   "file_extension": ".py",
   "mimetype": "text/x-python",
   "name": "python",
   "nbconvert_exporter": "python",
   "pygments_lexer": "ipython3",
   "version": "3.9.13"
  },
  "toc": {
   "base_numbering": 1,
   "nav_menu": {},
   "number_sections": true,
   "sideBar": true,
   "skip_h1_title": false,
   "title_cell": "Table of Contents",
   "title_sidebar": "Contents",
   "toc_cell": true,
   "toc_position": {},
   "toc_section_display": true,
   "toc_window_display": false
  }
 },
 "nbformat": 4,
 "nbformat_minor": 2
}
