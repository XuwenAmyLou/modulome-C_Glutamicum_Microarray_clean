{
 "cells": [
  {
   "cell_type": "code",
   "execution_count": 1,
   "id": "4ccecad6",
   "metadata": {},
   "outputs": [],
   "source": [
    "import matplotlib.pyplot as plt\n",
    "import numpy as np\n",
    "import pandas as pd\n",
    "import seaborn as sns\n",
    "\n",
    "from os import path\n",
    "from pathlib import Path  "
   ]
  },
  {
   "cell_type": "code",
   "execution_count": 2,
   "id": "bf04ede9",
   "metadata": {},
   "outputs": [],
   "source": [
    "metadata_file = path.join('/Users/louxuwen/Desktop/Documents/GitHub/modulome-C_Glutamicum_Microarray_clean/6_quality_control/metadata_all.tsv') # Enter log-TPM filename here\n",
    "DF_metadata_all = pd.read_csv(metadata_file,index_col=0,sep='\\t')"
   ]
  },
  {
   "cell_type": "code",
   "execution_count": 3,
   "id": "fb1c9149",
   "metadata": {},
   "outputs": [],
   "source": [
    "DF_metadata_all = DF_metadata_all.sort_index()"
   ]
  },
  {
   "cell_type": "code",
   "execution_count": 4,
   "id": "815d77f1",
   "metadata": {},
   "outputs": [],
   "source": [
    "data_file = path.join('/Users/louxuwen/Desktop/Documents/GitHub/modulome-C_Glutamicum_Microarray_clean/5_make_conditions_ID/1_data_condition_ID.xlsx') # Enter metadata filename here\n",
    "data = pd.read_excel(data_file,index_col=0).fillna(\"NaN\")"
   ]
  },
  {
   "cell_type": "code",
   "execution_count": 10,
   "id": "f4965fb6",
   "metadata": {},
   "outputs": [],
   "source": [
    "data_ID =[]\n",
    "sources = data['Label strain'].tolist()\n",
    "serial = data.index.tolist()\n",
    "for i in range(len(sources)):\n",
    "    temp = str(serial[i])+\"_\"\n",
    "    if sources[i] == \"Cy5\":\n",
    "        temp = temp + \"1\"\n",
    "    else:\n",
    "        temp = temp + \"2\"\n",
    "    data_ID.append(temp)\n",
    "\n",
    "data[\"Assigned ID\"] = data_ID "
   ]
  },
  {
   "cell_type": "code",
   "execution_count": 12,
   "id": "01b1953f",
   "metadata": {},
   "outputs": [],
   "source": [
    "metadata_index = DF_metadata_all.index.tolist()\n",
    "data_index = data_ID\n",
    "data_condition = data['condition'].tolist()\n",
    "condition_IDS = []\n",
    "for i in range(len(metadata_index)):\n",
    "    temp = data_index.index(metadata_index[i])\n",
    "    condition_IDS.append(data_condition[temp])"
   ]
  },
  {
   "cell_type": "code",
   "execution_count": 13,
   "id": "87a9b49b",
   "metadata": {},
   "outputs": [],
   "source": [
    "DF_metadata_all['condition'] = condition_IDS"
   ]
  },
  {
   "cell_type": "code",
   "execution_count": 16,
   "id": "a5ace615",
   "metadata": {},
   "outputs": [],
   "source": [
    "project_ID = ['P1']*1608\n",
    "DF_metadata_all['project'] = project_ID"
   ]
  },
  {
   "cell_type": "code",
   "execution_count": 18,
   "id": "3ef48c33",
   "metadata": {},
   "outputs": [],
   "source": [
    "filepath = Path('/Users/louxuwen/Desktop/Documents/GitHub/modulome-C_Glutamicum_Microarray_clean/6_quality_control/metadata_all.tsv')\n",
    "filepath.parent.mkdir(parents=True, exist_ok=True)  \n",
    "DF_metadata_all.to_csv(filepath, sep='\\t')"
   ]
  },
  {
   "cell_type": "code",
   "execution_count": null,
   "id": "6a65db17",
   "metadata": {},
   "outputs": [],
   "source": []
  }
 ],
 "metadata": {
  "kernelspec": {
   "display_name": "Python 3 (ipykernel)",
   "language": "python",
   "name": "python3"
  },
  "language_info": {
   "codemirror_mode": {
    "name": "ipython",
    "version": 3
   },
   "file_extension": ".py",
   "mimetype": "text/x-python",
   "name": "python",
   "nbconvert_exporter": "python",
   "pygments_lexer": "ipython3",
   "version": "3.9.13"
  }
 },
 "nbformat": 4,
 "nbformat_minor": 5
}
