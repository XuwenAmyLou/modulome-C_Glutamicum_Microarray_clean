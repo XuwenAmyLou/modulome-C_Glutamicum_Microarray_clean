{
 "cells": [
  {
   "cell_type": "code",
   "execution_count": 1,
   "id": "6a26a796",
   "metadata": {},
   "outputs": [],
   "source": [
    "import matplotlib.pyplot as plt\n",
    "import numpy as np\n",
    "import pandas as pd\n",
    "import seaborn as sns\n",
    "\n",
    "from os import path\n",
    "from pathlib import Path  "
   ]
  },
  {
   "cell_type": "code",
   "execution_count": 2,
   "id": "5a835dc7",
   "metadata": {},
   "outputs": [],
   "source": [
    "data_file = path.join('/home/amy/Documents/GitHub/modulome-C_Glutamicum_Microarray_clean/5_make_conditions_ID/1_data_condition_ID.xlsx') # Enter metadata filename here\n",
    "data = pd.read_excel(data_file,index_col=0).fillna(\"NaN\")"
   ]
  },
  {
   "cell_type": "markdown",
   "id": "e3155b98",
   "metadata": {},
   "source": [
    "The following code are used to generate Experiment ID and Sample ID"
   ]
  },
  {
   "cell_type": "code",
   "execution_count": null,
   "id": "2a44e0de",
   "metadata": {},
   "outputs": [],
   "source": [
    "titles = data['Sample name'].tolist()\n",
    "platform =  data['Platform'].tolist()\n",
    "source = data['Label strain'].tolist()\n",
    "for i in range(len(titles)):\n",
    "    titles[i] = titles[i].replace(\"-rep1\",\"\")\n",
    "    titles[i] = titles[i].replace(\"-rep2\",\"\")\n",
    "    titles[i] = titles[i].replace(\"-rep3\",\"\")\n",
    "    titles[i] = titles[i].replace(\"-rep4\",\"\")\n",
    "    titles[i] = titles[i].replace(\"-rep5\",\"\")\n",
    "    titles[i] = titles[i].replace(\"-rep6\",\"\")\n",
    "    titles[i] = titles[i].replace(\"-rep7\",\"\")\n",
    "    titles[i] = titles[i].replace(\"-rep8\",\"\")\n",
    "    if titles[i][0].isdigit():\n",
    "        temp = titles[i].index('_')\n",
    "        titles[i] = titles[i][(temp+1):]\n",
    "#ds_conditions['Title'] = titles\n",
    "titles_set = list(set(titles))"
   ]
  },
  {
   "cell_type": "code",
   "execution_count": null,
   "id": "c7f34194",
   "metadata": {},
   "outputs": [],
   "source": [
    "Experiment_ID = []\n",
    "for i in range(len(titles)):\n",
    "    temp = \"Experiment\"+str(titles_set.index(titles[i]))\n",
    "    if source[i] == \"Cy5\":\n",
    "        temp = temp + \"_Source1\"\n",
    "    else:\n",
    "        temp = temp + \"_Source2\"\n",
    "    if platform[i] == \"Agilent\":\n",
    "        temp = temp + \"_Agilent\"\n",
    "    else:\n",
    "        temp = temp+ \"_Operon\"\n",
    "    Experiment_ID.append(temp)"
   ]
  },
  {
   "cell_type": "code",
   "execution_count": null,
   "id": "4b48170d",
   "metadata": {},
   "outputs": [],
   "source": [
    "conditions_set = list(set(Experiment_ID))\n",
    "conditions_ID = []\n",
    "for i in range(len(titles)):\n",
    "    temp = \"Condition\"+str(conditions_set.index(Experiment_ID[i]))\n",
    "    conditions_ID.append(temp)"
   ]
  },
  {
   "cell_type": "code",
   "execution_count": null,
   "id": "496f477d",
   "metadata": {},
   "outputs": [],
   "source": [
    "data[\"Experiment ID\"] = Experiment_ID\n",
    "data[\"condition\"] = conditions_ID\n",
    "data.drop(['Platform','Mean/Median','Fluorescence','Label strain'], axis = 1)"
   ]
  },
  {
   "cell_type": "code",
   "execution_count": null,
   "id": "da40cf6b",
   "metadata": {},
   "outputs": [],
   "source": [
    "filepath = Path('/home/amy/Documents/GitHub/modulome-C_Glutamicum_Microarray_clean/5_make_conditions_ID/1_data_condition_ID.xlsx')\n",
    "filepath.parent.mkdir(parents=True, exist_ok=True)  \n",
    "data.to_excel(filepath) "
   ]
  },
  {
   "cell_type": "markdown",
   "id": "da7c73ee",
   "metadata": {},
   "source": [
    "The following code outputs a \"log_TPM_file\""
   ]
  },
  {
   "cell_type": "code",
   "execution_count": 3,
   "id": "0809e78d",
   "metadata": {},
   "outputs": [
    {
     "name": "stdout",
     "output_type": "stream",
     "text": [
      "Number of samples with metadata: 1608\n"
     ]
    },
    {
     "data": {
      "text/html": [
       "<div>\n",
       "<style scoped>\n",
       "    .dataframe tbody tr th:only-of-type {\n",
       "        vertical-align: middle;\n",
       "    }\n",
       "\n",
       "    .dataframe tbody tr th {\n",
       "        vertical-align: top;\n",
       "    }\n",
       "\n",
       "    .dataframe thead th {\n",
       "        text-align: right;\n",
       "    }\n",
       "</style>\n",
       "<table border=\"1\" class=\"dataframe\">\n",
       "  <thead>\n",
       "    <tr style=\"text-align: right;\">\n",
       "      <th></th>\n",
       "      <th>serial number</th>\n",
       "      <th>media type</th>\n",
       "      <th>component</th>\n",
       "      <th>additional component</th>\n",
       "      <th>without</th>\n",
       "      <th>pH</th>\n",
       "      <th>strain type</th>\n",
       "      <th>strain info</th>\n",
       "      <th>Phase</th>\n",
       "      <th>Cultivation</th>\n",
       "      <th>Growth Rate</th>\n",
       "      <th>OD</th>\n",
       "      <th>bioreactor</th>\n",
       "    </tr>\n",
       "    <tr>\n",
       "      <th>Source</th>\n",
       "      <th></th>\n",
       "      <th></th>\n",
       "      <th></th>\n",
       "      <th></th>\n",
       "      <th></th>\n",
       "      <th></th>\n",
       "      <th></th>\n",
       "      <th></th>\n",
       "      <th></th>\n",
       "      <th></th>\n",
       "      <th></th>\n",
       "      <th></th>\n",
       "      <th></th>\n",
       "    </tr>\n",
       "  </thead>\n",
       "  <tbody>\n",
       "    <tr>\n",
       "      <th>1</th>\n",
       "      <td>GSM5197020</td>\n",
       "      <td>CGXII</td>\n",
       "      <td>glucose</td>\n",
       "      <td>NaN</td>\n",
       "      <td>NaN</td>\n",
       "      <td>NaN</td>\n",
       "      <td>wild type</td>\n",
       "      <td>WT</td>\n",
       "      <td>stationary</td>\n",
       "      <td>NaN</td>\n",
       "      <td>NaN</td>\n",
       "      <td>30.0</td>\n",
       "      <td>False</td>\n",
       "    </tr>\n",
       "    <tr>\n",
       "      <th>1</th>\n",
       "      <td>GSM5197021</td>\n",
       "      <td>CGXII</td>\n",
       "      <td>glucose</td>\n",
       "      <td>NaN</td>\n",
       "      <td>NaN</td>\n",
       "      <td>NaN</td>\n",
       "      <td>wild type</td>\n",
       "      <td>WT</td>\n",
       "      <td>stationary</td>\n",
       "      <td>NaN</td>\n",
       "      <td>NaN</td>\n",
       "      <td>30.0</td>\n",
       "      <td>False</td>\n",
       "    </tr>\n",
       "    <tr>\n",
       "      <th>1</th>\n",
       "      <td>GSM5197022</td>\n",
       "      <td>CGXII</td>\n",
       "      <td>glucose</td>\n",
       "      <td>NaN</td>\n",
       "      <td>NaN</td>\n",
       "      <td>NaN</td>\n",
       "      <td>wild type</td>\n",
       "      <td>WT</td>\n",
       "      <td>stationary</td>\n",
       "      <td>NaN</td>\n",
       "      <td>NaN</td>\n",
       "      <td>30.0</td>\n",
       "      <td>False</td>\n",
       "    </tr>\n",
       "    <tr>\n",
       "      <th>1</th>\n",
       "      <td>GSM5197023</td>\n",
       "      <td>CGXII</td>\n",
       "      <td>glucose</td>\n",
       "      <td>NaN</td>\n",
       "      <td>NaN</td>\n",
       "      <td>NaN</td>\n",
       "      <td>wild type</td>\n",
       "      <td>WT</td>\n",
       "      <td>stationary</td>\n",
       "      <td>NaN</td>\n",
       "      <td>NaN</td>\n",
       "      <td>30.0</td>\n",
       "      <td>False</td>\n",
       "    </tr>\n",
       "    <tr>\n",
       "      <th>1</th>\n",
       "      <td>GSM5197024</td>\n",
       "      <td>CGXII</td>\n",
       "      <td>glucose</td>\n",
       "      <td>NaN</td>\n",
       "      <td>NaN</td>\n",
       "      <td>NaN</td>\n",
       "      <td>wild type</td>\n",
       "      <td>WT</td>\n",
       "      <td>stationary</td>\n",
       "      <td>NaN</td>\n",
       "      <td>NaN</td>\n",
       "      <td>75.0</td>\n",
       "      <td>False</td>\n",
       "    </tr>\n",
       "  </tbody>\n",
       "</table>\n",
       "</div>"
      ],
      "text/plain": [
       "       serial number media type component additional component without   pH  \\\n",
       "Source                                                                        \n",
       "1         GSM5197020      CGXII   glucose                  NaN     NaN  NaN   \n",
       "1         GSM5197021      CGXII   glucose                  NaN     NaN  NaN   \n",
       "1         GSM5197022      CGXII   glucose                  NaN     NaN  NaN   \n",
       "1         GSM5197023      CGXII   glucose                  NaN     NaN  NaN   \n",
       "1         GSM5197024      CGXII   glucose                  NaN     NaN  NaN   \n",
       "\n",
       "       strain type strain info       Phase Cultivation  Growth Rate    OD  \\\n",
       "Source                                                                      \n",
       "1        wild type          WT  stationary         NaN          NaN  30.0   \n",
       "1        wild type          WT  stationary         NaN          NaN  30.0   \n",
       "1        wild type          WT  stationary         NaN          NaN  30.0   \n",
       "1        wild type          WT  stationary         NaN          NaN  30.0   \n",
       "1        wild type          WT  stationary         NaN          NaN  75.0   \n",
       "\n",
       "        bioreactor  \n",
       "Source              \n",
       "1            False  \n",
       "1            False  \n",
       "1            False  \n",
       "1            False  \n",
       "1            False  "
      ]
     },
     "execution_count": 3,
     "metadata": {},
     "output_type": "execute_result"
    }
   ],
   "source": [
    "metadata_file = path.join('/home/amy/Documents/GitHub/modulome-C_Glutamicum_Microarray_clean/4_unique_conditions/3_conditions_in.xlsx') # Enter log-TPM filename here\n",
    "DF_metadata = pd.read_excel(metadata_file,index_col=0)\n",
    "print('Number of samples with metadata:',DF_metadata.shape[0])"
   ]
  },
  {
   "cell_type": "code",
   "execution_count": 5,
   "id": "6bfbb57e",
   "metadata": {},
   "outputs": [],
   "source": [
    "data = data.drop(['Platform', 'Sample name', 'Mean/Median', 'Fluorescence','Sample ID.1'], axis=1)\n",
    "data.sort_index()"
   ]
  },
  {
   "cell_type": "code",
   "execution_count": 22,
   "id": "5b93642a",
   "metadata": {},
   "outputs": [],
   "source": [
    "data_s1 = data[data['Label strain'] == 'Cy5']\n",
    "data_s2 = data[data['Label strain'] == 'Cy3']\n",
    "data_s1 = data_s1.sort_index()\n",
    "data_s2 = data_s2.sort_index()"
   ]
  },
  {
   "cell_type": "code",
   "execution_count": 23,
   "id": "d091b251",
   "metadata": {},
   "outputs": [],
   "source": [
    "experiment_ID = data_s1['Experiment ID'].tolist() + data_s2['Experiment ID'].tolist()\n",
    "condition_ID = data_s1['condition'].tolist() + data_s2['condition'].tolist()\n",
    "project_ID = ['P1']*1608"
   ]
  },
  {
   "cell_type": "code",
   "execution_count": 24,
   "id": "38ea38e1",
   "metadata": {},
   "outputs": [],
   "source": [
    "DF_metadata['Experiment ID'] = experiment_ID\n",
    "DF_metadata['project'] = project_ID\n",
    "DF_metadata['condition'] = condition_ID"
   ]
  },
  {
   "cell_type": "code",
   "execution_count": 27,
   "id": "58149107",
   "metadata": {},
   "outputs": [],
   "source": [
    "filepath = Path('/home/amy/Documents/GitHub/modulome-C_Glutamicum_Microarray_clean/6_quality_control/metadata.xlsx')\n",
    "filepath.parent.mkdir(parents=True, exist_ok=True)  \n",
    "DF_metadata.to_excel(filepath) "
   ]
  },
  {
   "cell_type": "code",
   "execution_count": null,
   "id": "56704912",
   "metadata": {},
   "outputs": [],
   "source": []
  }
 ],
 "metadata": {
  "kernelspec": {
   "display_name": "Python 3 (ipykernel)",
   "language": "python",
   "name": "python3"
  },
  "language_info": {
   "codemirror_mode": {
    "name": "ipython",
    "version": 3
   },
   "file_extension": ".py",
   "mimetype": "text/x-python",
   "name": "python",
   "nbconvert_exporter": "python",
   "pygments_lexer": "ipython3",
   "version": "3.7.16"
  }
 },
 "nbformat": 4,
 "nbformat_minor": 5
}
