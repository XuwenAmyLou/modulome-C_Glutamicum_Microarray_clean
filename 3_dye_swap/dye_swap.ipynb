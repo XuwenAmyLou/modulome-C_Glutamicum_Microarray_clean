{
 "cells": [
  {
   "cell_type": "code",
   "execution_count": 2,
   "id": "23c961fa",
   "metadata": {},
   "outputs": [],
   "source": [
    "import matplotlib.pyplot as plt\n",
    "import numpy as np\n",
    "import pandas as pd\n",
    "import seaborn as sns\n",
    "\n",
    "from os import path\n",
    "from pathlib import Path  "
   ]
  },
  {
   "cell_type": "code",
   "execution_count": 3,
   "id": "f69957bf",
   "metadata": {},
   "outputs": [],
   "source": [
    "netdata_file = path.join('/Users/louxuwen/Desktop/Documents/GitHub/modulome-C_Glutamicum_Microarray_clean/1_metadata_file/3_net_data_ID.xlsx') # Enter metadata filename here\n",
    "net_data = pd.read_excel(netdata_file,index_col=0)\n",
    "conditions_file = path.join('/Users/louxuwen/Desktop/Documents/GitHub/modulome-C_Glutamicum_Microarray_clean/2_Condition_Extraction/Conditions_trimmed.xlsx') # Enter metadata filename here\n",
    "conditions = pd.read_excel(conditions_file,index_col=0)"
   ]
  },
  {
   "cell_type": "code",
   "execution_count": 4,
   "id": "4ecc08c1",
   "metadata": {},
   "outputs": [],
   "source": [
    "ds_conditions = conditions.drop(['Source name 1', 'Description 1','Source name 2', 'Description 2'], axis = 1)"
   ]
  },
  {
   "cell_type": "markdown",
   "id": "fe435e7a",
   "metadata": {},
   "source": [
    "1. checked for weird titles\n",
    "2. checked for multiple dye swap\n",
    "3. as long as first source has 'Cy3', it is a dye swap\n",
    "\n",
    "following code block is not used in getting dye swap list"
   ]
  },
  {
   "cell_type": "code",
   "execution_count": null,
   "id": "037e4313",
   "metadata": {},
   "outputs": [],
   "source": [
    "titles = ds_conditions['Title'].tolist()\n",
    "for i in range(len(titles)):\n",
    "    titles[i] = titles[i].replace(\"-rep1\",\"\")\n",
    "    titles[i] = titles[i].replace(\"-rep2\",\"\")\n",
    "    titles[i] = titles[i].replace(\"-rep3\",\"\")\n",
    "    titles[i] = titles[i].replace(\"-rep4\",\"\")\n",
    "    titles[i] = titles[i].replace(\"-rep5\",\"\")\n",
    "    titles[i] = titles[i].replace(\"-rep6\",\"\")\n",
    "    titles[i] = titles[i].replace(\"-rep7\",\"\")\n",
    "    titles[i] = titles[i].replace(\"-rep8\",\"\")\n",
    "    if titles[i][0].isdigit():\n",
    "        temp = titles[i].index('_')\n",
    "        titles[i] = titles[i][(temp+1):]\n",
    "ds_conditions['Title'] = titles\n",
    "titles_set = set(titles)\n",
    "for i in titles_set:\n",
    "    temp = ds_conditions[ds_conditions['Title'] == i]\n",
    "    labels = temp['Label 1'].tolist()\n",
    "    counter_5 = labels.count('Cy5')\n",
    "    counter_3 = labels.count('Cy3')\n",
    "    if counter_5 < counter_3:\n",
    "        print(i)"
   ]
  },
  {
   "cell_type": "code",
   "execution_count": 5,
   "id": "1e6f5b3b",
   "metadata": {},
   "outputs": [],
   "source": [
    "dye_swap = ds_conditions[ds_conditions['Label 1'] == 'Cy3'].index.tolist()\n",
    "for i in dye_swap:\n",
    "    indice = net_data[net_data['Sample ID'] == i].index.tolist()\n",
    "    a = net_data[net_data['Sample ID'] == i]['Label strain'].tolist()\n",
    "    temp1 = a[0]\n",
    "    temp2 = a[1]\n",
    "    net_data.loc[indice[1],'Label strain'] = temp1\n",
    "    net_data.loc[indice[0],'Label strain'] = temp2"
   ]
  },
  {
   "cell_type": "code",
   "execution_count": 6,
   "id": "a960c2b9",
   "metadata": {},
   "outputs": [],
   "source": [
    "filepath = Path('/Users/louxuwen/Desktop/Documents/GitHub/modulome-C_Glutamicum_Microarray_clean/3_dye_swap/net_data_swapped.xlsx')  \n",
    "filepath.parent.mkdir(parents=True, exist_ok=True)  \n",
    "net_data.to_excel(filepath) "
   ]
  },
  {
   "cell_type": "code",
   "execution_count": null,
   "id": "2b31c68f",
   "metadata": {},
   "outputs": [],
   "source": []
  }
 ],
 "metadata": {
  "kernelspec": {
   "display_name": "Python 3 (ipykernel)",
   "language": "python",
   "name": "python3"
  },
  "language_info": {
   "codemirror_mode": {
    "name": "ipython",
    "version": 3
   },
   "file_extension": ".py",
   "mimetype": "text/x-python",
   "name": "python",
   "nbconvert_exporter": "python",
   "pygments_lexer": "ipython3",
   "version": "3.7.16"
  }
 },
 "nbformat": 4,
 "nbformat_minor": 5
}
