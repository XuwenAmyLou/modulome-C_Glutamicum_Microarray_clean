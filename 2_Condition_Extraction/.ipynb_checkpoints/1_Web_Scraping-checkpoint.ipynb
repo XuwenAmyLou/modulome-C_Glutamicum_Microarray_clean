{
 "cells": [
  {
   "cell_type": "markdown",
   "id": "6dfe54e6",
   "metadata": {},
   "source": [
    "Purpose: scrape all information from GEO database and put relevant information in an excel sheet"
   ]
  },
  {
   "cell_type": "code",
   "execution_count": 1,
   "id": "c090925d",
   "metadata": {},
   "outputs": [],
   "source": [
    "import requests\n",
    "import pandas as pd\n",
    "from os import path\n",
    "from pathlib import Path  \n",
    "\n",
    "title = [] # title\n",
    "s_1 = [] # source name 1\n",
    "c_1 = [] # characteristics 1\n",
    "l_1 = [] # label 1\n",
    "s_2 = [] # source name 1\n",
    "c_2 = [] # characteristics 2\n",
    "l_2 = [] # label 2\n",
    "Serial_number = [] # index / Serial number"
   ]
  },
  {
   "cell_type": "code",
   "execution_count": 2,
   "id": "98566f50",
   "metadata": {},
   "outputs": [],
   "source": [
    "# initialize Serial numbers\n",
    "for i in range(928):\n",
    "    if i != 864: # skip this one because it was deleted from the database\n",
    "        temp_1 = 7020 + i\n",
    "        temp_2 = \"GSM519\" + str(temp_1)\n",
    "        Serial_number.append(temp_2)\n",
    "\n",
    "# scraping information\n",
    "for i in range(928):\n",
    "    if i != 864:\n",
    "        \n",
    "        # get info\n",
    "        temp = 7020 + i\n",
    "        link = \"https://www.ncbi.nlm.nih.gov/geo/query/acc.cgi?acc=GSM519\" + str(temp)\n",
    "        r = requests.get(link)\n",
    "        df_list = pd.read_html(r.text)\n",
    "    \n",
    "        # put into the list\n",
    "        df = df_list[14].set_index(0)\n",
    "        title.append(df.iloc[2].values[0]) # title\n",
    "        s_1.append(df.iloc[6].values[0]) # source name 1\n",
    "        c_1.append(df.iloc[8].values[0]) # characteristics 1\n",
    "        l_1.append(df.iloc[11].values[0]) # label 1\n",
    "        s_2.append(df.iloc[15].values[0]) # source name 1\n",
    "        c_2.append(df.iloc[17].values[0]) # characteristics 2\n",
    "        l_2.append(df.iloc[20].values[0]) # label 2"
   ]
  },
  {
   "cell_type": "code",
   "execution_count": 3,
   "id": "ffe01f57",
   "metadata": {},
   "outputs": [],
   "source": [
    "# make dataframe\n",
    "data = {'Title': title, \n",
    "        'Source name 1': s_1, \n",
    "        'Description 1': c_1, \n",
    "        'Label 1': l_1, \n",
    "        'Source name 2': s_2, \n",
    "        'Description 2': c_2, \n",
    "        'Label 2': l_2}  \n",
    "df = pd.DataFrame(data, index = Serial_number)  "
   ]
  },
  {
   "cell_type": "code",
   "execution_count": 4,
   "id": "2b8fa3be",
   "metadata": {},
   "outputs": [],
   "source": [
    "# export to excel file\n",
    "filepath = Path('/Users/louxuwen/Desktop/Documents/GitHub/modulome-C_Glutamicum_Microarray_clean/2_Condition_Extraction/conditions.xlsx')  \n",
    "filepath.parent.mkdir(parents=True, exist_ok=True)  \n",
    "df.to_excel(filepath) "
   ]
  }
 ],
 "metadata": {
  "kernelspec": {
   "display_name": "Python 3 (ipykernel)",
   "language": "python",
   "name": "python3"
  },
  "language_info": {
   "codemirror_mode": {
    "name": "ipython",
    "version": 3
   },
   "file_extension": ".py",
   "mimetype": "text/x-python",
   "name": "python",
   "nbconvert_exporter": "python",
   "pygments_lexer": "ipython3",
   "version": "3.7.16"
  }
 },
 "nbformat": 4,
 "nbformat_minor": 5
}
